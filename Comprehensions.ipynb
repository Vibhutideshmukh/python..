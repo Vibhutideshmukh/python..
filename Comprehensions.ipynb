{
  "nbformat": 4,
  "nbformat_minor": 0,
  "metadata": {
    "colab": {
      "provenance": [],
      "authorship_tag": "ABX9TyMi7KOueCtwQ2qd/NNQBWkP",
      "include_colab_link": true
    },
    "kernelspec": {
      "name": "python3",
      "display_name": "Python 3"
    },
    "language_info": {
      "name": "python"
    }
  },
  "cells": [
    {
      "cell_type": "markdown",
      "metadata": {
        "id": "view-in-github",
        "colab_type": "text"
      },
      "source": [
        "<a href=\"https://colab.research.google.com/github/Vibhutideshmukh/python../blob/main/Comprehensions.ipynb\" target=\"_parent\"><img src=\"https://colab.research.google.com/assets/colab-badge.svg\" alt=\"Open In Colab\"/></a>"
      ]
    },
    {
      "cell_type": "code",
      "execution_count": null,
      "metadata": {
        "id": "dBM12ETNExxJ",
        "colab": {
          "base_uri": "https://localhost:8080/"
        },
        "outputId": "8c356a3e-d6ef-4a4c-b267-e9b5931923d9"
      },
      "outputs": [
        {
          "output_type": "stream",
          "name": "stdout",
          "text": [
            "The list of squared numbers is [1]\n",
            "The list of squared numbers is [1, 4]\n",
            "The list of squared numbers is [1, 4, 16]\n",
            "The list of squared numbers is [1, 4, 16, 36]\n",
            "The list of squared numbers is [1, 4, 16, 36, 121]\n",
            "The list of squared numbers is [1, 4, 16, 36, 121, 196]\n",
            "The list of squared numbers is [1, 4, 16, 36, 121, 196, 289]\n",
            "The list of squared numbers is [1, 4, 16, 36, 121, 196, 289, 400]\n"
          ]
        }
      ],
      "source": [
        "list_of_numbers = [1,2,4,6,11,14,17,20]\n",
        "squared_numbers = []\n",
        "for number in list_of_numbers:\n",
        "    squared_numbers.append(number**2)\n",
        "    print(f\"The list of squared numbers is {squared_numbers}\")\n"
      ]
    },
    {
      "cell_type": "code",
      "source": [
        "print(list_of_numbers)"
      ],
      "metadata": {
        "colab": {
          "base_uri": "https://localhost:8080/"
        },
        "id": "ZL9CgqmZGFOT",
        "outputId": "0a81678b-4bcd-4a88-f3e1-cd1410c198df"
      },
      "execution_count": null,
      "outputs": [
        {
          "output_type": "stream",
          "name": "stdout",
          "text": [
            "[1, 2, 4, 6, 11, 14, 17, 20]\n"
          ]
        }
      ]
    },
    {
      "cell_type": "code",
      "source": [
        "squared_numbers = [number**2 for number in list_of_numbers]\n",
        "print(squared_numbers)\n"
      ],
      "metadata": {
        "colab": {
          "base_uri": "https://localhost:8080/"
        },
        "id": "Bw6v1RLQGJHo",
        "outputId": "f2c93262-7e56-4a15-c1f6-557560dcbb70"
      },
      "execution_count": null,
      "outputs": [
        {
          "output_type": "stream",
          "name": "stdout",
          "text": [
            "[1, 4, 16, 36, 121, 196, 289, 400]\n"
          ]
        }
      ]
    },
    {
      "cell_type": "code",
      "source": [
        "even_squared_numbers =[number**2 for number in list_of_numbers if number%2==0]\n",
        "print(even_squared_numbers)"
      ],
      "metadata": {
        "colab": {
          "base_uri": "https://localhost:8080/"
        },
        "id": "jh4Z6lUrGM7O",
        "outputId": "85164293-b560-4178-e69d-04a575e5f768"
      },
      "execution_count": null,
      "outputs": [
        {
          "output_type": "stream",
          "name": "stdout",
          "text": [
            "[4, 16, 36, 196, 400]\n"
          ]
        }
      ]
    },
    {
      "cell_type": "code",
      "source": [
        "odd_squared_numbers =[number**2 if number%2!=0 else number**3 for number in list_of_numbers ]\n",
        "print(odd_squared_numbers)"
      ],
      "metadata": {
        "colab": {
          "base_uri": "https://localhost:8080/"
        },
        "id": "HsFVWznXGQ5F",
        "outputId": "5b14e0d7-05b8-4904-8b22-b4d913e0b76c"
      },
      "execution_count": null,
      "outputs": [
        {
          "output_type": "stream",
          "name": "stdout",
          "text": [
            "[1, 8, 64, 216, 121, 2744, 289, 8000]\n"
          ]
        }
      ]
    },
    {
      "cell_type": "code",
      "source": [
        "odd_squared_numbers =[number**2 for number in list_of_numbers if number%2!=0]\n",
        "print(odd_squared_numbers)"
      ],
      "metadata": {
        "colab": {
          "base_uri": "https://localhost:8080/"
        },
        "id": "LRI_jnpgGVYJ",
        "outputId": "00893ee0-54ac-4cdd-c74a-01c68af4da02"
      },
      "execution_count": null,
      "outputs": [
        {
          "output_type": "stream",
          "name": "stdout",
          "text": [
            "[1, 121, 289]\n"
          ]
        }
      ]
    },
    {
      "cell_type": "code",
      "source": [
        "list_of_numbers = []\n",
        "for num1 in range(4):\n",
        "  for num2 in range(3):\n",
        "      list_of_numbers.append(num2)\n",
        "      print(list_of_numbers)"
      ],
      "metadata": {
        "colab": {
          "base_uri": "https://localhost:8080/"
        },
        "id": "IcP_AifWGZxS",
        "outputId": "bcf757c5-9aad-4e48-cf8c-939f33330d9b"
      },
      "execution_count": null,
      "outputs": [
        {
          "output_type": "stream",
          "name": "stdout",
          "text": [
            "[0]\n",
            "[0, 1]\n",
            "[0, 1, 2]\n",
            "[0, 1, 2, 0]\n",
            "[0, 1, 2, 0, 1]\n",
            "[0, 1, 2, 0, 1, 2]\n",
            "[0, 1, 2, 0, 1, 2, 0]\n",
            "[0, 1, 2, 0, 1, 2, 0, 1]\n",
            "[0, 1, 2, 0, 1, 2, 0, 1, 2]\n",
            "[0, 1, 2, 0, 1, 2, 0, 1, 2, 0]\n",
            "[0, 1, 2, 0, 1, 2, 0, 1, 2, 0, 1]\n",
            "[0, 1, 2, 0, 1, 2, 0, 1, 2, 0, 1, 2]\n"
          ]
        }
      ]
    },
    {
      "cell_type": "code",
      "source": [
        "list(range(4))"
      ],
      "metadata": {
        "colab": {
          "base_uri": "https://localhost:8080/"
        },
        "id": "BnPiNrccGehM",
        "outputId": "affa8737-2269-4169-e05a-1d0d5578f825"
      },
      "execution_count": null,
      "outputs": [
        {
          "output_type": "execute_result",
          "data": {
            "text/plain": [
              "[0, 1, 2, 3]"
            ]
          },
          "metadata": {},
          "execution_count": 8
        }
      ]
    },
    {
      "cell_type": "code",
      "source": [
        "list_of_numbers = [num2 for num1 in range(4) for num2 in range(3)]\n",
        "print(list_of_numbers)"
      ],
      "metadata": {
        "colab": {
          "base_uri": "https://localhost:8080/"
        },
        "id": "Jp47ALXIGinr",
        "outputId": "6baeae12-11bb-4d7f-b27c-5bf2804f1b46"
      },
      "execution_count": null,
      "outputs": [
        {
          "output_type": "stream",
          "name": "stdout",
          "text": [
            "[0, 1, 2, 0, 1, 2, 0, 1, 2, 0, 1, 2]\n"
          ]
        }
      ]
    },
    {
      "cell_type": "code",
      "source": [
        "list_of_numbers = [num2**2 for num2 in range(3) for num1 in range(4)]\n",
        "print(list_of_numbers)"
      ],
      "metadata": {
        "colab": {
          "base_uri": "https://localhost:8080/"
        },
        "id": "na4fsUoNGo_e",
        "outputId": "430fcb2b-1973-4447-f06f-410e3fbc4134"
      },
      "execution_count": null,
      "outputs": [
        {
          "output_type": "stream",
          "name": "stdout",
          "text": [
            "[0, 0, 0, 0, 1, 1, 1, 1, 4, 4, 4, 4]\n"
          ]
        }
      ]
    },
    {
      "cell_type": "code",
      "source": [
        "list_of_lists = []\n",
        "for num1 in range(4):\n",
        "  list_of_lists.append([])\n",
        "    for num2 in range(3):\n",
        "        list_of_lists[num1].append(num2)\n",
        "        print(list_of_lists)\n"
      ],
      "metadata": {
        "id": "Sx76XozMGt6V",
        "outputId": "4994bd5a-1992-44f7-bdbc-67c1a4552836",
        "colab": {
          "base_uri": "https://localhost:8080/",
          "height": 106
        }
      },
      "execution_count": 13,
      "outputs": [
        {
          "output_type": "error",
          "ename": "IndentationError",
          "evalue": "unexpected indent (<ipython-input-13-6ed2fd4c40c9>, line 4)",
          "traceback": [
            "\u001b[0;36m  File \u001b[0;32m\"<ipython-input-13-6ed2fd4c40c9>\"\u001b[0;36m, line \u001b[0;32m4\u001b[0m\n\u001b[0;31m    for num2 in range(3):\u001b[0m\n\u001b[0m    ^\u001b[0m\n\u001b[0;31mIndentationError\u001b[0m\u001b[0;31m:\u001b[0m unexpected indent\n"
          ]
        }
      ]
    },
    {
      "cell_type": "code",
      "source": [
        "sample = [[]]\n",
        "len(sample)\n",
        "sample[0]\n",
        ""
      ],
      "metadata": {
        "colab": {
          "base_uri": "https://localhost:8080/"
        },
        "id": "rj-gbrLbG7rT",
        "outputId": "f774bce8-8833-4d1c-f250-b4507fdbfbfc"
      },
      "execution_count": 15,
      "outputs": [
        {
          "output_type": "execute_result",
          "data": {
            "text/plain": [
              "[]"
            ]
          },
          "metadata": {},
          "execution_count": 15
        }
      ]
    },
    {
      "cell_type": "code",
      "source": [
        "list_of_lists = [[num1 for num2 in range(3)] for num1 in range(4)]\n",
        "print(list_of_lists)"
      ],
      "metadata": {
        "colab": {
          "base_uri": "https://localhost:8080/"
        },
        "id": "xPdMupY5HAtQ",
        "outputId": "ec0084d1-d6d9-4c4d-ccd3-7cfc9178955a"
      },
      "execution_count": 16,
      "outputs": [
        {
          "output_type": "stream",
          "name": "stdout",
          "text": [
            "[[0, 0, 0], [1, 1, 1], [2, 2, 2], [3, 3, 3]]\n"
          ]
        }
      ]
    },
    {
      "cell_type": "code",
      "source": [
        "heisenberg_quote = \"It ceases to exist without me. No, you clearly don't know who you're talking to, so let me clue you in. I am not in danger \"\n",
        "words_by_walter = heisenberg_quote.split(' ')\n",
        "print(words_by_walter)"
      ],
      "metadata": {
        "colab": {
          "base_uri": "https://localhost:8080/"
        },
        "id": "WE-44w-dHEjx",
        "outputId": "43a15163-dcfe-427c-b67d-2480bd76a7cf"
      },
      "execution_count": 17,
      "outputs": [
        {
          "output_type": "stream",
          "name": "stdout",
          "text": [
            "['It', 'ceases', 'to', 'exist', 'without', 'me.', 'No,', 'you', 'clearly', \"don't\", 'know', 'who', \"you're\", 'talking', 'to,', 'so', 'let', 'me', 'clue', 'you', 'in.', 'I', 'am', 'not', 'in', 'danger', '']\n"
          ]
        }
      ]
    },
    {
      "cell_type": "code",
      "source": [
        "heisenberg_quote.split('t')\n",
        ""
      ],
      "metadata": {
        "colab": {
          "base_uri": "https://localhost:8080/"
        },
        "id": "0Lw1giaaHIg-",
        "outputId": "32c51914-2e8f-485d-d82d-7deab0fe4a61"
      },
      "execution_count": 19,
      "outputs": [
        {
          "output_type": "execute_result",
          "data": {
            "text/plain": [
              "['I',\n",
              " ' ceases ',\n",
              " 'o exis',\n",
              " ' wi',\n",
              " 'hou',\n",
              " \" me. No, you clearly don'\",\n",
              " \" know who you're \",\n",
              " 'alking ',\n",
              " 'o, so le',\n",
              " ' me clue you in. I am no',\n",
              " ' in danger ']"
            ]
          },
          "metadata": {},
          "execution_count": 19
        }
      ]
    },
    {
      "cell_type": "code",
      "source": [
        "heisenberg_quote.split(',')\n",
        ""
      ],
      "metadata": {
        "colab": {
          "base_uri": "https://localhost:8080/"
        },
        "id": "BEaREM4HHOiR",
        "outputId": "f585b0c0-9d12-468b-9383-7bf118a40b5c"
      },
      "execution_count": 20,
      "outputs": [
        {
          "output_type": "execute_result",
          "data": {
            "text/plain": [
              "['It ceases to exist without me. No',\n",
              " \" you clearly don't know who you're talking to\",\n",
              " ' so let me clue you in. I am not in danger ']"
            ]
          },
          "metadata": {},
          "execution_count": 20
        }
      ]
    },
    {
      "cell_type": "code",
      "source": [
        "my_string = 'Alphabet Inc.'\n",
        "list_of_characters = [char for char in my_string]\n",
        "print(list_of_characters)"
      ],
      "metadata": {
        "colab": {
          "base_uri": "https://localhost:8080/"
        },
        "id": "IhR75BxoHTDq",
        "outputId": "702dbf80-5b36-4e03-d371-8f0f45ec99fb"
      },
      "execution_count": 22,
      "outputs": [
        {
          "output_type": "stream",
          "name": "stdout",
          "text": [
            "['A', 'l', 'p', 'h', 'a', 'b', 'e', 't', ' ', 'I', 'n', 'c', '.']\n"
          ]
        }
      ]
    },
    {
      "cell_type": "code",
      "source": [
        "days = ('Monday', 'Tuesday', 'Wednesday', 'Thursday', 'Friday', 'Saturday', 'Sunday')\n",
        "tuple(day for day in days)"
      ],
      "metadata": {
        "colab": {
          "base_uri": "https://localhost:8080/"
        },
        "id": "iaeODeAfHbEX",
        "outputId": "4b1c2124-aa0c-4048-e08e-e0a6c78a5267"
      },
      "execution_count": 23,
      "outputs": [
        {
          "output_type": "execute_result",
          "data": {
            "text/plain": [
              "('Monday', 'Tuesday', 'Wednesday', 'Thursday', 'Friday', 'Saturday', 'Sunday')"
            ]
          },
          "metadata": {},
          "execution_count": 23
        }
      ]
    },
    {
      "cell_type": "code",
      "source": [
        "days_without_day = tuple([day[:-3] for day in days])\n",
        "print(days_without_day)\n",
        ""
      ],
      "metadata": {
        "colab": {
          "base_uri": "https://localhost:8080/"
        },
        "id": "dpJB5RYYHf-v",
        "outputId": "8f3e8fb8-301a-41b9-e1fb-9ab43c4f7a34"
      },
      "execution_count": 24,
      "outputs": [
        {
          "output_type": "stream",
          "name": "stdout",
          "text": [
            "('Mon', 'Tues', 'Wednes', 'Thurs', 'Fri', 'Satur', 'Sun')\n"
          ]
        }
      ]
    },
    {
      "cell_type": "code",
      "source": [
        "country_city_list = [('India', 'New Delhi'),('Australia','Canberra'),('United States','Washington DC'),('England','London')]\n",
        "country_city_dict = dict(country_city_list)\n",
        "print(country_city_dict)"
      ],
      "metadata": {
        "colab": {
          "base_uri": "https://localhost:8080/"
        },
        "id": "KWRqhe_MHk32",
        "outputId": "6f9e6ade-0d24-4874-eacf-7589eeaf92cc"
      },
      "execution_count": 25,
      "outputs": [
        {
          "output_type": "stream",
          "name": "stdout",
          "text": [
            "{'India': 'New Delhi', 'Australia': 'Canberra', 'United States': 'Washington DC', 'England': 'London'}\n"
          ]
        }
      ]
    },
    {
      "cell_type": "code",
      "source": [
        "flipped = {city:country for country, city in country_city_dict.items()}\n",
        "print(flipped)\n",
        ""
      ],
      "metadata": {
        "colab": {
          "base_uri": "https://localhost:8080/"
        },
        "id": "pZZqLp9XHpo6",
        "outputId": "9a87e0b1-a53a-40da-a31a-821e1fd1920f"
      },
      "execution_count": 27,
      "outputs": [
        {
          "output_type": "stream",
          "name": "stdout",
          "text": [
            "{'New Delhi': 'India', 'Canberra': 'Australia', 'Washington DC': 'United States', 'London': 'England'}\n"
          ]
        }
      ]
    },
    {
      "cell_type": "code",
      "source": [
        "flipped = {city: country for country, city in country_city_dict.items() if country[0] in ['E','A']}\n",
        "print(flipped)"
      ],
      "metadata": {
        "colab": {
          "base_uri": "https://localhost:8080/"
        },
        "id": "cKnxBw6RHyTG",
        "outputId": "c306bc2d-b160-4314-b100-88381d793591"
      },
      "execution_count": 29,
      "outputs": [
        {
          "output_type": "stream",
          "name": "stdout",
          "text": [
            "{'Canberra': 'Australia', 'London': 'England'}\n"
          ]
        }
      ]
    },
    {
      "cell_type": "code",
      "source": [
        "flipped = {country[:2] : city[-2:] for country, city in country_city_dict.items()}\n",
        "print(flipped)"
      ],
      "metadata": {
        "colab": {
          "base_uri": "https://localhost:8080/"
        },
        "id": "gRGr8ePXH4ur",
        "outputId": "e8fa1da6-4529-4140-c938-8bef6f22b984"
      },
      "execution_count": 31,
      "outputs": [
        {
          "output_type": "stream",
          "name": "stdout",
          "text": [
            "{'In': 'hi', 'Au': 'ra', 'Un': 'DC', 'En': 'on'}\n"
          ]
        }
      ]
    },
    {
      "cell_type": "code",
      "source": [
        "print(country_city_dict)"
      ],
      "metadata": {
        "colab": {
          "base_uri": "https://localhost:8080/"
        },
        "id": "dQabh3fAH-am",
        "outputId": "167443b0-f852-42ed-b41a-bb0daf34093f"
      },
      "execution_count": 33,
      "outputs": [
        {
          "output_type": "stream",
          "name": "stdout",
          "text": [
            "{'India': 'New Delhi', 'Australia': 'Canberra', 'United States': 'Washington DC', 'England': 'London'}\n"
          ]
        }
      ]
    }
  ]
}