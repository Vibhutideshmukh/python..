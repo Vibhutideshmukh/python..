{
  "nbformat": 4,
  "nbformat_minor": 0,
  "metadata": {
    "colab": {
      "provenance": [],
      "authorship_tag": "ABX9TyPns4dDakv54j22RKLYi8SA",
      "include_colab_link": true
    },
    "kernelspec": {
      "name": "python3",
      "display_name": "Python 3"
    },
    "language_info": {
      "name": "python"
    }
  },
  "cells": [
    {
      "cell_type": "markdown",
      "metadata": {
        "id": "view-in-github",
        "colab_type": "text"
      },
      "source": [
        "<a href=\"https://colab.research.google.com/github/Vibhutideshmukh/python../blob/main/Introduction_to_Strings_.ipynb\" target=\"_parent\"><img src=\"https://colab.research.google.com/assets/colab-badge.svg\" alt=\"Open In Colab\"/></a>"
      ]
    },
    {
      "cell_type": "code",
      "execution_count": null,
      "metadata": {
        "colab": {
          "base_uri": "https://localhost:8080/"
        },
        "id": "p5KdXbO-fC3F",
        "outputId": "48b18599-12d9-4b4e-ce00-2c353ca574e9"
      },
      "outputs": [
        {
          "output_type": "stream",
          "name": "stdout",
          "text": [
            "Statistics sits at the heart of machine learning\n"
          ]
        }
      ],
      "source": [
        "# Entire phrase\n",
        "\n",
        "phrase = 'Statistics sits at the heart of machine learning'\n",
        "\n",
        "print (phrase)"
      ]
    },
    {
      "cell_type": "code",
      "source": [
        "# Statement to get the type of the variable\n",
        "\n",
        "type (phrase)"
      ],
      "metadata": {
        "colab": {
          "base_uri": "https://localhost:8080/"
        },
        "id": "eYxXRaJkhdxn",
        "outputId": "f7a78e92-45e4-4556-97e7-9db7381884d4"
      },
      "execution_count": null,
      "outputs": [
        {
          "output_type": "execute_result",
          "data": {
            "text/plain": [
              "str"
            ]
          },
          "metadata": {},
          "execution_count": 5
        }
      ]
    },
    {
      "cell_type": "code",
      "source": [
        "# We can also use double quote\n",
        "\n",
        "my_string = \"String built with double quotes\"\n",
        "\n",
        "print(my_string) #Use the print command"
      ],
      "metadata": {
        "colab": {
          "base_uri": "https://localhost:8080/"
        },
        "id": "Ls6VKQEthk8q",
        "outputId": "990dc6c4-9123-45d0-ee01-f998970180ed"
      },
      "execution_count": null,
      "outputs": [
        {
          "output_type": "stream",
          "name": "stdout",
          "text": [
            "String built with double quotes\n"
          ]
        }
      ]
    },
    {
      "cell_type": "code",
      "source": [
        "#Be careful with quotes!\n",
        "\n",
        "sentence= 'I\\'m using single quotes, but this will create an error'\n",
        "\n",
        "print(sentence)"
      ],
      "metadata": {
        "colab": {
          "base_uri": "https://localhost:8080/"
        },
        "id": "OewijdiehsWL",
        "outputId": "512e1e6e-563b-426f-dff2-3b270797edb1"
      },
      "execution_count": null,
      "outputs": [
        {
          "output_type": "stream",
          "name": "stdout",
          "text": [
            "I'm using single quotes, but this will create an error\n"
          ]
        }
      ]
    },
    {
      "cell_type": "code",
      "source": [
        "sentence= \"I\\\"m using single quotes, but this will create an error\"\n",
        "\n",
        "print(sentence)"
      ],
      "metadata": {
        "colab": {
          "base_uri": "https://localhost:8080/"
        },
        "id": "JuSMg2f3h-On",
        "outputId": "ee70212f-b58b-4115-a841-38f0e7717b40"
      },
      "execution_count": null,
      "outputs": [
        {
          "output_type": "stream",
          "name": "stdout",
          "text": [
            "I\"m using single quotes, but this will create an error\n"
          ]
        }
      ]
    },
    {
      "cell_type": "code",
      "source": [
        "hashtag = \"#\"\n",
        "\n",
        "print(hashtag)"
      ],
      "metadata": {
        "colab": {
          "base_uri": "https://localhost:8080/"
        },
        "id": "0V7-BRVQiCbg",
        "outputId": "7fb0f886-4409-491a-8a45-3fafea7dc2bc"
      },
      "execution_count": null,
      "outputs": [
        {
          "output_type": "stream",
          "name": "stdout",
          "text": [
            "#\n"
          ]
        }
      ]
    },
    {
      "cell_type": "code",
      "source": [
        "type(hashtag)"
      ],
      "metadata": {
        "colab": {
          "base_uri": "https://localhost:8080/"
        },
        "id": "nzxXUXTdiGT5",
        "outputId": "a854762f-8ecb-4b58-9c41-630048c100cc"
      },
      "execution_count": null,
      "outputs": [
        {
          "output_type": "execute_result",
          "data": {
            "text/plain": [
              "str"
            ]
          },
          "metadata": {},
          "execution_count": 15
        }
      ]
    },
    {
      "cell_type": "code",
      "source": [
        "#print('Linear Algebra')\n",
        "\n",
        "#print('Calculus')\n",
        "\n",
        "print('Use to print a new line')\n",
        "\n",
        "print('\\nSee what I mean?')"
      ],
      "metadata": {
        "colab": {
          "base_uri": "https://localhost:8080/"
        },
        "id": "MS_STJnhiI56",
        "outputId": "314a1f3d-46f8-406c-bdab-599a2a862030"
      },
      "execution_count": null,
      "outputs": [
        {
          "output_type": "stream",
          "name": "stdout",
          "text": [
            "Use to print a new line\n",
            "\n",
            "See what I mean?\n"
          ]
        }
      ]
    },
    {
      "cell_type": "code",
      "source": [
        "algo = 're on'\n",
        "\n",
        "len(algo)"
      ],
      "metadata": {
        "colab": {
          "base_uri": "https://localhost:8080/"
        },
        "id": "3R9GzfP9ivlp",
        "outputId": "34159652-ac45-4d23-ef8a-0ee93dc680b2"
      },
      "execution_count": null,
      "outputs": [
        {
          "output_type": "execute_result",
          "data": {
            "text/plain": [
              "5"
            ]
          },
          "metadata": {},
          "execution_count": 28
        }
      ]
    },
    {
      "cell_type": "code",
      "source": [
        "#Assign string as a string\n",
        "\n",
        "string = 'Principal Component Analysis!'"
      ],
      "metadata": {
        "id": "_y4ltRyyjw5A"
      },
      "execution_count": null,
      "outputs": []
    },
    {
      "cell_type": "code",
      "source": [
        "#Assign string as a string\n",
        "\n",
        "string = 'Principal Component Analysis!'\n",
        "\n",
        "#Print the object\n",
        "\n",
        "print(string)"
      ],
      "metadata": {
        "colab": {
          "base_uri": "https://localhost:8080/"
        },
        "id": "PNGxVoBej2YN",
        "outputId": "cd9f4283-3adb-4e9f-bd60-0322e0ad6e3d"
      },
      "execution_count": null,
      "outputs": [
        {
          "output_type": "stream",
          "name": "stdout",
          "text": [
            "Principal Component Analysis!\n"
          ]
        }
      ]
    },
    {
      "cell_type": "code",
      "source": [
        "# Show first element (in this case a letter)\n",
        "\n",
        "print(string[-2])"
      ],
      "metadata": {
        "colab": {
          "base_uri": "https://localhost:8080/"
        },
        "id": "q2QFP-jdkGOi",
        "outputId": "dd8b05c0-3ccf-49fd-bfde-c2e86ff76817"
      },
      "execution_count": null,
      "outputs": [
        {
          "output_type": "stream",
          "name": "stdout",
          "text": [
            "s\n"
          ]
        }
      ]
    },
    {
      "cell_type": "code",
      "source": [
        "print(string[15])"
      ],
      "metadata": {
        "colab": {
          "base_uri": "https://localhost:8080/"
        },
        "id": "BpGhTrIckK4i",
        "outputId": "601a0326-6546-4d1a-b111-371cb769f4ec"
      },
      "execution_count": null,
      "outputs": [
        {
          "output_type": "stream",
          "name": "stdout",
          "text": [
            "n\n"
          ]
        }
      ]
    },
    {
      "cell_type": "code",
      "source": [
        "len(string)"
      ],
      "metadata": {
        "colab": {
          "base_uri": "https://localhost:8080/"
        },
        "id": "A3B4VWLfl0p2",
        "outputId": "42cbe18a-1441-4cb2-cbbf-27d9df398093"
      },
      "execution_count": null,
      "outputs": [
        {
          "output_type": "execute_result",
          "data": {
            "text/plain": [
              "29"
            ]
          },
          "metadata": {},
          "execution_count": 34
        }
      ]
    },
    {
      "cell_type": "code",
      "source": [
        "# Show first element (in this case a letter)\n",
        "\n",
        "print(string[-2])"
      ],
      "metadata": {
        "colab": {
          "base_uri": "https://localhost:8080/"
        },
        "id": "B5_Wolmzl5sR",
        "outputId": "960b9c1e-1c7d-4a7b-b07d-5f3b278d37ba"
      },
      "execution_count": null,
      "outputs": [
        {
          "output_type": "stream",
          "name": "stdout",
          "text": [
            "s\n"
          ]
        }
      ]
    },
    {
      "cell_type": "code",
      "source": [
        "#Grab the element at the index 1, which is the LAST element\n",
        "\n",
        "print(string[28])"
      ],
      "metadata": {
        "colab": {
          "base_uri": "https://localhost:8080/"
        },
        "id": "SKXfd5pnl9WM",
        "outputId": "2321c720-1c6c-4de2-baf8-99a562a619f1"
      },
      "execution_count": null,
      "outputs": [
        {
          "output_type": "stream",
          "name": "stdout",
          "text": [
            "!\n"
          ]
        }
      ]
    },
    {
      "cell_type": "code",
      "source": [
        "print(string[-2])"
      ],
      "metadata": {
        "colab": {
          "base_uri": "https://localhost:8080/"
        },
        "id": "bzybGJNkmFsC",
        "outputId": "eb9d2075-6b3f-4f1f-ae30-397bed90332c"
      },
      "execution_count": null,
      "outputs": [
        {
          "output_type": "stream",
          "name": "stdout",
          "text": [
            "s\n"
          ]
        }
      ]
    },
    {
      "cell_type": "code",
      "source": [
        "# Grab everything past the first term all the way to the length of s which is len(s)\n",
        "\n",
        "print(string)\n",
        "\n",
        "print(string[1:])"
      ],
      "metadata": {
        "colab": {
          "base_uri": "https://localhost:8080/"
        },
        "id": "oHJoXglMmITj",
        "outputId": "f6d1f799-8249-4e73-c5bb-91d40af414b0"
      },
      "execution_count": null,
      "outputs": [
        {
          "output_type": "stream",
          "name": "stdout",
          "text": [
            "Principal Component Analysis!\n",
            "rincipal Component Analysis!\n"
          ]
        }
      ]
    },
    {
      "cell_type": "code",
      "source": [
        "string[13]"
      ],
      "metadata": {
        "colab": {
          "base_uri": "https://localhost:8080/",
          "height": 35
        },
        "id": "edr54JXLmNAs",
        "outputId": "cbe3e960-2fe8-4a04-aaf2-42301c6bd3ee"
      },
      "execution_count": null,
      "outputs": [
        {
          "output_type": "execute_result",
          "data": {
            "text/plain": [
              "'p'"
            ],
            "application/vnd.google.colaboratory.intrinsic+json": {
              "type": "string"
            }
          },
          "metadata": {},
          "execution_count": 39
        }
      ]
    },
    {
      "cell_type": "code",
      "source": [
        "string[12]"
      ],
      "metadata": {
        "colab": {
          "base_uri": "https://localhost:8080/",
          "height": 35
        },
        "id": "fhMLcDevmSyG",
        "outputId": "9f3f7158-53ad-43fc-f29a-5c0d8481d19a"
      },
      "execution_count": null,
      "outputs": [
        {
          "output_type": "execute_result",
          "data": {
            "text/plain": [
              "'m'"
            ],
            "application/vnd.google.colaboratory.intrinsic+json": {
              "type": "string"
            }
          },
          "metadata": {},
          "execution_count": 40
        }
      ]
    },
    {
      "cell_type": "code",
      "source": [
        "# Grab everything starting from index 10 till index 18\n",
        "\n",
        "print(string[10:])"
      ],
      "metadata": {
        "colab": {
          "base_uri": "https://localhost:8080/"
        },
        "id": "D7acR8vCmVD4",
        "outputId": "87c68047-6b0b-47b8-b9c2-c0a766edad43"
      },
      "execution_count": null,
      "outputs": [
        {
          "output_type": "stream",
          "name": "stdout",
          "text": [
            "Component Analysis!\n"
          ]
        }
      ]
    },
    {
      "cell_type": "code",
      "source": [
        "print(string[3:5])"
      ],
      "metadata": {
        "colab": {
          "base_uri": "https://localhost:8080/"
        },
        "id": "O4QeBk8rmXpY",
        "outputId": "e0e30824-a7ac-4124-ed85-297af28abddb"
      },
      "execution_count": null,
      "outputs": [
        {
          "output_type": "stream",
          "name": "stdout",
          "text": [
            "nc\n"
          ]
        }
      ]
    },
    {
      "cell_type": "code",
      "source": [
        "print(string[2:4])"
      ],
      "metadata": {
        "colab": {
          "base_uri": "https://localhost:8080/"
        },
        "id": "q7QKm5WYmaED",
        "outputId": "8b5e9b4a-f8ef-4e22-cd0e-e631c763b7be"
      },
      "execution_count": null,
      "outputs": [
        {
          "output_type": "stream",
          "name": "stdout",
          "text": [
            "in\n"
          ]
        }
      ]
    },
    {
      "cell_type": "code",
      "source": [
        "#Last letter (one index behind so it loops back around)\n",
        "\n",
        "string[-2]"
      ],
      "metadata": {
        "colab": {
          "base_uri": "https://localhost:8080/",
          "height": 35
        },
        "id": "y8jtk2vXmc5r",
        "outputId": "e4351dcc-dc3f-4f12-c2d9-7f503abb5afa"
      },
      "execution_count": null,
      "outputs": [
        {
          "output_type": "execute_result",
          "data": {
            "text/plain": [
              "'s'"
            ],
            "application/vnd.google.colaboratory.intrinsic+json": {
              "type": "string"
            }
          },
          "metadata": {},
          "execution_count": 44
        }
      ]
    },
    {
      "cell_type": "code",
      "source": [
        "#Everything\n",
        "\n",
        "print(string[:])\n",
        "\n",
        "print(string)"
      ],
      "metadata": {
        "colab": {
          "base_uri": "https://localhost:8080/"
        },
        "id": "zfYazPivouLo",
        "outputId": "2585af0d-0957-49e8-96a3-41067a0fe24f"
      },
      "execution_count": null,
      "outputs": [
        {
          "output_type": "stream",
          "name": "stdout",
          "text": [
            "Principal Component Analysis!\n",
            "Principal Component Analysis!\n"
          ]
        }
      ]
    },
    {
      "cell_type": "code",
      "source": [
        "#Grab everything, but go in steps size of 1\n",
        "\n",
        "print(string)\n",
        "\n",
        "print(string[::3])"
      ],
      "metadata": {
        "colab": {
          "base_uri": "https://localhost:8080/"
        },
        "id": "CutoHzG-o2ah",
        "outputId": "339e6407-cb3e-4ff7-9457-499f4c322c2c"
      },
      "execution_count": null,
      "outputs": [
        {
          "output_type": "stream",
          "name": "stdout",
          "text": [
            "Principal Component Analysis!\n",
            "Pnp mntnys\n"
          ]
        }
      ]
    },
    {
      "cell_type": "code",
      "source": [
        "print(string[::3])"
      ],
      "metadata": {
        "colab": {
          "base_uri": "https://localhost:8080/"
        },
        "id": "FkJ2RtOapIHQ",
        "outputId": "e1bd2254-d2f0-4b8d-a6d4-75e4094fd8e6"
      },
      "execution_count": null,
      "outputs": [
        {
          "output_type": "stream",
          "name": "stdout",
          "text": [
            "Pnp mntnys\n"
          ]
        }
      ]
    },
    {
      "cell_type": "code",
      "source": [
        "# Grab everything, but go in step sizes of 5\n",
        "\n",
        "print(string)\n",
        "\n",
        "print(string[5:15:5])"
      ],
      "metadata": {
        "colab": {
          "base_uri": "https://localhost:8080/"
        },
        "id": "CPopIaQOpKWH",
        "outputId": "2853baf5-7ff6-49f4-99dd-5f07dd9345a9"
      },
      "execution_count": null,
      "outputs": [
        {
          "output_type": "stream",
          "name": "stdout",
          "text": [
            "Principal Component Analysis!\n",
            "iC\n"
          ]
        }
      ]
    },
    {
      "cell_type": "code",
      "source": [
        "string[::1]"
      ],
      "metadata": {
        "colab": {
          "base_uri": "https://localhost:8080/",
          "height": 35
        },
        "id": "hvWp8WgopNbc",
        "outputId": "5b45f485-3567-4459-9a63-970bf92538af"
      },
      "execution_count": null,
      "outputs": [
        {
          "output_type": "execute_result",
          "data": {
            "text/plain": [
              "'Principal Component Analysis!'"
            ],
            "application/vnd.google.colaboratory.intrinsic+json": {
              "type": "string"
            }
          },
          "metadata": {},
          "execution_count": 50
        }
      ]
    },
    {
      "cell_type": "code",
      "source": [
        "#We can use this to print a string backwards\n",
        "\n",
        "print(string)\n",
        "\n",
        "string[::-1]"
      ],
      "metadata": {
        "colab": {
          "base_uri": "https://localhost:8080/",
          "height": 53
        },
        "id": "gv3d5QFCpP1x",
        "outputId": "1f87b04a-1e93-415b-deda-4bb237d1a48d"
      },
      "execution_count": null,
      "outputs": [
        {
          "output_type": "stream",
          "name": "stdout",
          "text": [
            "Principal Component Analysis!\n"
          ]
        },
        {
          "output_type": "execute_result",
          "data": {
            "text/plain": [
              "'!sisylanA tnenopmoC lapicnirP'"
            ],
            "application/vnd.google.colaboratory.intrinsic+json": {
              "type": "string"
            }
          },
          "metadata": {},
          "execution_count": 51
        }
      ]
    },
    {
      "cell_type": "code",
      "source": [
        "print(string)\n",
        "\n",
        "string[2:4:-1]"
      ],
      "metadata": {
        "colab": {
          "base_uri": "https://localhost:8080/",
          "height": 53
        },
        "id": "ChMJh2SlpSX6",
        "outputId": "b125a932-1a2a-4b1f-80e1-fbf9bd0a9ab8"
      },
      "execution_count": null,
      "outputs": [
        {
          "output_type": "stream",
          "name": "stdout",
          "text": [
            "Principal Component Analysis!\n"
          ]
        },
        {
          "output_type": "execute_result",
          "data": {
            "text/plain": [
              "''"
            ],
            "application/vnd.google.colaboratory.intrinsic+json": {
              "type": "string"
            }
          },
          "metadata": {},
          "execution_count": 52
        }
      ]
    },
    {
      "cell_type": "code",
      "source": [
        "#We can use this to print a string backwards with steps\n",
        "\n",
        "print(string)\n",
        "\n",
        "string[2:4:-1]"
      ],
      "metadata": {
        "colab": {
          "base_uri": "https://localhost:8080/",
          "height": 53
        },
        "id": "O5rGNP0upVTU",
        "outputId": "226d7963-acb0-4f8a-a5ba-1805a2a19098"
      },
      "execution_count": null,
      "outputs": [
        {
          "output_type": "stream",
          "name": "stdout",
          "text": [
            "Principal Component Analysis!\n"
          ]
        },
        {
          "output_type": "execute_result",
          "data": {
            "text/plain": [
              "''"
            ],
            "application/vnd.google.colaboratory.intrinsic+json": {
              "type": "string"
            }
          },
          "metadata": {},
          "execution_count": 53
        }
      ]
    },
    {
      "cell_type": "code",
      "source": [
        "string [4:2:-1]"
      ],
      "metadata": {
        "colab": {
          "base_uri": "https://localhost:8080/",
          "height": 35
        },
        "id": "Z0Ii8ao3pXfv",
        "outputId": "4a24d7b3-afdd-4e57-a861-911570d06884"
      },
      "execution_count": null,
      "outputs": [
        {
          "output_type": "execute_result",
          "data": {
            "text/plain": [
              "'cn'"
            ],
            "application/vnd.google.colaboratory.intrinsic+json": {
              "type": "string"
            }
          },
          "metadata": {},
          "execution_count": 54
        }
      ]
    },
    {
      "cell_type": "code",
      "source": [
        "s='foobar'\n",
        "\n",
        "s[0::-3]"
      ],
      "metadata": {
        "colab": {
          "base_uri": "https://localhost:8080/",
          "height": 35
        },
        "id": "a1nFRsKFpZ9h",
        "outputId": "ab065051-5e8e-4ae7-f8d3-fa34b6af5e71"
      },
      "execution_count": null,
      "outputs": [
        {
          "output_type": "execute_result",
          "data": {
            "text/plain": [
              "'f'"
            ],
            "application/vnd.google.colaboratory.intrinsic+json": {
              "type": "string"
            }
          },
          "metadata": {},
          "execution_count": 58
        }
      ]
    },
    {
      "cell_type": "code",
      "source": [
        "# Concatenate strings!\n",
        "\n",
        "string1='abc'\n",
        "\n",
        "string2='def'\n",
        "\n",
        "print(string1 + string2)"
      ],
      "metadata": {
        "colab": {
          "base_uri": "https://localhost:8080/"
        },
        "id": "tSMT5UZbpjw7",
        "outputId": "0337257e-c3f2-433d-e91c-fc48a4a110e5"
      },
      "execution_count": null,
      "outputs": [
        {
          "output_type": "stream",
          "name": "stdout",
          "text": [
            "abcdef\n"
          ]
        }
      ]
    },
    {
      "cell_type": "code",
      "source": [
        "#Concatenate strings!\n",
        "\n",
        "string1='abc'\n",
        "\n",
        "string2='def'\n",
        "\n",
        "num = 4\n",
        "\n",
        "print(string1 + str(4) + string2)"
      ],
      "metadata": {
        "colab": {
          "base_uri": "https://localhost:8080/"
        },
        "id": "qDSF5wCiqRIx",
        "outputId": "705f22f0-3e2d-4acf-bd46-67fea5e9b0e5"
      },
      "execution_count": null,
      "outputs": [
        {
          "output_type": "stream",
          "name": "stdout",
          "text": [
            "abc4def\n"
          ]
        }
      ]
    },
    {
      "cell_type": "code",
      "source": [
        "print(string1 +' 4'+ string2)"
      ],
      "metadata": {
        "colab": {
          "base_uri": "https://localhost:8080/"
        },
        "id": "a8lwldSwqj6n",
        "outputId": "bb8cb2e3-a2d6-4061-aa1d-d3889c07089a"
      },
      "execution_count": null,
      "outputs": [
        {
          "output_type": "stream",
          "name": "stdout",
          "text": [
            "abc 4def\n"
          ]
        }
      ]
    },
    {
      "cell_type": "code",
      "source": [
        "str(num)"
      ],
      "metadata": {
        "colab": {
          "base_uri": "https://localhost:8080/",
          "height": 35
        },
        "id": "GhyYWdqWqvMb",
        "outputId": "650d13ef-0ac8-44da-ecce-9304ed99008f"
      },
      "execution_count": null,
      "outputs": [
        {
          "output_type": "execute_result",
          "data": {
            "text/plain": [
              "'4'"
            ],
            "application/vnd.google.colaboratory.intrinsic+json": {
              "type": "string"
            }
          },
          "metadata": {},
          "execution_count": 66
        }
      ]
    },
    {
      "cell_type": "code",
      "source": [
        "#Concatenate strings!\n",
        "\n",
        "string1='abc'\n",
        "\n",
        "string2='def'\n",
        "\n",
        "string1 + '4'+ string2"
      ],
      "metadata": {
        "colab": {
          "base_uri": "https://localhost:8080/",
          "height": 35
        },
        "id": "Y6sYwC7zqyLp",
        "outputId": "d9449658-0d63-4409-dafb-c012b4d241ae"
      },
      "execution_count": null,
      "outputs": [
        {
          "output_type": "execute_result",
          "data": {
            "text/plain": [
              "'abc4def'"
            ],
            "application/vnd.google.colaboratory.intrinsic+json": {
              "type": "string"
            }
          },
          "metadata": {},
          "execution_count": 67
        }
      ]
    },
    {
      "cell_type": "code",
      "source": [
        "#We can reassign string completely though!\n",
        "\n",
        "string = string + 'concatenate me!'\n",
        "\n",
        "print(string)"
      ],
      "metadata": {
        "colab": {
          "base_uri": "https://localhost:8080/"
        },
        "id": "Xr1I-bw7q1Hu",
        "outputId": "89d45240-79ec-4b08-e829-51030d92cbd4"
      },
      "execution_count": null,
      "outputs": [
        {
          "output_type": "stream",
          "name": "stdout",
          "text": [
            "Principal Component Analysis!concatenate me!\n"
          ]
        }
      ]
    },
    {
      "cell_type": "code",
      "source": [
        "letters = 'wubba'\n",
        "\n",
        "letters*2"
      ],
      "metadata": {
        "colab": {
          "base_uri": "https://localhost:8080/",
          "height": 35
        },
        "id": "WSZ6Siz6q9c4",
        "outputId": "93c1c952-2cb2-48cc-ffa0-aadb2c621bfd"
      },
      "execution_count": null,
      "outputs": [
        {
          "output_type": "execute_result",
          "data": {
            "text/plain": [
              "'wubbawubba'"
            ],
            "application/vnd.google.colaboratory.intrinsic+json": {
              "type": "string"
            }
          },
          "metadata": {},
          "execution_count": 74
        }
      ]
    },
    {
      "cell_type": "code",
      "source": [
        "algorithm ='Neural Networks'\n",
        "\n",
        "print(algorithm)"
      ],
      "metadata": {
        "id": "CQNSDrM7rJG0",
        "colab": {
          "base_uri": "https://localhost:8080/"
        },
        "outputId": "c80430d8-db5f-4609-a225-93e2fd994ae0"
      },
      "execution_count": null,
      "outputs": [
        {
          "output_type": "stream",
          "name": "stdout",
          "text": [
            "Neural Networks\n"
          ]
        }
      ]
    },
    {
      "cell_type": "code",
      "source": [
        "#Print the length of the string\n",
        "\n",
        "len(algorithm)"
      ],
      "metadata": {
        "colab": {
          "base_uri": "https://localhost:8080/"
        },
        "id": "oeiUQWTNrxio",
        "outputId": "a6c55ec1-5846-4a18-8c7d-9700f66a6775"
      },
      "execution_count": null,
      "outputs": [
        {
          "output_type": "execute_result",
          "data": {
            "text/plain": [
              "15"
            ]
          },
          "metadata": {},
          "execution_count": 77
        }
      ]
    },
    {
      "cell_type": "code",
      "source": [
        "print(algorithm)"
      ],
      "metadata": {
        "colab": {
          "base_uri": "https://localhost:8080/"
        },
        "id": "8SB5Rwbtr0CP",
        "outputId": "f05ac3b9-2548-4592-bbbb-57926ab82365"
      },
      "execution_count": null,
      "outputs": [
        {
          "output_type": "stream",
          "name": "stdout",
          "text": [
            "Neural Networks\n"
          ]
        }
      ]
    },
    {
      "cell_type": "code",
      "source": [
        "algorithm.count('Networks')"
      ],
      "metadata": {
        "id": "3c_op460sD0h",
        "colab": {
          "base_uri": "https://localhost:8080/"
        },
        "outputId": "2c15cbb2-b431-47f7-9423-fdae175ca954"
      },
      "execution_count": null,
      "outputs": [
        {
          "output_type": "execute_result",
          "data": {
            "text/plain": [
              "1"
            ]
          },
          "metadata": {},
          "execution_count": 83
        }
      ]
    },
    {
      "cell_type": "code",
      "source": [
        "algorithm.count('eu')"
      ],
      "metadata": {
        "colab": {
          "base_uri": "https://localhost:8080/"
        },
        "id": "Zu4jiiyOsryz",
        "outputId": "cbe61827-90e9-4c62-868d-819d8d452651"
      },
      "execution_count": null,
      "outputs": [
        {
          "output_type": "execute_result",
          "data": {
            "text/plain": [
              "1"
            ]
          },
          "metadata": {},
          "execution_count": 84
        }
      ]
    },
    {
      "cell_type": "code",
      "source": [
        "algorithm.count('')"
      ],
      "metadata": {
        "colab": {
          "base_uri": "https://localhost:8080/"
        },
        "id": "f-PPY3p0suKr",
        "outputId": "aef0c0bb-a8c5-457c-df3b-6b86d778f491"
      },
      "execution_count": null,
      "outputs": [
        {
          "output_type": "execute_result",
          "data": {
            "text/plain": [
              "16"
            ]
          },
          "metadata": {},
          "execution_count": 85
        }
      ]
    },
    {
      "cell_type": "code",
      "source": [
        "algorithm.count('Neural')"
      ],
      "metadata": {
        "colab": {
          "base_uri": "https://localhost:8080/"
        },
        "id": "LIRqqKVaswn_",
        "outputId": "8dcb52ae-6961-4357-85ba-d198c0b20602"
      },
      "execution_count": null,
      "outputs": [
        {
          "output_type": "execute_result",
          "data": {
            "text/plain": [
              "1"
            ]
          },
          "metadata": {},
          "execution_count": 86
        }
      ]
    },
    {
      "cell_type": "code",
      "source": [
        "algorithm.count('Neurla')"
      ],
      "metadata": {
        "colab": {
          "base_uri": "https://localhost:8080/"
        },
        "id": "r4PCeBlAsy2z",
        "outputId": "43430736-591f-46a7-b859-db6ee112873e"
      },
      "execution_count": null,
      "outputs": [
        {
          "output_type": "execute_result",
          "data": {
            "text/plain": [
              "0"
            ]
          },
          "metadata": {},
          "execution_count": 88
        }
      ]
    },
    {
      "cell_type": "code",
      "source": [
        "print(algorithm)"
      ],
      "metadata": {
        "colab": {
          "base_uri": "https://localhost:8080/"
        },
        "id": "4Cs_1xZ_s7-3",
        "outputId": "f08db807-bf28-4be4-eb5d-ddb65f063ecf"
      },
      "execution_count": null,
      "outputs": [
        {
          "output_type": "stream",
          "name": "stdout",
          "text": [
            "Neural Networks\n"
          ]
        }
      ]
    },
    {
      "cell_type": "code",
      "source": [
        "algorithm.find('r')"
      ],
      "metadata": {
        "colab": {
          "base_uri": "https://localhost:8080/"
        },
        "id": "SD2EZl6ts_Ml",
        "outputId": "40c0233d-06a5-4ef7-a3e5-6d4f0545a437"
      },
      "execution_count": null,
      "outputs": [
        {
          "output_type": "execute_result",
          "data": {
            "text/plain": [
              "3"
            ]
          },
          "metadata": {},
          "execution_count": 90
        }
      ]
    },
    {
      "cell_type": "code",
      "source": [
        "algorithm.find('Neural')"
      ],
      "metadata": {
        "colab": {
          "base_uri": "https://localhost:8080/"
        },
        "id": "PK9jLNRWtB5B",
        "outputId": "5361b8fe-af20-4e80-bdfe-514ac8dbe7f9"
      },
      "execution_count": null,
      "outputs": [
        {
          "output_type": "execute_result",
          "data": {
            "text/plain": [
              "0"
            ]
          },
          "metadata": {},
          "execution_count": 91
        }
      ]
    },
    {
      "cell_type": "code",
      "source": [
        "algorithm.find('Box')"
      ],
      "metadata": {
        "colab": {
          "base_uri": "https://localhost:8080/"
        },
        "id": "-Ooz5vrJtDwe",
        "outputId": "ad6c88e7-8a84-4d0b-ad6b-b8c30cd0866f"
      },
      "execution_count": null,
      "outputs": [
        {
          "output_type": "execute_result",
          "data": {
            "text/plain": [
              "-1"
            ]
          },
          "metadata": {},
          "execution_count": 92
        }
      ]
    },
    {
      "cell_type": "code",
      "source": [
        "algorithm.replace('','')"
      ],
      "metadata": {
        "colab": {
          "base_uri": "https://localhost:8080/",
          "height": 35
        },
        "id": "KWWNpxpetGbh",
        "outputId": "074f1a35-eb7b-4615-890a-24b469e11cca"
      },
      "execution_count": null,
      "outputs": [
        {
          "output_type": "execute_result",
          "data": {
            "text/plain": [
              "'Neural Networks'"
            ],
            "application/vnd.google.colaboratory.intrinsic+json": {
              "type": "string"
            }
          },
          "metadata": {},
          "execution_count": 93
        }
      ]
    },
    {
      "cell_type": "code",
      "source": [
        "algorithm.replace('N', 'L')"
      ],
      "metadata": {
        "colab": {
          "base_uri": "https://localhost:8080/",
          "height": 35
        },
        "id": "uN3fW3QVtJIP",
        "outputId": "5e4e850b-b691-4255-f482-e5c80b439fc9"
      },
      "execution_count": null,
      "outputs": [
        {
          "output_type": "execute_result",
          "data": {
            "text/plain": [
              "'Leural Letworks'"
            ],
            "application/vnd.google.colaboratory.intrinsic+json": {
              "type": "string"
            }
          },
          "metadata": {},
          "execution_count": 94
        }
      ]
    },
    {
      "cell_type": "code",
      "source": [
        "#Storing the modified string\n",
        "\n",
        "algorithm_revised =algorithm.replace('Neural', 'Artificial Neural')\n",
        "\n",
        "print(algorithm_revised)\n",
        "\n",
        "print(algorithm)"
      ],
      "metadata": {
        "colab": {
          "base_uri": "https://localhost:8080/"
        },
        "id": "roBbZ4wktwxL",
        "outputId": "4d2e2b06-3afa-4026-bc89-f1dd2065f042"
      },
      "execution_count": null,
      "outputs": [
        {
          "output_type": "stream",
          "name": "stdout",
          "text": [
            "Artificial Neural Networks\n",
            "Neural Networks\n"
          ]
        }
      ]
    },
    {
      "cell_type": "code",
      "source": [
        "first_name = 'Rahul'\n",
        "\n",
        "last_name = 'Modi'\n",
        "\n",
        "full_name = f'Left plus right makes (last_name) (first_name)'"
      ],
      "metadata": {
        "id": "FnNXMHlPuFGO"
      },
      "execution_count": null,
      "outputs": []
    },
    {
      "cell_type": "code",
      "source": [
        "print(first_name +last_name)"
      ],
      "metadata": {
        "colab": {
          "base_uri": "https://localhost:8080/"
        },
        "id": "h0CvGypzvI5Z",
        "outputId": "dbe2d0e5-97fd-4f3b-e207-51d865c25de0"
      },
      "execution_count": null,
      "outputs": [
        {
          "output_type": "stream",
          "name": "stdout",
          "text": [
            "RahulModi\n"
          ]
        }
      ]
    },
    {
      "cell_type": "code",
      "source": [
        "first_name = 'Vikash'\n",
        "\n",
        "middle_name = ' '\n",
        "\n",
        "last_name ='Srivastava'\n",
        "\n",
        "full_name = f'I am none other than {first_name} {middle_name}{last_name}. I am a Data Scientist'\n",
        "\n",
        "print(full_name)"
      ],
      "metadata": {
        "colab": {
          "base_uri": "https://localhost:8080/"
        },
        "id": "BTgYnnPWvNmT",
        "outputId": "36235546-9436-4645-e7c3-98fab382cfe4"
      },
      "execution_count": null,
      "outputs": [
        {
          "output_type": "stream",
          "name": "stdout",
          "text": [
            "I am none other than Vikash  Srivastava. I am a Data Scientist\n"
          ]
        }
      ]
    },
    {
      "cell_type": "code",
      "source": [
        "print(f'I am none other than{first_name} {middle_name}{last_name}. I am a Data Scientist')"
      ],
      "metadata": {
        "colab": {
          "base_uri": "https://localhost:8080/"
        },
        "id": "vL4FBJyewL4r",
        "outputId": "5dace34d-6206-4d6b-abce-f9493b2ffc2c"
      },
      "execution_count": null,
      "outputs": [
        {
          "output_type": "stream",
          "name": "stdout",
          "text": [
            "I am none other thanVikash  Srivastava. I am a Data Scientist\n"
          ]
        }
      ]
    },
    {
      "cell_type": "code",
      "source": [
        "my_string='Albert Einstein'\n",
        "\n",
        "'Thomson' in my_string"
      ],
      "metadata": {
        "colab": {
          "base_uri": "https://localhost:8080/"
        },
        "id": "tVbtWiBKwlaq",
        "outputId": "334834ed-80a9-4c3c-927f-cd49bafd8577"
      },
      "execution_count": null,
      "outputs": [
        {
          "output_type": "execute_result",
          "data": {
            "text/plain": [
              "False"
            ]
          },
          "metadata": {},
          "execution_count": 138
        }
      ]
    },
    {
      "cell_type": "code",
      "source": [
        "'Alberta' in my_string"
      ],
      "metadata": {
        "colab": {
          "base_uri": "https://localhost:8080/"
        },
        "id": "C7mKFnpBw7Hc",
        "outputId": "17c01f96-97d8-471c-b3c7-34fccea67d16"
      },
      "execution_count": null,
      "outputs": [
        {
          "output_type": "execute_result",
          "data": {
            "text/plain": [
              "False"
            ]
          },
          "metadata": {},
          "execution_count": 140
        }
      ]
    }
  ]
}