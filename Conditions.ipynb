{
  "nbformat": 4,
  "nbformat_minor": 0,
  "metadata": {
    "colab": {
      "provenance": [],
      "authorship_tag": "ABX9TyMUSAvz4H4ci9xxZUCVKkK3",
      "include_colab_link": true
    },
    "kernelspec": {
      "name": "python3",
      "display_name": "Python 3"
    },
    "language_info": {
      "name": "python"
    }
  },
  "cells": [
    {
      "cell_type": "markdown",
      "metadata": {
        "id": "view-in-github",
        "colab_type": "text"
      },
      "source": [
        "<a href=\"https://colab.research.google.com/github/Vibhutideshmukh/python../blob/main/Conditions.ipynb\" target=\"_parent\"><img src=\"https://colab.research.google.com/assets/colab-badge.svg\" alt=\"Open In Colab\"/></a>"
      ]
    },
    {
      "cell_type": "code",
      "source": [
        "\n",
        "x=3\n",
        "print(1+1)\n",
        "print(len(\"Hello Team AlmaBetter\"))"
      ],
      "metadata": {
        "colab": {
          "base_uri": "https://localhost:8080/"
        },
        "id": "ILB_zIi_bOLB",
        "outputId": "fefacf74-faa1-47db-bfc4-c1d65efd1479"
      },
      "execution_count": null,
      "outputs": [
        {
          "output_type": "stream",
          "name": "stdout",
          "text": [
            "2\n",
            "21\n"
          ]
        }
      ]
    },
    {
      "cell_type": "code",
      "source": [
        "\n",
        "y=3.14\n",
        "y\n"
      ],
      "metadata": {
        "colab": {
          "base_uri": "https://localhost:8080/"
        },
        "id": "rUqnqGHZbazu",
        "outputId": "8f37634c-6106-46c4-8dc9-85df8113f76f"
      },
      "execution_count": null,
      "outputs": [
        {
          "output_type": "execute_result",
          "data": {
            "text/plain": [
              "3.14"
            ]
          },
          "metadata": {},
          "execution_count": 3
        }
      ]
    },
    {
      "cell_type": "code",
      "source": [
        "\n",
        "a = 'Mighty'\n",
        "#b==a==True\n",
        "a=='Mighty'"
      ],
      "metadata": {
        "colab": {
          "base_uri": "https://localhost:8080/"
        },
        "id": "QiFMq8FbbmNz",
        "outputId": "1ec6dbca-8955-4ed2-a7c2-e5e6b5e30f48"
      },
      "execution_count": null,
      "outputs": [
        {
          "output_type": "execute_result",
          "data": {
            "text/plain": [
              "True"
            ]
          },
          "metadata": {},
          "execution_count": 4
        }
      ]
    },
    {
      "cell_type": "code",
      "source": [
        "import pandas as pd\n",
        "print(y)\n"
      ],
      "metadata": {
        "colab": {
          "base_uri": "https://localhost:8080/"
        },
        "id": "69EiRkf3brv3",
        "outputId": "165d3dbb-8c4b-4314-a85a-59794e6ab366"
      },
      "execution_count": null,
      "outputs": [
        {
          "output_type": "stream",
          "name": "stdout",
          "text": [
            "3.14\n"
          ]
        }
      ]
    },
    {
      "cell_type": "code",
      "source": [
        "y"
      ],
      "metadata": {
        "colab": {
          "base_uri": "https://localhost:8080/"
        },
        "id": "aDTCf73cbx_o",
        "outputId": "5452ac14-bea3-4924-d2bf-0db8e67d4c02"
      },
      "execution_count": null,
      "outputs": [
        {
          "output_type": "execute_result",
          "data": {
            "text/plain": [
              "3.14"
            ]
          },
          "metadata": {},
          "execution_count": 6
        }
      ]
    },
    {
      "cell_type": "code",
      "source": [
        "a = 1+2+3+4+5+6+7+8+9+10\n",
        "a"
      ],
      "metadata": {
        "colab": {
          "base_uri": "https://localhost:8080/"
        },
        "id": "gbE6emYdb2AY",
        "outputId": "6f698ae6-c3f4-481d-ed2f-30229c784ce5"
      },
      "execution_count": null,
      "outputs": [
        {
          "output_type": "execute_result",
          "data": {
            "text/plain": [
              "55"
            ]
          },
          "metadata": {},
          "execution_count": 7
        }
      ]
    },
    {
      "cell_type": "code",
      "source": [
        "x=1\n",
        "y=2\n",
        "z=3\n",
        "y"
      ],
      "metadata": {
        "colab": {
          "base_uri": "https://localhost:8080/"
        },
        "id": "UD7Og5uPb-O3",
        "outputId": "313c7258-2dfe-4d99-f014-ab8f943f1e28"
      },
      "execution_count": null,
      "outputs": [
        {
          "output_type": "execute_result",
          "data": {
            "text/plain": [
              "2"
            ]
          },
          "metadata": {},
          "execution_count": 8
        }
      ]
    },
    {
      "cell_type": "code",
      "source": [
        "my_list = [1]\n",
        "my_tuple = (1,)\n",
        "my_list,my_tuple"
      ],
      "metadata": {
        "colab": {
          "base_uri": "https://localhost:8080/"
        },
        "id": "5ED-koalcG7v",
        "outputId": "ba57f0ab-5272-43f9-a33c-f6e316742627"
      },
      "execution_count": null,
      "outputs": [
        {
          "output_type": "execute_result",
          "data": {
            "text/plain": [
              "([1], (1,))"
            ]
          },
          "metadata": {},
          "execution_count": 9
        }
      ]
    },
    {
      "cell_type": "code",
      "source": [
        "a = (1+2+3+4+5+6+7+8+9+10,)\n",
        "a"
      ],
      "metadata": {
        "colab": {
          "base_uri": "https://localhost:8080/"
        },
        "id": "A4bubr_BcLMo",
        "outputId": "f63cc4bf-f7c8-472a-f812-3d464792f0b8"
      },
      "execution_count": null,
      "outputs": [
        {
          "output_type": "execute_result",
          "data": {
            "text/plain": [
              "(55,)"
            ]
          },
          "metadata": {},
          "execution_count": 10
        }
      ]
    },
    {
      "cell_type": "code",
      "source": [
        "type(a)"
      ],
      "metadata": {
        "colab": {
          "base_uri": "https://localhost:8080/"
        },
        "id": "oqmH4qpmcPKB",
        "outputId": "7959784a-2900-4da2-9fca-0243a5c09ce5"
      },
      "execution_count": null,
      "outputs": [
        {
          "output_type": "execute_result",
          "data": {
            "text/plain": [
              "tuple"
            ]
          },
          "metadata": {},
          "execution_count": 11
        }
      ]
    },
    {
      "cell_type": "code",
      "source": [
        "a= 1\n",
        "b= 2\n",
        "c= 3\n",
        "a= 1; b=2; c=3\n",
        "c"
      ],
      "metadata": {
        "colab": {
          "base_uri": "https://localhost:8080/"
        },
        "id": "Aw5aub46cTdV",
        "outputId": "0084056c-1546-4f17-a2ea-076eecb3f37c"
      },
      "execution_count": null,
      "outputs": [
        {
          "output_type": "execute_result",
          "data": {
            "text/plain": [
              "3"
            ]
          },
          "metadata": {},
          "execution_count": 12
        }
      ]
    },
    {
      "cell_type": "code",
      "source": [
        "a = 1\n",
        "b = 2\n",
        "colors = 'Set theory is the mathematical theory of well-determined collections, called sets, of objects that are called members, or elements'\n",
        "colors = 'Set theory is the mathematical theory of well-determined collections, called sets,\\ of objects that are called members, or elements, of the set. Pure set theory deals exclusively\\The theory of the hereditarily-finite sets, namely those finite sets whose elements are also finite sets,\\ the elements of which are also finite, and so on,is formally equivalent to arithmetic. \\ So the essence of set theory is the study of infinte sets, and \\ therefore it can be defined as the mathematical theory of the actual-as opposed to potential-infinite.'\n",
        "colors"
      ],
      "metadata": {
        "colab": {
          "base_uri": "https://localhost:8080/",
          "height": 608
        },
        "id": "_krNfGFGcYjs",
        "outputId": "f49bb655-7028-46c8-b096-5936ef12e3e4"
      },
      "execution_count": null,
      "outputs": [
        {
          "output_type": "execute_result",
          "data": {
            "text/plain": [
              "'Set theory is the mathematical theory of well-determined collections, called sets,\\\\ of objects that are called members, or elements, of the set. Pure set theory deals exclusively\\\\The theory of the hereditarily-finite sets, namely those finite sets whose elements are also finite sets,\\\\ the elements of which are also finite, and so on,is formally equivalent to arithmetic. \\\\ So the essence of set theory is the study of infinte sets, and \\\\ therefore it can be defined as the mathematical theory of the actual-as opposed to potential-infinite.'"
            ],
            "application/vnd.google.colaboratory.intrinsic+json": {
              "type": "string"
            }
          },
          "metadata": {},
          "execution_count": 13
        }
      ]
    },
    {
      "cell_type": "code",
      "source": [],
      "metadata": {
        "id": "t6exc7fDcvOQ"
      },
      "execution_count": null,
      "outputs": []
    },
    {
      "cell_type": "code",
      "source": [
        "a= 1\n",
        "b= 2\n",
        "c= 3\n",
        "a,b,c = [1,'a',True],(45,67),{'Name' : 'Vikash', 'Age' : 27}\n",
        "a"
      ],
      "metadata": {
        "colab": {
          "base_uri": "https://localhost:8080/"
        },
        "id": "QlU6aG7gcfdK",
        "outputId": "7641e29e-75c9-46a7-9935-264ab97fee08"
      },
      "execution_count": null,
      "outputs": [
        {
          "output_type": "execute_result",
          "data": {
            "text/plain": [
              "[1, 'a', True]"
            ]
          },
          "metadata": {},
          "execution_count": 14
        }
      ]
    },
    {
      "cell_type": "code",
      "source": [
        "\n",
        "a,b = b,a\n",
        "b"
      ],
      "metadata": {
        "colab": {
          "base_uri": "https://localhost:8080/"
        },
        "id": "_xp4IWuCckYt",
        "outputId": "36b24073-234f-4a15-bead-f252ed0d0c7c"
      },
      "execution_count": null,
      "outputs": [
        {
          "output_type": "execute_result",
          "data": {
            "text/plain": [
              "[1, 'a', True]"
            ]
          },
          "metadata": {},
          "execution_count": 15
        }
      ]
    },
    {
      "cell_type": "code",
      "source": [
        "c"
      ],
      "metadata": {
        "id": "nbvgiLrVdEiU",
        "outputId": "80a6d7b8-1610-4fa0-e56c-734b3f0ebfda",
        "colab": {
          "base_uri": "https://localhost:8080/"
        }
      },
      "execution_count": null,
      "outputs": [
        {
          "output_type": "execute_result",
          "data": {
            "text/plain": [
              "{'Name': 'Vikash', 'Age': 27}"
            ]
          },
          "metadata": {},
          "execution_count": 16
        }
      ]
    },
    {
      "cell_type": "code",
      "source": [
        "print('Hello')"
      ],
      "metadata": {
        "id": "goO47IKHdLaV",
        "outputId": "507ab308-08e9-4df5-a106-2334f72f0e46",
        "colab": {
          "base_uri": "https://localhost:8080/"
        }
      },
      "execution_count": null,
      "outputs": [
        {
          "output_type": "stream",
          "name": "stdout",
          "text": [
            "Hello\n"
          ]
        }
      ]
    },
    {
      "cell_type": "code",
      "source": [
        "a"
      ],
      "metadata": {
        "id": "CcFNHAf3dfsp",
        "outputId": "40975d58-a7de-46a4-afb0-c5060a21a066",
        "colab": {
          "base_uri": "https://localhost:8080/"
        }
      },
      "execution_count": null,
      "outputs": [
        {
          "output_type": "execute_result",
          "data": {
            "text/plain": [
              "3"
            ]
          },
          "metadata": {},
          "execution_count": 19
        }
      ]
    },
    {
      "cell_type": "code",
      "source": [
        "\n",
        "x==20"
      ],
      "metadata": {
        "id": "W9QIIZcpfOnH",
        "colab": {
          "base_uri": "https://localhost:8080/"
        },
        "outputId": "c1cc65f6-dc5d-48b5-a0ce-c4921ae99a68"
      },
      "execution_count": null,
      "outputs": [
        {
          "output_type": "execute_result",
          "data": {
            "text/plain": [
              "False"
            ]
          },
          "metadata": {},
          "execution_count": 25
        }
      ]
    },
    {
      "cell_type": "code",
      "source": [
        "if False:\n",
        "    print('It was true!')\n",
        "    if False:\n",
        "      print('It was true!')\n",
        "      x = False\n",
        "      y = True\n",
        "if False:\n",
        "    print('It was true!')\n",
        "    if False:\n",
        "      print('It was true!')\n",
        "      x = False\n",
        "      y = True\n",
        "      if x:\n",
        "        print('y was True!')\n",
        "      else:\n",
        "          print('I will be printed in any case where x is not true')\n"
      ],
      "metadata": {
        "id": "s4PrrMsggDFD"
      },
      "execution_count": null,
      "outputs": []
    },
    {
      "cell_type": "code",
      "source": [
        "person= 'Johnny'\n",
        "person= 'Johnny'\n",
        "if person == 'John':\n",
        "  print(f'Welcome {person}!')\n",
        "else:\n",
        "    print(\"Welcome, what's your name?\")"
      ],
      "metadata": {
        "colab": {
          "base_uri": "https://localhost:8080/"
        },
        "id": "GaXRbGA5gfOV",
        "outputId": "9ef8234c-6619-4d53-d8fe-57f6008abbc0"
      },
      "execution_count": null,
      "outputs": [
        {
          "output_type": "stream",
          "name": "stdout",
          "text": [
            "Welcome, what's your name?\n"
          ]
        }
      ]
    },
    {
      "cell_type": "code",
      "source": [
        "city = 'New Delhi'\n",
        "city = 'New Delhi'\n",
        "if city== 'New Delhi':\n",
        "  print('Welcome to the Indian Capital')\n",
        "elif city == 'Mumbai':\n",
        "    print('Welcome to the Financial Capital of India!')\n",
        "else:\n",
        "      print('Where are you?')\n",
        "      print('Where are you?')"
      ],
      "metadata": {
        "colab": {
          "base_uri": "https://localhost:8080/"
        },
        "id": "v96jgzA2gyz0",
        "outputId": "017eba24-adc4-4685-a256-3fa18b8a2414"
      },
      "execution_count": null,
      "outputs": [
        {
          "output_type": "stream",
          "name": "stdout",
          "text": [
            "Welcome to the Indian Capital\n"
          ]
        }
      ]
    },
    {
      "cell_type": "code",
      "source": [
        "number1 = -2\n",
        "number2 = 9\n",
        "if number1 > 0:\n",
        "if number1 = -2\n",
        "number2 = 9\n",
        "if number1> 0:\n",
        "  if number2 < 10:\n",
        "      print(\"Should be greater than 10\")\n",
        "  elif number1 < 0:\n",
        "        print(\"Ah, that's a negative number\")\n",
        "  else:\n",
        "          print(\"The number is zero!\")\n",
        "          print(\"The number is zero!\")"
      ],
      "metadata": {
        "id": "0qcLoU_0hQVR",
        "colab": {
          "base_uri": "https://localhost:8080/",
          "height": 106
        },
        "outputId": "6eff42da-5483-4ca1-adb1-54cd33e39582"
      },
      "execution_count": 46,
      "outputs": [
        {
          "output_type": "error",
          "ename": "IndentationError",
          "evalue": "expected an indented block after 'if' statement on line 3 (<ipython-input-46-ca92bb6de2f7>, line 4)",
          "traceback": [
            "\u001b[0;36m  File \u001b[0;32m\"<ipython-input-46-ca92bb6de2f7>\"\u001b[0;36m, line \u001b[0;32m4\u001b[0m\n\u001b[0;31m    if number1 = -2\u001b[0m\n\u001b[0m    ^\u001b[0m\n\u001b[0;31mIndentationError\u001b[0m\u001b[0;31m:\u001b[0m expected an indented block after 'if' statement on line 3\n"
          ]
        }
      ]
    },
    {
      "cell_type": "code",
      "source": [
        "if False:\n",
        "    print(\"What do you say?\")\n",
        "else:\n",
        "    print(\"I have nothing to say\")"
      ],
      "metadata": {
        "colab": {
          "base_uri": "https://localhost:8080/"
        },
        "id": "06fn4OfKiTjL",
        "outputId": "2716864d-e4c5-482f-f4ae-571c534b937f"
      },
      "execution_count": 48,
      "outputs": [
        {
          "output_type": "stream",
          "name": "stdout",
          "text": [
            "I have nothing to say\n"
          ]
        }
      ]
    },
    {
      "cell_type": "code",
      "source": [
        "if[None]:\n",
        "    print(\"Well I had a really bad day\")\n",
        "else:\n",
        "    print(\"Come on you aced your test.\")"
      ],
      "metadata": {
        "colab": {
          "base_uri": "https://localhost:8080/"
        },
        "id": "apCHFH0IibYt",
        "outputId": "211909f4-db60-4e1f-ed25-1ece9abe84f0"
      },
      "execution_count": 50,
      "outputs": [
        {
          "output_type": "stream",
          "name": "stdout",
          "text": [
            "Well I had a really bad day\n"
          ]
        }
      ]
    },
    {
      "cell_type": "code",
      "source": [
        "if {1:2,3:4}:\n",
        "    print(\"This is True\")\n",
        "else:\n",
        "    print(\"This is False\")"
      ],
      "metadata": {
        "colab": {
          "base_uri": "https://localhost:8080/"
        },
        "id": "CBsDeu53ii6S",
        "outputId": "bda0aa94-a39e-4d06-be43-a4c3b03bb45d"
      },
      "execution_count": 52,
      "outputs": [
        {
          "output_type": "stream",
          "name": "stdout",
          "text": [
            "This is True\n"
          ]
        }
      ]
    }
  ]
}