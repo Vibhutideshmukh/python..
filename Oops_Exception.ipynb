{
  "cells": [
    {
      "cell_type": "markdown",
      "metadata": {
        "id": "view-in-github",
        "colab_type": "text"
      },
      "source": [
        "<a href=\"https://colab.research.google.com/github/Vibhutideshmukh/python../blob/main/Oops_Exception.ipynb\" target=\"_parent\"><img src=\"https://colab.research.google.com/assets/colab-badge.svg\" alt=\"Open In Colab\"/></a>"
      ]
    },
    {
      "cell_type": "code",
      "execution_count": null,
      "metadata": {
        "colab": {
          "base_uri": "https://localhost:8080/"
        },
        "id": "ftsZogMz4hIH",
        "outputId": "03d34959-a700-4afc-f807-974c188816d1"
      },
      "outputs": [
        {
          "data": {
            "text/plain": [
              "[]"
            ]
          },
          "execution_count": 1,
          "metadata": {},
          "output_type": "execute_result"
        }
      ],
      "source": [
        "empty_list = []\n",
        "empty_list"
      ]
    },
    {
      "cell_type": "code",
      "execution_count": null,
      "metadata": {
        "colab": {
          "base_uri": "https://localhost:8080/"
        },
        "id": "awYopTN75Bm6",
        "outputId": "8d4c0349-bedb-40c8-d94e-7167e6ce67d7"
      },
      "outputs": [
        {
          "data": {
            "text/plain": [
              "[]"
            ]
          },
          "execution_count": 3,
          "metadata": {},
          "output_type": "execute_result"
        }
      ],
      "source": [
        "another_empty_list = list()\n",
        "another_empty_list"
      ]
    },
    {
      "cell_type": "code",
      "execution_count": null,
      "metadata": {
        "colab": {
          "base_uri": "https://localhost:8080/"
        },
        "id": "V0tHKjC-5IXg",
        "outputId": "91edad0b-fcd1-423e-c41f-0c4b3d37d73b"
      },
      "outputs": [
        {
          "data": {
            "text/plain": [
              "[2]"
            ]
          },
          "execution_count": 4,
          "metadata": {},
          "output_type": "execute_result"
        }
      ],
      "source": [
        "another_empty_list.append(2)\n",
        "another_empty_list"
      ]
    },
    {
      "cell_type": "code",
      "execution_count": null,
      "metadata": {
        "colab": {
          "base_uri": "https://localhost:8080/"
        },
        "id": "oKefpD865MLS",
        "outputId": "7ecce9a4-0111-4c43-8d36-9f3654598b3d"
      },
      "outputs": [
        {
          "data": {
            "text/plain": [
              "[2, 1, 3, 1, 3]"
            ]
          },
          "execution_count": 28,
          "metadata": {},
          "output_type": "execute_result"
        }
      ],
      "source": [
        "another_empty_list.append(1)\n",
        "another_empty_list.append(3)\n",
        "another_empty_list"
      ]
    },
    {
      "cell_type": "code",
      "execution_count": null,
      "metadata": {
        "colab": {
          "base_uri": "https://localhost:8080/"
        },
        "id": "Rfh1COF35R1S",
        "outputId": "457ba10d-5659-4909-bf32-b7cb7030b08f"
      },
      "outputs": [
        {
          "data": {
            "text/plain": [
              "2"
            ]
          },
          "execution_count": 6,
          "metadata": {},
          "output_type": "execute_result"
        }
      ],
      "source": [
        "another_empty_list.index(3)"
      ]
    },
    {
      "cell_type": "code",
      "execution_count": null,
      "metadata": {
        "colab": {
          "base_uri": "https://localhost:8080/"
        },
        "id": "BCdSbcNm5VVn",
        "outputId": "609ab97e-cbec-4e1e-e473-9161a2cf7fa1"
      },
      "outputs": [
        {
          "name": "stdout",
          "output_type": "stream",
          "text": [
            "<class 'int'>\n"
          ]
        }
      ],
      "source": [
        "the_sixth_sense = 6\n",
        "print(type(the_sixth_sense))"
      ]
    },
    {
      "cell_type": "code",
      "execution_count": null,
      "metadata": {
        "colab": {
          "base_uri": "https://localhost:8080/"
        },
        "id": "KmYhP9m25ZpM",
        "outputId": "4adfb3c7-eeb7-419a-ef49-54b090374500"
      },
      "outputs": [
        {
          "name": "stdout",
          "output_type": "stream",
          "text": [
            "<class 'float'>\n"
          ]
        }
      ],
      "source": [
        "two_and_a_half_men = 2.5\n",
        "print(type(two_and_a_half_men))"
      ]
    },
    {
      "cell_type": "code",
      "execution_count": null,
      "metadata": {
        "colab": {
          "base_uri": "https://localhost:8080/"
        },
        "id": "s5dCVvs35ebz",
        "outputId": "e4c2b24b-ed19-4abd-e62c-82d8c2cbf3ad"
      },
      "outputs": [
        {
          "name": "stdout",
          "output_type": "stream",
          "text": [
            "<class 'dict'>\n"
          ]
        }
      ],
      "source": [
        "another_list = list()\n",
        "tharoor = {'farrago': 'a confused mixture'}\n",
        "print(type(tharoor))"
      ]
    },
    {
      "cell_type": "code",
      "execution_count": null,
      "metadata": {
        "colab": {
          "base_uri": "https://localhost:8080/"
        },
        "id": "nQI9xjfi5jub",
        "outputId": "7d4cd5b8-2b8e-48d6-8417-841330ba82c9"
      },
      "outputs": [
        {
          "name": "stdout",
          "output_type": "stream",
          "text": [
            "<class 'list'>\n"
          ]
        }
      ],
      "source": [
        "schindlers_list = list()\n",
        "print(type(schindlers_list))"
      ]
    },
    {
      "cell_type": "code",
      "execution_count": null,
      "metadata": {
        "colab": {
          "base_uri": "https://localhost:8080/"
        },
        "id": "NXVBm1b_6N9V",
        "outputId": "af7296cc-e6e2-44de-8a3e-6a189b10520d"
      },
      "outputs": [
        {
          "name": "stdout",
          "output_type": "stream",
          "text": [
            "<class 'dict'>\n"
          ]
        }
      ],
      "source": [
        "another_list = list()\n",
        "tharoor = {'farrago': 'a confused mixture'}\n",
        "print(type(tharoor))\n"
      ]
    },
    {
      "cell_type": "code",
      "execution_count": null,
      "metadata": {
        "id": "Ohq4Srnj72Rk"
      },
      "outputs": [],
      "source": [
        "class HouseStark:\n",
        "    def __init__(self, sigil):\n",
        "        self.sigil = sigil\n",
        "          def motto(self):\n",
        "              return \"House Lannister with sigil \" + self.sigil + \"has the motto 'Winter is coming' \"\n",
        "              class HouseLannister:\n",
        "                def __init__(self, sigil):\n",
        "                    self.sigil = sigil\n",
        "                      def motto(self):\n",
        "                          return \"House Lannister with sigil \" + self.sigil + \"has the motto 'Hear me roar' \"\n",
        "                          arya = HouseStark('direwolf')\n",
        "                          tyrion = HouseLannister('golden lion')\n",
        "                          print(arya.motto())"
      ]
    },
    {
      "cell_type": "code",
      "execution_count": null,
      "metadata": {
        "id": "Xj3oD9RW8FTG"
      },
      "outputs": [],
      "source": [
        "def get_motto(warrior):\n",
        "    print(warrior.motto())\n",
        "    get_motto(arya)\n",
        "    get_motto(tyrion)"
      ]
    },
    {
      "cell_type": "code",
      "execution_count": null,
      "metadata": {
        "id": "h_nsvuDF8ZpJ"
      },
      "outputs": [],
      "source": [
        "try:\n",
        "    print(\"Execute try statements\")\n",
        "    except:\n",
        "      print(\"Always execute finally code blocks\")\n"
      ]
    },
    {
      "cell_type": "code",
      "execution_count": 36,
      "metadata": {
        "colab": {
          "base_uri": "https://localhost:8080/"
        },
        "id": "5SLStD9c83fM",
        "outputId": "e6650d98-45e9-42cd-94e2-53e9cd616315"
      },
      "outputs": [
        {
          "output_type": "stream",
          "name": "stdout",
          "text": [
            "abc\n"
          ]
        }
      ],
      "source": [
        "a = 1\n",
        "b = 0.2\n",
        "a = 1\n",
        "b = 0.2\n",
        "try:\n",
        "  print('abc')\n",
        "except:\n",
        "  print('sddj string is not present')"
      ]
    },
    {
      "cell_type": "code",
      "source": [
        "class Circle:\n",
        "    def __init__(self,radius=1):\n",
        "        self.radius = radius\n",
        "            self.area = 3.14*radius*radius\n",
        "              def setRadius(self, new_radius):\n",
        "                  self.radius = new_radius\n",
        "                      self.area = 3.14*new_radius*new_radius\n",
        "                        def getCircumgerence(self):\n",
        "                            return 2*3.14*self.radius\n",
        "                            c = Circle(2)\n",
        "                            c.area"
      ],
      "metadata": {
        "colab": {
          "base_uri": "https://localhost:8080/",
          "height": 106
        },
        "id": "_8aUjlJo9qtY",
        "outputId": "66a1ff42-958a-4497-a3e0-06ae56cf74ee"
      },
      "execution_count": 37,
      "outputs": [
        {
          "output_type": "error",
          "ename": "IndentationError",
          "evalue": "unexpected indent (<ipython-input-37-1280dc7e7209>, line 4)",
          "traceback": [
            "\u001b[0;36m  File \u001b[0;32m\"<ipython-input-37-1280dc7e7209>\"\u001b[0;36m, line \u001b[0;32m4\u001b[0m\n\u001b[0;31m    self.area = 3.14*radius*radius\u001b[0m\n\u001b[0m    ^\u001b[0m\n\u001b[0;31mIndentationError\u001b[0m\u001b[0;31m:\u001b[0m unexpected indent\n"
          ]
        }
      ]
    }
  ],
  "metadata": {
    "colab": {
      "provenance": [],
      "authorship_tag": "ABX9TyNZk/xiyLFkES4Pwii4pdVy",
      "include_colab_link": true
    },
    "kernelspec": {
      "display_name": "Python 3",
      "name": "python3"
    },
    "language_info": {
      "name": "python"
    }
  },
  "nbformat": 4,
  "nbformat_minor": 0
}