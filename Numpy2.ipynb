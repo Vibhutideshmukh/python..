{
  "nbformat": 4,
  "nbformat_minor": 0,
  "metadata": {
    "colab": {
      "provenance": [],
      "authorship_tag": "ABX9TyMaDMrHn2nnaNRYur6PoTtu",
      "include_colab_link": true
    },
    "kernelspec": {
      "name": "python3",
      "display_name": "Python 3"
    },
    "language_info": {
      "name": "python"
    }
  },
  "cells": [
    {
      "cell_type": "markdown",
      "metadata": {
        "id": "view-in-github",
        "colab_type": "text"
      },
      "source": [
        "<a href=\"https://colab.research.google.com/github/Vibhutideshmukh/python../blob/main/Numpy2.ipynb\" target=\"_parent\"><img src=\"https://colab.research.google.com/assets/colab-badge.svg\" alt=\"Open In Colab\"/></a>"
      ]
    },
    {
      "source": [
        "import numpy as np # import the numpy library and alias it as 'np'\n",
        "\n",
        "random_3D_cohort = np.array(np.random.randint(10,45,(2,4,6)))\n",
        "print(f\"The defined array is \\n{random_3D_cohort}\")\n",
        "print(f\" \\n The shape of the array is {random_3D_cohort.shape}\")"
      ],
      "cell_type": "code",
      "metadata": {
        "colab": {
          "base_uri": "https://localhost:8080/"
        },
        "id": "-S-2fUZMFtxm",
        "outputId": "90281842-0639-44e0-e1ca-3112f0602c50"
      },
      "execution_count": null,
      "outputs": [
        {
          "output_type": "stream",
          "name": "stdout",
          "text": [
            "The defined array is \n",
            "[[[29 41 25 38 42 36]\n",
            "  [44 11 15 28 39 28]\n",
            "  [32 36 29 23 14 28]\n",
            "  [27 26 39 17 33 22]]\n",
            "\n",
            " [[42 31 39 19 43 18]\n",
            "  [22 42 29 38 22 31]\n",
            "  [27 10 19 16 39 16]\n",
            "  [44 34 12 33 12 28]]]\n",
            " \n",
            " The shape of the array is (2, 4, 6)\n"
          ]
        }
      ]
    },
    {
      "cell_type": "code",
      "source": [
        "\n",
        "a = np.random.randint(2,6,(2,3,3))\n",
        "print(a)\n",
        "print(a.shape)"
      ],
      "metadata": {
        "colab": {
          "base_uri": "https://localhost:8080/"
        },
        "id": "BG_MQtaCHFD9",
        "outputId": "369b79c7-b000-497e-82b5-ba4d07c1ae8b"
      },
      "execution_count": 9,
      "outputs": [
        {
          "output_type": "stream",
          "name": "stdout",
          "text": [
            "[[[2 2 3]\n",
            "  [3 4 4]\n",
            "  [2 4 3]]\n",
            "\n",
            " [[2 2 3]\n",
            "  [5 4 3]\n",
            "  [4 4 2]]]\n",
            "(2, 3, 3)\n"
          ]
        }
      ]
    },
    {
      "cell_type": "code",
      "source": [
        "new_shape = (2,3,6)\n",
        "new_shape = (2,3,6)\n",
        "resized_random_3D_cohort = np.resize(random_3D_cohort,new_shape)\n",
        "print(f\"This resized array is \\n{resized_random_3D_cohort}\")\n",
        "print(f\" \\n The shape of the array is\")"
      ],
      "metadata": {
        "colab": {
          "base_uri": "https://localhost:8080/"
        },
        "id": "8BUORPUOF55P",
        "outputId": "fef0e8d2-f563-416a-bf0f-19efb8176a79"
      },
      "execution_count": null,
      "outputs": [
        {
          "output_type": "stream",
          "name": "stdout",
          "text": [
            "This resized array is \n",
            "[[[29 41 25 38 42 36]\n",
            "  [44 11 15 28 39 28]\n",
            "  [32 36 29 23 14 28]]\n",
            "\n",
            " [[27 26 39 17 33 22]\n",
            "  [42 31 39 19 43 18]\n",
            "  [22 42 29 38 22 31]]]\n",
            " \n",
            " The shape of the array is\n"
          ]
        }
      ]
    },
    {
      "cell_type": "code",
      "source": [
        "new_shape = (2,3,6)\n",
        "resized_random_3D_cohort = np.resize(random_3D_cohort,new_shape)\n",
        "print(f\"This resized array is \\n{resized_random_3D_cohort}\")\n",
        "print(f\" \\n The shape of the array is {resized_random_3D_cohort.shape}\")\n"
      ],
      "metadata": {
        "colab": {
          "base_uri": "https://localhost:8080/"
        },
        "id": "qMrrX0x5GFpj",
        "outputId": "de752966-3b66-4271-f0cb-45dca863a9aa"
      },
      "execution_count": null,
      "outputs": [
        {
          "output_type": "stream",
          "name": "stdout",
          "text": [
            "This resized array is \n",
            "[[[29 41 25 38 42 36]\n",
            "  [44 11 15 28 39 28]\n",
            "  [32 36 29 23 14 28]]\n",
            "\n",
            " [[27 26 39 17 33 22]\n",
            "  [42 31 39 19 43 18]\n",
            "  [22 42 29 38 22 31]]]\n",
            " \n",
            " The shape of the array is (2, 3, 6)\n"
          ]
        }
      ]
    },
    {
      "cell_type": "code",
      "source": [
        "import numpy as np\n",
        "random_3D_cohort = np.array(np.random.randint(10,45,(2,4,6)))\n",
        "print(f\"The defined array is \\n{random_3D_cohort}\")\n",
        "print(f\" \\n The shape of the array is {random_3D_cohort.shape}\")\n"
      ],
      "metadata": {
        "colab": {
          "base_uri": "https://localhost:8080/"
        },
        "id": "D0vtCDu1GU4T",
        "outputId": "60899c75-ca8a-4809-ad13-7a6d8be37b5b"
      },
      "execution_count": null,
      "outputs": [
        {
          "output_type": "stream",
          "name": "stdout",
          "text": [
            "The defined array is \n",
            "[[[12 41 22 41 43 12]\n",
            "  [16 42 33 15 13 29]\n",
            "  [25 28 23 21 17 28]\n",
            "  [29 22 24 10 18 28]]\n",
            "\n",
            " [[23 36 14 38 34 26]\n",
            "  [40 31 40 22 35 14]\n",
            "  [26 33 12 17 16 44]\n",
            "  [37 17 41 42 13 36]]]\n",
            " \n",
            " The shape of the array is (2, 4, 6)\n"
          ]
        }
      ]
    },
    {
      "cell_type": "code",
      "source": [
        "import numpy as np\n",
        "a = np.random.randint(10,20,(2,3,4))   #Axis 0-2 ; Axis 1-3 ; Axis 2-4\n",
        "print(a)\n",
        "print(a.shape)"
      ],
      "metadata": {
        "colab": {
          "base_uri": "https://localhost:8080/"
        },
        "id": "cq6yxxgjGYvh",
        "outputId": "b1d93ba1-442e-4687-9a85-db34082dbaee"
      },
      "execution_count": 10,
      "outputs": [
        {
          "output_type": "stream",
          "name": "stdout",
          "text": [
            "[[[18 17 17 15]\n",
            "  [19 10 12 12]\n",
            "  [11 16 13 11]]\n",
            "\n",
            " [[19 12 16 11]\n",
            "  [14 17 13 19]\n",
            "  [16 19 19 12]]]\n",
            "(2, 3, 4)\n"
          ]
        }
      ]
    },
    {
      "cell_type": "code",
      "source": [
        "#Insert along axis = 2\n",
        "np.insert(a,0,200,axis=2)"
      ],
      "metadata": {
        "id": "91aDhHbbGdei",
        "outputId": "e3d2ea32-1593-411d-9dfa-1634bf660cd8",
        "colab": {
          "base_uri": "https://localhost:8080/"
        }
      },
      "execution_count": null,
      "outputs": [
        {
          "output_type": "execute_result",
          "data": {
            "text/plain": [
              "array([[[200,  16,  18,  14,  15],\n",
              "        [200,  13,  11,  10,  17],\n",
              "        [200,  19,  10,  11,  12]],\n",
              "\n",
              "       [[200,  18,  14,  15,  12],\n",
              "        [200,  12,  16,  13,  19],\n",
              "        [200,  19,  12,  14,  15]]])"
            ]
          },
          "metadata": {},
          "execution_count": 8
        }
      ]
    },
    {
      "cell_type": "code",
      "source": [
        "\n",
        "#Insert along axis = 0\n",
        "np.insert(a,1,100,axis=0)"
      ],
      "metadata": {
        "colab": {
          "base_uri": "https://localhost:8080/"
        },
        "id": "KtU8WuPPHQnq",
        "outputId": "bb7ba9b0-875c-422d-e429-912e476fbbf0"
      },
      "execution_count": 17,
      "outputs": [
        {
          "output_type": "execute_result",
          "data": {
            "text/plain": [
              "array([[[  5,   5,   3],\n",
              "        [  3,   2,   3],\n",
              "        [  4,   4,   3]],\n",
              "\n",
              "       [[100, 100, 100],\n",
              "        [100, 100, 100],\n",
              "        [100, 100, 100]],\n",
              "\n",
              "       [[  5,   4,   3],\n",
              "        [  2,   5,   3],\n",
              "        [  5,   5,   2]]])"
            ]
          },
          "metadata": {},
          "execution_count": 17
        }
      ]
    },
    {
      "cell_type": "code",
      "source": [
        "print(a)\n",
        "print(a.shape)"
      ],
      "metadata": {
        "colab": {
          "base_uri": "https://localhost:8080/"
        },
        "id": "TKjQMeK0HVv4",
        "outputId": "98b30eb1-2bc6-4d97-9cc9-427d013feec5"
      },
      "execution_count": 12,
      "outputs": [
        {
          "output_type": "stream",
          "name": "stdout",
          "text": [
            "[[[18 17 17 15]\n",
            "  [19 10 12 12]\n",
            "  [11 16 13 11]]\n",
            "\n",
            " [[19 12 16 11]\n",
            "  [14 17 13 19]\n",
            "  [16 19 19 12]]]\n",
            "(2, 3, 4)\n"
          ]
        }
      ]
    },
    {
      "cell_type": "code",
      "source": [
        "b = np.random.randint(2,6,(2,1,3))\n",
        "print(b)"
      ],
      "metadata": {
        "colab": {
          "base_uri": "https://localhost:8080/"
        },
        "id": "3wuWjoIFHZvB",
        "outputId": "a7c9170e-539e-4b6b-ff93-e2af814f01c6"
      },
      "execution_count": 13,
      "outputs": [
        {
          "output_type": "stream",
          "name": "stdout",
          "text": [
            "[[[2 4 2]]\n",
            "\n",
            " [[5 3 3]]]\n"
          ]
        }
      ]
    },
    {
      "cell_type": "code",
      "source": [
        "np.append(a,50)"
      ],
      "metadata": {
        "colab": {
          "base_uri": "https://localhost:8080/"
        },
        "id": "-dlDFsrGHeE3",
        "outputId": "4b60233e-b60f-4409-e4f6-f843782a9e72"
      },
      "execution_count": 14,
      "outputs": [
        {
          "output_type": "execute_result",
          "data": {
            "text/plain": [
              "array([18, 17, 17, 15, 19, 10, 12, 12, 11, 16, 13, 11, 19, 12, 16, 11, 14,\n",
              "       17, 13, 19, 16, 19, 19, 12, 50])"
            ]
          },
          "metadata": {},
          "execution_count": 14
        }
      ]
    },
    {
      "cell_type": "code",
      "source": [
        "np.delete(a,(0),axis = 0)"
      ],
      "metadata": {
        "colab": {
          "base_uri": "https://localhost:8080/"
        },
        "id": "0odJV3XDHiUr",
        "outputId": "78e277b7-48af-4340-f2e9-d8e6aac1e16e"
      },
      "execution_count": 15,
      "outputs": [
        {
          "output_type": "execute_result",
          "data": {
            "text/plain": [
              "array([[[19, 12, 16, 11],\n",
              "        [14, 17, 13, 19],\n",
              "        [16, 19, 19, 12]]])"
            ]
          },
          "metadata": {},
          "execution_count": 15
        }
      ]
    },
    {
      "cell_type": "code",
      "source": [
        "import numpy as np\n",
        "a = np.random.randint(2,6,(2,3,3))\n",
        "print(a)\n",
        "print(a.shape)"
      ],
      "metadata": {
        "colab": {
          "base_uri": "https://localhost:8080/"
        },
        "id": "JyKGevZFH25P",
        "outputId": "868be5c3-383d-43ac-a174-2fabfc98597b"
      },
      "execution_count": 19,
      "outputs": [
        {
          "output_type": "stream",
          "name": "stdout",
          "text": [
            "[[[5 5 5]\n",
            "  [2 4 2]\n",
            "  [2 3 5]]\n",
            "\n",
            " [[3 4 2]\n",
            "  [2 3 2]\n",
            "  [3 4 3]]]\n",
            "(2, 3, 3)\n"
          ]
        }
      ]
    },
    {
      "cell_type": "code",
      "source": [
        "np.append(a,b,axis=1)"
      ],
      "metadata": {
        "colab": {
          "base_uri": "https://localhost:8080/"
        },
        "id": "NSRBr2ahIBvp",
        "outputId": "3759e201-f07d-4d8c-cd2c-08e85deb9972"
      },
      "execution_count": 20,
      "outputs": [
        {
          "output_type": "execute_result",
          "data": {
            "text/plain": [
              "array([[[5, 5, 5],\n",
              "        [2, 4, 2],\n",
              "        [2, 3, 5],\n",
              "        [2, 4, 2]],\n",
              "\n",
              "       [[3, 4, 2],\n",
              "        [2, 3, 2],\n",
              "        [3, 4, 3],\n",
              "        [5, 3, 3]]])"
            ]
          },
          "metadata": {},
          "execution_count": 20
        }
      ]
    },
    {
      "cell_type": "code",
      "source": [
        "np.delete(a,(0,1),axis = 2)"
      ],
      "metadata": {
        "colab": {
          "base_uri": "https://localhost:8080/"
        },
        "id": "rr9AI6WyIJ2J",
        "outputId": "0c0f7d41-a410-43e3-feb7-0db422439405"
      },
      "execution_count": 21,
      "outputs": [
        {
          "output_type": "execute_result",
          "data": {
            "text/plain": [
              "array([[[5],\n",
              "        [2],\n",
              "        [5]],\n",
              "\n",
              "       [[2],\n",
              "        [2],\n",
              "        [3]]])"
            ]
          },
          "metadata": {},
          "execution_count": 21
        }
      ]
    },
    {
      "cell_type": "code",
      "source": [
        "a"
      ],
      "metadata": {
        "colab": {
          "base_uri": "https://localhost:8080/"
        },
        "id": "UZ4igFzdIOor",
        "outputId": "2238c6e3-606f-4931-fc4e-d3f09ae1aff1"
      },
      "execution_count": 22,
      "outputs": [
        {
          "output_type": "execute_result",
          "data": {
            "text/plain": [
              "array([[[5, 5, 5],\n",
              "        [2, 4, 2],\n",
              "        [2, 3, 5]],\n",
              "\n",
              "       [[3, 4, 2],\n",
              "        [2, 3, 2],\n",
              "        [3, 4, 3]]])"
            ]
          },
          "metadata": {},
          "execution_count": 22
        }
      ]
    },
    {
      "cell_type": "code",
      "source": [
        "np.delete(a,(0,2),axis = 1)"
      ],
      "metadata": {
        "colab": {
          "base_uri": "https://localhost:8080/"
        },
        "id": "-z9Rd-nIITL1",
        "outputId": "e841fda3-3eb8-4197-ee2d-3beea1c0069c"
      },
      "execution_count": 24,
      "outputs": [
        {
          "output_type": "execute_result",
          "data": {
            "text/plain": [
              "array([[[2, 4, 2]],\n",
              "\n",
              "       [[2, 3, 2]]])"
            ]
          },
          "metadata": {},
          "execution_count": 24
        }
      ]
    },
    {
      "cell_type": "code",
      "source": [
        "np.unique(a,return_counts=True)\n",
        ""
      ],
      "metadata": {
        "colab": {
          "base_uri": "https://localhost:8080/"
        },
        "id": "4bVqrVOUIaT-",
        "outputId": "ae71095a-f470-4168-8f82-8f0ad0d7ec8f"
      },
      "execution_count": 25,
      "outputs": [
        {
          "output_type": "execute_result",
          "data": {
            "text/plain": [
              "(array([2, 3, 4, 5]), array([6, 5, 3, 4]))"
            ]
          },
          "metadata": {},
          "execution_count": 25
        }
      ]
    },
    {
      "cell_type": "code",
      "source": [
        "np.unique(a)"
      ],
      "metadata": {
        "colab": {
          "base_uri": "https://localhost:8080/"
        },
        "id": "rqB_E7FfIkCp",
        "outputId": "7364f25d-23bd-4927-fcb3-e18dc4234239"
      },
      "execution_count": 26,
      "outputs": [
        {
          "output_type": "execute_result",
          "data": {
            "text/plain": [
              "array([2, 3, 4, 5])"
            ]
          },
          "metadata": {},
          "execution_count": 26
        }
      ]
    },
    {
      "cell_type": "code",
      "source": [
        "a = np.random.randint(2,20,(2,3,3))\n",
        "print(a)\n",
        "print(a.shape)"
      ],
      "metadata": {
        "colab": {
          "base_uri": "https://localhost:8080/"
        },
        "id": "qh5YfmhJIoPW",
        "outputId": "885ff030-ac15-4dc2-dfe7-8e10793cfb80"
      },
      "execution_count": 27,
      "outputs": [
        {
          "output_type": "stream",
          "name": "stdout",
          "text": [
            "[[[ 3 18 17]\n",
            "  [11  7  8]\n",
            "  [ 3 17  3]]\n",
            "\n",
            " [[ 5  2 12]\n",
            "  [16  7  2]\n",
            "  [ 9  6  2]]]\n",
            "(2, 3, 3)\n"
          ]
        }
      ]
    },
    {
      "cell_type": "code",
      "source": [
        "\n",
        "a = [1,2,3]\n",
        "b= a.copy()\n",
        "b[0] = 10\n",
        "print(b)\n",
        "print(a)"
      ],
      "metadata": {
        "colab": {
          "base_uri": "https://localhost:8080/"
        },
        "id": "EIdedr7GIsjT",
        "outputId": "b0f29dc1-bb0e-4761-9076-ea5b32cd4df8"
      },
      "execution_count": 28,
      "outputs": [
        {
          "output_type": "stream",
          "name": "stdout",
          "text": [
            "[10, 2, 3]\n",
            "[1, 2, 3]\n"
          ]
        }
      ]
    },
    {
      "cell_type": "code",
      "source": [
        "a = [1,2,3]\n",
        "b= a\n",
        "b[0] = 10\n",
        "print(b)\n",
        "print(a)"
      ],
      "metadata": {
        "colab": {
          "base_uri": "https://localhost:8080/"
        },
        "id": "_kLyBfj_Iyez",
        "outputId": "b82c42cb-c23f-4d13-f6f4-3f32bf6899cb"
      },
      "execution_count": 29,
      "outputs": [
        {
          "output_type": "stream",
          "name": "stdout",
          "text": [
            "[10, 2, 3]\n",
            "[10, 2, 3]\n"
          ]
        }
      ]
    },
    {
      "cell_type": "code",
      "source": [
        "np.unique(a,return_counts=True,return_index=True)\n",
        ""
      ],
      "metadata": {
        "colab": {
          "base_uri": "https://localhost:8080/"
        },
        "id": "mulRV6t3I3AR",
        "outputId": "b60cb844-2318-475e-c20e-eb5bef52d7e6"
      },
      "execution_count": 30,
      "outputs": [
        {
          "output_type": "execute_result",
          "data": {
            "text/plain": [
              "(array([ 2,  3, 10]), array([1, 2, 0]), array([1, 1, 1]))"
            ]
          },
          "metadata": {},
          "execution_count": 30
        }
      ]
    },
    {
      "cell_type": "code",
      "source": [
        "np.arange(3) + 5"
      ],
      "metadata": {
        "colab": {
          "base_uri": "https://localhost:8080/"
        },
        "id": "N2IQYgJqI6oO",
        "outputId": "623cb054-ac40-48bf-f42e-e0a93e1ec4d7"
      },
      "execution_count": 31,
      "outputs": [
        {
          "output_type": "execute_result",
          "data": {
            "text/plain": [
              "array([5, 6, 7])"
            ]
          },
          "metadata": {},
          "execution_count": 31
        }
      ]
    },
    {
      "cell_type": "code",
      "source": [
        "a = np.array([2,34,12])\n",
        "b = a.copy()\n",
        "b[0] = -999\n",
        "print(b)\n",
        "print(a)"
      ],
      "metadata": {
        "colab": {
          "base_uri": "https://localhost:8080/"
        },
        "id": "R99Kf2EhJAE5",
        "outputId": "55ef9388-6f16-4898-ad59-cbf8cc4438e7"
      },
      "execution_count": 32,
      "outputs": [
        {
          "output_type": "stream",
          "name": "stdout",
          "text": [
            "[-999   34   12]\n",
            "[ 2 34 12]\n"
          ]
        }
      ]
    },
    {
      "cell_type": "code",
      "source": [
        "a = np.array([2,34,12])\n",
        "b = a\n",
        "b[0] = -999\n",
        "print(b)\n",
        "print(a)"
      ],
      "metadata": {
        "colab": {
          "base_uri": "https://localhost:8080/"
        },
        "id": "hupN0CeAJFHS",
        "outputId": "53890336-772c-4d7b-e4f0-e89a83211c55"
      },
      "execution_count": 33,
      "outputs": [
        {
          "output_type": "stream",
          "name": "stdout",
          "text": [
            "[-999   34   12]\n",
            "[-999   34   12]\n"
          ]
        }
      ]
    },
    {
      "cell_type": "code",
      "source": [
        "np.arange(3).reshape((3,1)) + np.arange(4)\n",
        ""
      ],
      "metadata": {
        "colab": {
          "base_uri": "https://localhost:8080/"
        },
        "id": "-6EaS8ITJKAd",
        "outputId": "73693734-cce7-4063-8dcb-14711b2abc97"
      },
      "execution_count": 34,
      "outputs": [
        {
          "output_type": "execute_result",
          "data": {
            "text/plain": [
              "array([[0, 1, 2, 3],\n",
              "       [1, 2, 3, 4],\n",
              "       [2, 3, 4, 5]])"
            ]
          },
          "metadata": {},
          "execution_count": 34
        }
      ]
    },
    {
      "cell_type": "code",
      "source": [
        "np.arange(3).reshape((3,1)) + np.arange(3)\n",
        ""
      ],
      "metadata": {
        "colab": {
          "base_uri": "https://localhost:8080/"
        },
        "id": "lrADjTMhJOh5",
        "outputId": "00cf98c0-0744-4883-e29b-9eb374da6321"
      },
      "execution_count": 35,
      "outputs": [
        {
          "output_type": "execute_result",
          "data": {
            "text/plain": [
              "array([[0, 1, 2],\n",
              "       [1, 2, 3],\n",
              "       [2, 3, 4]])"
            ]
          },
          "metadata": {},
          "execution_count": 35
        }
      ]
    },
    {
      "cell_type": "code",
      "source": [
        "np.ones((3,3)) + np.arange(3)"
      ],
      "metadata": {
        "colab": {
          "base_uri": "https://localhost:8080/"
        },
        "id": "2mOh4OrTJTHW",
        "outputId": "3e625494-8e59-4dd0-da5c-4d3b593f8bf6"
      },
      "execution_count": 36,
      "outputs": [
        {
          "output_type": "execute_result",
          "data": {
            "text/plain": [
              "array([[1., 2., 3.],\n",
              "       [1., 2., 3.],\n",
              "       [1., 2., 3.]])"
            ]
          },
          "metadata": {},
          "execution_count": 36
        }
      ]
    },
    {
      "cell_type": "code",
      "source": [
        "np.arange(2)"
      ],
      "metadata": {
        "colab": {
          "base_uri": "https://localhost:8080/"
        },
        "id": "8SiJC_7vJXpU",
        "outputId": "7b84a4a9-bdc5-4947-c3d4-fa9b11b104f2"
      },
      "execution_count": 37,
      "outputs": [
        {
          "output_type": "execute_result",
          "data": {
            "text/plain": [
              "array([0, 1])"
            ]
          },
          "metadata": {},
          "execution_count": 37
        }
      ]
    },
    {
      "cell_type": "code",
      "source": [
        "\n",
        "a = np.random.randint(2,6,(2,4))\n",
        "print(a)\n",
        "b = np.random.randint(0,5,(2,4))\n",
        "print(b)"
      ],
      "metadata": {
        "colab": {
          "base_uri": "https://localhost:8080/"
        },
        "id": "d8ARVRESJetz",
        "outputId": "d797cc15-63a6-4be4-9d18-e0d7fb287cf8"
      },
      "execution_count": 38,
      "outputs": [
        {
          "output_type": "stream",
          "name": "stdout",
          "text": [
            "[[5 2 5 2]\n",
            " [3 5 3 4]]\n",
            "[[4 4 3 3]\n",
            " [1 1 0 3]]\n"
          ]
        }
      ]
    },
    {
      "cell_type": "code",
      "source": [
        "a = np.random.randint(2,6,(2,4))\n",
        "print(a)\n",
        "b = np.random.randint(1,10,(2,2))\n",
        "print(b)"
      ],
      "metadata": {
        "colab": {
          "base_uri": "https://localhost:8080/"
        },
        "id": "lLA38nutJjDH",
        "outputId": "6c49c088-7ba6-4968-e612-34af8c2989d2"
      },
      "execution_count": 39,
      "outputs": [
        {
          "output_type": "stream",
          "name": "stdout",
          "text": [
            "[[2 2 2 2]\n",
            " [3 4 5 2]]\n",
            "[[1 5]\n",
            " [2 2]]\n"
          ]
        }
      ]
    },
    {
      "source": [
        "a = np.random.randint(2,6,(2,4))\n",
        "print(a)\n",
        "b = np.random.randint(1,10,(4,2)) # Changed the shape of 'b' to (4, 2) for matrix multiplication\n",
        "print(b)\n",
        "np.matmul(a,b)  # Use np.matmul for matrix multiplication or a @ b"
      ],
      "cell_type": "code",
      "metadata": {
        "colab": {
          "base_uri": "https://localhost:8080/"
        },
        "id": "5PVjJEyQJx-P",
        "outputId": "9741dfc8-0cfc-4df0-8d3a-c7dbe40580a8"
      },
      "execution_count": 41,
      "outputs": [
        {
          "output_type": "stream",
          "name": "stdout",
          "text": [
            "[[5 4 2 4]\n",
            " [2 4 4 2]]\n",
            "[[4 3]\n",
            " [8 7]\n",
            " [2 5]\n",
            " [9 9]]\n"
          ]
        },
        {
          "output_type": "execute_result",
          "data": {
            "text/plain": [
              "array([[92, 89],\n",
              "       [66, 72]])"
            ]
          },
          "metadata": {},
          "execution_count": 41
        }
      ]
    },
    {
      "cell_type": "code",
      "source": [
        "\n",
        "a=np.random.randint(5,9,(2,4))\n",
        "print(a)"
      ],
      "metadata": {
        "colab": {
          "base_uri": "https://localhost:8080/"
        },
        "id": "S9HH9gu-J5mA",
        "outputId": "8e6e672b-39b7-4a4a-c69e-f475f44f3239"
      },
      "execution_count": 42,
      "outputs": [
        {
          "output_type": "stream",
          "name": "stdout",
          "text": [
            "[[7 5 7 5]\n",
            " [5 6 8 6]]\n"
          ]
        }
      ]
    },
    {
      "cell_type": "code",
      "source": [
        "print(np.sum(a))\n",
        "print(np.sum(a,axis = 0))\n",
        "print(np.sum(a,axis = 1))"
      ],
      "metadata": {
        "colab": {
          "base_uri": "https://localhost:8080/"
        },
        "id": "_x3ZFVAoJ9QM",
        "outputId": "c4be7744-d8b8-44f5-98d6-ce83e06aba3a"
      },
      "execution_count": 43,
      "outputs": [
        {
          "output_type": "stream",
          "name": "stdout",
          "text": [
            "49\n",
            "[12 11 15 11]\n",
            "[24 25]\n"
          ]
        }
      ]
    },
    {
      "cell_type": "code",
      "source": [
        "print(np.min(a))\n",
        "print(np.min(a,axis=1)) #Across Column\n",
        "a =np.random.randint(0,20,(3,3))\n",
        "print(a)"
      ],
      "metadata": {
        "colab": {
          "base_uri": "https://localhost:8080/"
        },
        "id": "ArkpVB0CKAyI",
        "outputId": "f2646438-2518-460a-e425-12bceb1417f1"
      },
      "execution_count": 44,
      "outputs": [
        {
          "output_type": "stream",
          "name": "stdout",
          "text": [
            "5\n",
            "[5 5]\n",
            "[[19  8  1]\n",
            " [18  5 12]\n",
            " [10 12  7]]\n"
          ]
        }
      ]
    },
    {
      "cell_type": "code",
      "source": [
        "print(np.sort(a,axis=0)) # Ascending\n",
        ""
      ],
      "metadata": {
        "colab": {
          "base_uri": "https://localhost:8080/"
        },
        "id": "pWXIMMwNKFcP",
        "outputId": "58fc761f-3f34-4fc0-b0f5-82ea4ed159c3"
      },
      "execution_count": 45,
      "outputs": [
        {
          "output_type": "stream",
          "name": "stdout",
          "text": [
            "[[10  5  1]\n",
            " [18  8  7]\n",
            " [19 12 12]]\n"
          ]
        }
      ]
    },
    {
      "cell_type": "code",
      "source": [
        "print(np.sort(a,axis=1))"
      ],
      "metadata": {
        "colab": {
          "base_uri": "https://localhost:8080/"
        },
        "id": "MrcJK5joKKL3",
        "outputId": "994bbc48-82fa-4cb1-bd1e-74802d415f22"
      },
      "execution_count": 46,
      "outputs": [
        {
          "output_type": "stream",
          "name": "stdout",
          "text": [
            "[[ 1  8 19]\n",
            " [ 5 12 18]\n",
            " [ 7 10 12]]\n"
          ]
        }
      ]
    },
    {
      "cell_type": "code",
      "source": [
        "print(-np.sort(-a,axis=1)) #Descending\n",
        ""
      ],
      "metadata": {
        "colab": {
          "base_uri": "https://localhost:8080/"
        },
        "id": "l4CercozKOnl",
        "outputId": "02588fa6-38a6-411e-c6e4-0584eddfa99f"
      },
      "execution_count": 47,
      "outputs": [
        {
          "output_type": "stream",
          "name": "stdout",
          "text": [
            "[[19  8  1]\n",
            " [18 12  5]\n",
            " [12 10  7]]\n"
          ]
        }
      ]
    },
    {
      "cell_type": "code",
      "source": [
        "sum(np.arange(3)*np.arange(3).transpose())\n",
        ""
      ],
      "metadata": {
        "colab": {
          "base_uri": "https://localhost:8080/"
        },
        "id": "IGwFxBx0KSW5",
        "outputId": "632745fb-bc30-4016-80dc-cb2eadd66a54"
      },
      "execution_count": 48,
      "outputs": [
        {
          "output_type": "execute_result",
          "data": {
            "text/plain": [
              "5"
            ]
          },
          "metadata": {},
          "execution_count": 48
        }
      ]
    }
  ]
}