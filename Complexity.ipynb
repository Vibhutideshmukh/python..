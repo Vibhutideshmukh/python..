{
  "nbformat": 4,
  "nbformat_minor": 0,
  "metadata": {
    "colab": {
      "provenance": [],
      "authorship_tag": "ABX9TyMWZATnIjspIaPXPTDIHIt5",
      "include_colab_link": true
    },
    "kernelspec": {
      "name": "python3",
      "display_name": "Python 3"
    },
    "language_info": {
      "name": "python"
    }
  },
  "cells": [
    {
      "cell_type": "markdown",
      "metadata": {
        "id": "view-in-github",
        "colab_type": "text"
      },
      "source": [
        "<a href=\"https://colab.research.google.com/github/Vibhutideshmukh/python../blob/main/Complexity.ipynb\" target=\"_parent\"><img src=\"https://colab.research.google.com/assets/colab-badge.svg\" alt=\"Open In Colab\"/></a>"
      ]
    },
    {
      "cell_type": "code",
      "execution_count": 14,
      "metadata": {
        "colab": {
          "base_uri": "https://localhost:8080/"
        },
        "id": "M54xD_xMCgui",
        "outputId": "5ea7bda7-a369-46f2-8aad-74d504131386"
      },
      "outputs": [
        {
          "output_type": "stream",
          "name": "stdout",
          "text": [
            "Match found at index:  4\n",
            "4\n"
          ]
        }
      ],
      "source": [
        "integer_to_match = 13\n",
        "list_to_search = [1,3,5,8,13,15,16,18,20,22,30,40,50,55,67]\n",
        "\n",
        "c=0\n",
        "for i in range(len(list_to_search)):\n",
        "  if integer_to_match==list_to_search[i]:\n",
        "      print(\"Match found at index: \", i)\n",
        "      break\n",
        "  c+=1\n",
        "print(c)\n",
        ""
      ]
    },
    {
      "cell_type": "code",
      "source": [
        "# This is not Python code.  It appears to be a print statement.\n",
        "# If you want to print it in Python, you would use:\n",
        "print(\"Match found at index : 5\")"
      ],
      "metadata": {
        "colab": {
          "base_uri": "https://localhost:8080/"
        },
        "id": "yVO_dytUEeyx",
        "outputId": "8fcdbd80-119f-4987-86a6-fde66d873c74"
      },
      "execution_count": 16,
      "outputs": [
        {
          "output_type": "stream",
          "name": "stdout",
          "text": [
            "Match found at index : 5\n"
          ]
        }
      ]
    },
    {
      "cell_type": "code",
      "source": [
        "list_to_search.index(integer_to_match)"
      ],
      "metadata": {
        "colab": {
          "base_uri": "https://localhost:8080/"
        },
        "id": "SwOIJo3lEr5n",
        "outputId": "d4b82640-14a6-4584-b03a-d4501af50948"
      },
      "execution_count": 17,
      "outputs": [
        {
          "output_type": "execute_result",
          "data": {
            "text/plain": [
              "4"
            ]
          },
          "metadata": {},
          "execution_count": 17
        }
      ]
    },
    {
      "cell_type": "code",
      "source": [
        "list_to_search.sort()\n",
        "print(list_to_search)\n",
        "l=0\n",
        "r=len(list_to_search)-1\n",
        "c=0\n",
        "while l<r:\n",
        "  m=(l+r)//2\n",
        "  if list_to_search[m]==integer_to_match:\n",
        "    break\n",
        "  elif list_to_search[m]<integer_to_match:\n",
        "    l=m+1\n",
        "  else:\n",
        "    r=m-1\n",
        "  c+=1\n",
        "print(c)\n",
        ""
      ],
      "metadata": {
        "colab": {
          "base_uri": "https://localhost:8080/"
        },
        "id": "T61T3CA7E1mO",
        "outputId": "1801c4fb-eed3-439d-d15e-7c73d7f23764"
      },
      "execution_count": 23,
      "outputs": [
        {
          "output_type": "stream",
          "name": "stdout",
          "text": [
            "[1, 3, 5, 8, 13, 15, 16, 18, 20, 22, 30, 40, 50, 55, 67]\n",
            "3\n"
          ]
        }
      ]
    },
    {
      "source": [
        "def binary_search(arr, x, low, high):  # Added low as an argument\n",
        "  c=0\n",
        "  # Check base case\n",
        "  if high >= low:\n",
        "    mid = (high + low) // 2\n",
        "    if arr[mid] == x:\n",
        "      return mid\n",
        "    elif arr[mid] > x:\n",
        "      return binary_search(arr, x, low, mid - 1) # Pass low to recursive call\n",
        "    else:\n",
        "      return binary_search(arr, x, mid + 1, high) # Pass high to recursive call\n",
        "  else:\n",
        "    return -1 # Element is not present in the array\n",
        "\n",
        "#Test array\n",
        "integer_to_match = 13\n",
        "list_to_search = [1,3,5,8,12,16,18,20,22,30,40,50,55,67]\n",
        "\n",
        "#Function call\n",
        "result = binary_search(list_to_search, integer_to_match, 0, len(list_to_search)-1) # Corrected argument order\n",
        "\n",
        "print(\"Match found at index\",str(result))"
      ],
      "cell_type": "code",
      "metadata": {
        "colab": {
          "base_uri": "https://localhost:8080/"
        },
        "id": "xDD6WqCpKKfN",
        "outputId": "aa4c4c69-4faa-477d-829f-19e0981a23e2"
      },
      "execution_count": 43,
      "outputs": [
        {
          "output_type": "stream",
          "name": "stdout",
          "text": [
            "Match found at index -1\n"
          ]
        }
      ]
    },
    {
      "source": [
        "# Instead of:\n",
        "# print(list_to_search[5] == list_to_search.index(integer_to_match))\n",
        "\n",
        "# Check if the element is in the list before getting its index\n",
        "if integer_to_match in list_to_search:\n",
        "  print(list_to_search[5] == list_to_search.index(integer_to_match))\n",
        "else:\n",
        "  print(f\"{integer_to_match} is not in the list.\")"
      ],
      "cell_type": "code",
      "metadata": {
        "colab": {
          "base_uri": "https://localhost:8080/"
        },
        "id": "sq6OV4-qKshr",
        "outputId": "b602ed59-ed27-44ab-f7a4-d4143174a672"
      },
      "execution_count": 53,
      "outputs": [
        {
          "output_type": "stream",
          "name": "stdout",
          "text": [
            "13 is not in the list.\n"
          ]
        }
      ]
    },
    {
      "cell_type": "code",
      "source": [
        "list_to_sum = [1,2,3,4,5,6,7]\n",
        "\n",
        "sum=0\n",
        "for i in range(len(list_to_sum)):\n",
        "  sum+=list_to_sum[i]\n",
        "sum"
      ],
      "metadata": {
        "colab": {
          "base_uri": "https://localhost:8080/"
        },
        "id": "dbY5WDirKv1k",
        "outputId": "e82b449a-661a-4f2c-e0ef-62e257fe1788"
      },
      "execution_count": 54,
      "outputs": [
        {
          "output_type": "execute_result",
          "data": {
            "text/plain": [
              "28"
            ]
          },
          "metadata": {},
          "execution_count": 54
        }
      ]
    },
    {
      "cell_type": "code",
      "source": [
        "sum = []\n",
        "c=0\n",
        "for i in range(len(list_to_sum)):\n",
        "  for j in range(i+1, len(list_to_sum)):\n",
        "    sum.append(list_to_sum[i]+list_to_sum[j])\n",
        "    c+=1\n",
        "print(c)"
      ],
      "metadata": {
        "colab": {
          "base_uri": "https://localhost:8080/"
        },
        "id": "_ttI1LArLHCc",
        "outputId": "3d1befa9-1fbb-442b-954d-7349536dfdd5"
      },
      "execution_count": 55,
      "outputs": [
        {
          "output_type": "stream",
          "name": "stdout",
          "text": [
            "21\n"
          ]
        }
      ]
    },
    {
      "cell_type": "code",
      "source": [
        "sum"
      ],
      "metadata": {
        "colab": {
          "base_uri": "https://localhost:8080/"
        },
        "id": "kc3Zrl8PLVLT",
        "outputId": "c0467411-d4f6-42a1-8332-1f9b44894f7a"
      },
      "execution_count": 56,
      "outputs": [
        {
          "output_type": "execute_result",
          "data": {
            "text/plain": [
              "[3, 4, 5, 6, 7, 8, 5, 6, 7, 8, 9, 7, 8, 9, 10, 9, 10, 11, 11, 12, 13]"
            ]
          },
          "metadata": {},
          "execution_count": 56
        }
      ]
    },
    {
      "cell_type": "code",
      "source": [
        "sum[-1]"
      ],
      "metadata": {
        "colab": {
          "base_uri": "https://localhost:8080/"
        },
        "id": "H-9fGRZVLYhC",
        "outputId": "87c86302-3b15-4386-d499-8539c8afd705"
      },
      "execution_count": 57,
      "outputs": [
        {
          "output_type": "execute_result",
          "data": {
            "text/plain": [
              "13"
            ]
          },
          "metadata": {},
          "execution_count": 57
        }
      ]
    },
    {
      "cell_type": "code",
      "source": [
        "# Approach 1\n",
        "\n",
        "A = [1,11,4,9,16,2,23,45,77,15]\n",
        "B = [51,29,82,32,67,5,2,22,78,98]\n",
        "areas = []\n",
        "c=0\n",
        "for a in A:\n",
        "  for b in B:\n",
        "    areas.append(a*b)\n",
        "    c+=1\n",
        "d=c\n",
        "print(d)"
      ],
      "metadata": {
        "colab": {
          "base_uri": "https://localhost:8080/"
        },
        "id": "NvCL51jSLbda",
        "outputId": "69eb55e1-945c-4125-cce3-8bf39cdba25f"
      },
      "execution_count": 58,
      "outputs": [
        {
          "output_type": "stream",
          "name": "stdout",
          "text": [
            "100\n"
          ]
        }
      ]
    },
    {
      "cell_type": "code",
      "source": [
        "len(areas)"
      ],
      "metadata": {
        "colab": {
          "base_uri": "https://localhost:8080/"
        },
        "id": "-lyQfn0WMOXw",
        "outputId": "228ce4d0-30c3-4960-820d-31a1baf07e5d"
      },
      "execution_count": 59,
      "outputs": [
        {
          "output_type": "execute_result",
          "data": {
            "text/plain": [
              "100"
            ]
          },
          "metadata": {},
          "execution_count": 59
        }
      ]
    },
    {
      "source": [
        "# Approach 1\n",
        "\n",
        "A = [1,11,4,9,16,2,23,45,77,15]\n",
        "B = [51,29,82,32,67,5,2,22,78,98]\n",
        "areas = []\n",
        "c=0\n",
        "for a in A:\n",
        "  for b in B:\n",
        "    areas.append(a*b)\n",
        "    c+=1\n",
        "d=c\n",
        "print(d)\n",
        "\n",
        "# Calculate and store the maximum area\n",
        "max_area = max(areas) # This line is added to calculate and store the maximum area\n",
        "\n",
        "# Now you can use max_area\n",
        "print(max_area)"
      ],
      "cell_type": "code",
      "metadata": {
        "colab": {
          "base_uri": "https://localhost:8080/"
        },
        "id": "gfbccLw7MX6-",
        "outputId": "1b753263-0edf-49ea-b103-1ffb71c236fe"
      },
      "execution_count": 61,
      "outputs": [
        {
          "output_type": "stream",
          "name": "stdout",
          "text": [
            "100\n",
            "7546\n"
          ]
        }
      ]
    },
    {
      "cell_type": "code",
      "source": [
        "max(areas)"
      ],
      "metadata": {
        "colab": {
          "base_uri": "https://localhost:8080/"
        },
        "id": "EU-XjqvLMZ-G",
        "outputId": "91955d76-3e8e-4305-dff7-2780aa9f219e"
      },
      "execution_count": 62,
      "outputs": [
        {
          "output_type": "execute_result",
          "data": {
            "text/plain": [
              "7546"
            ]
          },
          "metadata": {},
          "execution_count": 62
        }
      ]
    },
    {
      "source": [
        "# Approach 2\n",
        "\n",
        "A = [1,11,4,9,16,2,23,45,77,15]\n",
        "B = [51,29,82,32,67,5,2,22,78,98]\n",
        "e=0\n",
        "max_a = 0\n",
        "for a in A:\n",
        "  if a>max_a:\n",
        "    max_a=a  # Changed from max_a = A to max_a = a\n",
        "  e+=1\n",
        "\n",
        "max_b = 0\n",
        "for b in B:\n",
        "  if b>max_b:\n",
        "    max_b=b  # Changed from max_b = B to max_b = b\n",
        "  e+=1\n",
        "\n",
        "print(e)"
      ],
      "cell_type": "code",
      "metadata": {
        "colab": {
          "base_uri": "https://localhost:8080/"
        },
        "id": "b2XgBQmlNev7",
        "outputId": "bd80d793-97cc-4806-d673-62182f17ab6f"
      },
      "execution_count": 64,
      "outputs": [
        {
          "output_type": "stream",
          "name": "stdout",
          "text": [
            "20\n"
          ]
        }
      ]
    },
    {
      "cell_type": "code",
      "source": [
        "max_a * max_b"
      ],
      "metadata": {
        "colab": {
          "base_uri": "https://localhost:8080/"
        },
        "id": "gAOfLbcBNg17",
        "outputId": "7f8e9d8e-0236-470f-a97c-72be7948b493"
      },
      "execution_count": 65,
      "outputs": [
        {
          "output_type": "execute_result",
          "data": {
            "text/plain": [
              "7546"
            ]
          },
          "metadata": {},
          "execution_count": 65
        }
      ]
    }
  ]
}