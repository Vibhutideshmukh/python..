{
  "nbformat": 4,
  "nbformat_minor": 0,
  "metadata": {
    "colab": {
      "provenance": [],
      "authorship_tag": "ABX9TyMxCcFvKpG+hTc6Mi9UKgXh",
      "include_colab_link": true
    },
    "kernelspec": {
      "name": "python3",
      "display_name": "Python 3"
    },
    "language_info": {
      "name": "python"
    }
  },
  "cells": [
    {
      "cell_type": "markdown",
      "metadata": {
        "id": "view-in-github",
        "colab_type": "text"
      },
      "source": [
        "<a href=\"https://colab.research.google.com/github/Vibhutideshmukh/python../blob/main/Introduction_to_Lists_ipynb.ipynb\" target=\"_parent\"><img src=\"https://colab.research.google.com/assets/colab-badge.svg\" alt=\"Open In Colab\"/></a>"
      ]
    },
    {
      "cell_type": "code",
      "execution_count": null,
      "metadata": {
        "colab": {
          "base_uri": "https://localhost:8080/"
        },
        "id": "kxHrIR-jdGKC",
        "outputId": "abc476a9-ee3c-4a6b-b52d-953789cede83"
      },
      "outputs": [
        {
          "output_type": "stream",
          "name": "stdout",
          "text": [
            "[1, 2, 3, 4]\n"
          ]
        }
      ],
      "source": [
        "#Assign a list to an variable named my list\n",
        "\n",
        "my_list = [1,2,3,4]\n",
        "\n",
        "print(my_list)"
      ]
    },
    {
      "cell_type": "code",
      "source": [
        "type(my_list)"
      ],
      "metadata": {
        "colab": {
          "base_uri": "https://localhost:8080/"
        },
        "id": "MTG1jyKQdgKT",
        "outputId": "03449463-ffc1-43c6-e6ee-f813b5646eb9"
      },
      "execution_count": null,
      "outputs": [
        {
          "output_type": "execute_result",
          "data": {
            "text/plain": [
              "list"
            ]
          },
          "metadata": {},
          "execution_count": 4
        }
      ]
    },
    {
      "cell_type": "code",
      "source": [
        "my_list = ['A string', 23, 100.232, '0', True]\n",
        "\n",
        "my_list"
      ],
      "metadata": {
        "colab": {
          "base_uri": "https://localhost:8080/"
        },
        "id": "uwdpMkkbd3Xs",
        "outputId": "595e63b7-5adf-4ac7-996e-44bb7eb47826"
      },
      "execution_count": null,
      "outputs": [
        {
          "output_type": "execute_result",
          "data": {
            "text/plain": [
              "['A string', 23, 100.232, '0', True]"
            ]
          },
          "metadata": {},
          "execution_count": 6
        }
      ]
    },
    {
      "cell_type": "code",
      "source": [
        "len(my_list)"
      ],
      "metadata": {
        "colab": {
          "base_uri": "https://localhost:8080/"
        },
        "id": "wJXSyV9md--7",
        "outputId": "81c66f23-f8db-4560-ed55-9f672d1c3441"
      },
      "execution_count": null,
      "outputs": [
        {
          "output_type": "execute_result",
          "data": {
            "text/plain": [
              "5"
            ]
          },
          "metadata": {},
          "execution_count": 7
        }
      ]
    },
    {
      "cell_type": "code",
      "source": [
        "#Consider list of strings\n",
        "\n",
        "loss_functions = ['Mean Absolute Error', 'Mean Squared Error', 'Huber Loss', 'Log Loss', 'Hinge Loss']\n",
        "\n",
        "print(loss_functions)"
      ],
      "metadata": {
        "colab": {
          "base_uri": "https://localhost:8080/"
        },
        "id": "sEtTk5LXeDVi",
        "outputId": "a52d71d5-1d64-4b47-c226-33d838b80470"
      },
      "execution_count": null,
      "outputs": [
        {
          "output_type": "stream",
          "name": "stdout",
          "text": [
            "['Mean Absolute Error', 'Mean Squared Error', 'Huber Loss', 'Log Loss', 'Hinge Loss']\n"
          ]
        }
      ]
    },
    {
      "cell_type": "code",
      "source": [
        "#Grab the element at index 9, which is the FIRST element\n",
        "\n",
        "print(loss_functions[0])"
      ],
      "metadata": {
        "colab": {
          "base_uri": "https://localhost:8080/"
        },
        "id": "qAPaSnGxeQ5O",
        "outputId": "cc5df456-256d-465c-a6f0-495532b7cb94"
      },
      "execution_count": null,
      "outputs": [
        {
          "output_type": "stream",
          "name": "stdout",
          "text": [
            "Mean Absolute Error\n"
          ]
        }
      ]
    },
    {
      "cell_type": "code",
      "source": [
        "len(loss_functions)"
      ],
      "metadata": {
        "colab": {
          "base_uri": "https://localhost:8080/"
        },
        "id": "6UymEBJJeTev",
        "outputId": "5cca7bce-0ad7-4f3c-9504-8ed5c1e755c0"
      },
      "execution_count": null,
      "outputs": [
        {
          "output_type": "execute_result",
          "data": {
            "text/plain": [
              "5"
            ]
          },
          "metadata": {},
          "execution_count": 14
        }
      ]
    },
    {
      "cell_type": "code",
      "source": [
        "#Grab the element at index 3, which is the FOURTH element\n",
        "\n",
        "print(loss_functions[3])"
      ],
      "metadata": {
        "colab": {
          "base_uri": "https://localhost:8080/"
        },
        "id": "f7VkZVNkeYBv",
        "outputId": "f1212751-92a4-4812-8ff3-4cb18b3aa81b"
      },
      "execution_count": null,
      "outputs": [
        {
          "output_type": "stream",
          "name": "stdout",
          "text": [
            "Log Loss\n"
          ]
        }
      ]
    },
    {
      "cell_type": "code",
      "source": [
        "#Grab the element at the Index -1, which is the LAST element\n",
        "\n",
        "print(loss_functions[-1])"
      ],
      "metadata": {
        "colab": {
          "base_uri": "https://localhost:8080/"
        },
        "id": "AAEsK1y-eijG",
        "outputId": "0b2adc4e-d785-42ef-e11e-554cec8b3346"
      },
      "execution_count": null,
      "outputs": [
        {
          "output_type": "stream",
          "name": "stdout",
          "text": [
            "Hinge Loss\n"
          ]
        }
      ]
    },
    {
      "cell_type": "code",
      "source": [
        "#Grab the element at the index -3, which is the THIRD LAST element\n",
        "\n",
        "print(loss_functions[-3])"
      ],
      "metadata": {
        "colab": {
          "base_uri": "https://localhost:8080/"
        },
        "id": "tM8iq9OufHwo",
        "outputId": "b98e3d62-18cc-4e5a-d9fb-6a85c0ba4b1f"
      },
      "execution_count": null,
      "outputs": [
        {
          "output_type": "stream",
          "name": "stdout",
          "text": [
            "Huber Loss\n"
          ]
        }
      ]
    },
    {
      "cell_type": "code",
      "source": [
        "#Print our list\n",
        "\n",
        "print(loss_functions)"
      ],
      "metadata": {
        "colab": {
          "base_uri": "https://localhost:8080/"
        },
        "id": "Eaz30XMnfKIw",
        "outputId": "7123d055-f89a-4c36-9e4b-82aa9ea74324"
      },
      "execution_count": null,
      "outputs": [
        {
          "output_type": "stream",
          "name": "stdout",
          "text": [
            "['Mean Absolute Error', 'Mean Squared Error', 'Huber Loss', 'Log Loss', 'Hinge Loss']\n"
          ]
        }
      ]
    },
    {
      "cell_type": "code",
      "source": [
        "#Grab the elements starting from index 1 and everything past it\n",
        "\n",
        "loss_functions [1:4]"
      ],
      "metadata": {
        "colab": {
          "base_uri": "https://localhost:8080/"
        },
        "id": "dN8rbOv4fPHh",
        "outputId": "c04f7a03-2b69-4f61-e416-94a4c97d19cd"
      },
      "execution_count": null,
      "outputs": [
        {
          "output_type": "execute_result",
          "data": {
            "text/plain": [
              "['Mean Squared Error', 'Huber Loss', 'Log Loss']"
            ]
          },
          "metadata": {},
          "execution_count": 23
        }
      ]
    },
    {
      "cell_type": "code",
      "source": [
        "#Grab everything starting from index 2\n",
        "\n",
        "loss_functions[2:]"
      ],
      "metadata": {
        "colab": {
          "base_uri": "https://localhost:8080/"
        },
        "id": "QPe1IVNrfSfp",
        "outputId": "0bcf8e72-107e-4c95-c693-0ff4bc08cb03"
      },
      "execution_count": null,
      "outputs": [
        {
          "output_type": "execute_result",
          "data": {
            "text/plain": [
              "['Huber Loss', 'Log Loss', 'Hinge Loss']"
            ]
          },
          "metadata": {},
          "execution_count": 24
        }
      ]
    },
    {
      "cell_type": "code",
      "source": [
        "#Grab everything before the index 4\n",
        "\n",
        "loss_functions[:4]"
      ],
      "metadata": {
        "colab": {
          "base_uri": "https://localhost:8080/"
        },
        "id": "nYaDqW7YfVlY",
        "outputId": "f2f798a9-acae-4551-80ae-3e39c428c4c0"
      },
      "execution_count": null,
      "outputs": [
        {
          "output_type": "execute_result",
          "data": {
            "text/plain": [
              "['Mean Absolute Error', 'Mean Squared Error', 'Huber Loss', 'Log Loss']"
            ]
          },
          "metadata": {},
          "execution_count": 26
        }
      ]
    },
    {
      "cell_type": "code",
      "source": [
        "#Grab everything\n",
        "\n",
        "print(loss_functions[:])"
      ],
      "metadata": {
        "colab": {
          "base_uri": "https://localhost:8080/"
        },
        "id": "eqn28Rz8fZgE",
        "outputId": "e80d13af-8638-432e-e0ef-f87e741f0d4b"
      },
      "execution_count": null,
      "outputs": [
        {
          "output_type": "stream",
          "name": "stdout",
          "text": [
            "['Mean Absolute Error', 'Mean Squared Error', 'Huber Loss', 'Log Loss', 'Hinge Loss']\n"
          ]
        }
      ]
    },
    {
      "cell_type": "code",
      "source": [
        "#Grab the LAST FOUR elements of the list\n",
        "\n",
        "loss_functions[-4:]"
      ],
      "metadata": {
        "colab": {
          "base_uri": "https://localhost:8080/"
        },
        "id": "p5SseTBlfg9n",
        "outputId": "050e83a7-e247-4a5e-85e3-ba1b89914e05"
      },
      "execution_count": null,
      "outputs": [
        {
          "output_type": "execute_result",
          "data": {
            "text/plain": [
              "['Mean Squared Error', 'Huber Loss', 'Log Loss', 'Hinge Loss']"
            ]
          },
          "metadata": {},
          "execution_count": 30
        }
      ]
    },
    {
      "cell_type": "code",
      "source": [
        "new_list = [6, 9, 1, 3, 5.51]\n",
        "\n",
        "min(new_list)"
      ],
      "metadata": {
        "colab": {
          "base_uri": "https://localhost:8080/"
        },
        "id": "edHJB6uIE2DG",
        "outputId": "83eab506-16c7-4762-c9c7-fa1fc2986d39"
      },
      "execution_count": null,
      "outputs": [
        {
          "output_type": "execute_result",
          "data": {
            "text/plain": [
              "1"
            ]
          },
          "metadata": {},
          "execution_count": 35
        }
      ]
    },
    {
      "cell_type": "code",
      "source": [
        "my_new_list = ['c', 'b', 'z','y','']\n",
        "\n",
        "min(my_new_list)"
      ],
      "metadata": {
        "colab": {
          "base_uri": "https://localhost:8080/",
          "height": 35
        },
        "id": "p-Da9phqE_mS",
        "outputId": "8ac6eb12-9abe-4485-a5d5-9e9cd10df6f9"
      },
      "execution_count": null,
      "outputs": [
        {
          "output_type": "execute_result",
          "data": {
            "text/plain": [
              "''"
            ],
            "application/vnd.google.colaboratory.intrinsic+json": {
              "type": "string"
            }
          },
          "metadata": {},
          "execution_count": 38
        }
      ]
    },
    {
      "cell_type": "code",
      "source": [
        "new_list = ['Argue', 'Burglar', 'zarent', 'Linear', 'shape']\n",
        "\n",
        "max(new_list)"
      ],
      "metadata": {
        "colab": {
          "base_uri": "https://localhost:8080/",
          "height": 35
        },
        "id": "S8MQap5xFIdy",
        "outputId": "581e2306-4b97-40bb-e31e-9e61fce8419e"
      },
      "execution_count": null,
      "outputs": [
        {
          "output_type": "execute_result",
          "data": {
            "text/plain": [
              "'zarent'"
            ],
            "application/vnd.google.colaboratory.intrinsic+json": {
              "type": "string"
            }
          },
          "metadata": {},
          "execution_count": 40
        }
      ]
    },
    {
      "cell_type": "code",
      "source": [
        "new_list = [6, 9, 1, 3, 5.5]\n",
        "\n",
        "sum(new_list)"
      ],
      "metadata": {
        "colab": {
          "base_uri": "https://localhost:8080/"
        },
        "id": "TOmykoW0Fp9m",
        "outputId": "438679d6-2c6d-4ffe-b824-a66fed93770c"
      },
      "execution_count": null,
      "outputs": [
        {
          "output_type": "execute_result",
          "data": {
            "text/plain": [
              "24.5"
            ]
          },
          "metadata": {},
          "execution_count": 41
        }
      ]
    },
    {
      "cell_type": "code",
      "source": [
        "print(new_list)"
      ],
      "metadata": {
        "colab": {
          "base_uri": "https://localhost:8080/"
        },
        "id": "09BJFsTEFvab",
        "outputId": "47988b2c-ec01-4c2a-f19c-6a8d2ffc67e1"
      },
      "execution_count": null,
      "outputs": [
        {
          "output_type": "stream",
          "name": "stdout",
          "text": [
            "[6, 9, 1, 3, 5.5]\n"
          ]
        }
      ]
    },
    {
      "cell_type": "code",
      "source": [
        "new_list = ['Argue','Burglar','Parent','Linear','shape']\n",
        "\n",
        "max(new_list)"
      ],
      "metadata": {
        "colab": {
          "base_uri": "https://localhost:8080/",
          "height": 35
        },
        "id": "hxQuwakhFxwB",
        "outputId": "46aa5576-5dae-4b2c-bb5f-75588a38e7c0"
      },
      "execution_count": null,
      "outputs": [
        {
          "output_type": "execute_result",
          "data": {
            "text/plain": [
              "'shape'"
            ],
            "application/vnd.google.colaboratory.intrinsic+json": {
              "type": "string"
            }
          },
          "metadata": {},
          "execution_count": 48
        }
      ]
    },
    {
      "cell_type": "code",
      "source": [
        "new_list = ['Argue', 'Burglar', 'Parent', 'Linear', 'shape']\n",
        "\n",
        "sorted(new_list)"
      ],
      "metadata": {
        "colab": {
          "base_uri": "https://localhost:8080/"
        },
        "id": "s-jUKaZ4GK--",
        "outputId": "96c65a73-1d16-487e-af82-b767f087a2b2"
      },
      "execution_count": null,
      "outputs": [
        {
          "output_type": "execute_result",
          "data": {
            "text/plain": [
              "['Argue', 'Burglar', 'Linear', 'Parent', 'shape']"
            ]
          },
          "metadata": {},
          "execution_count": 49
        }
      ]
    },
    {
      "cell_type": "code",
      "source": [
        "print(new_list)"
      ],
      "metadata": {
        "colab": {
          "base_uri": "https://localhost:8080/"
        },
        "id": "GjNibwN5GVIx",
        "outputId": "01370702-221b-4d2a-8fb9-445559147873"
      },
      "execution_count": null,
      "outputs": [
        {
          "output_type": "stream",
          "name": "stdout",
          "text": [
            "['Argue', 'Burglar', 'Parent', 'Linear', 'shape']\n"
          ]
        }
      ]
    },
    {
      "cell_type": "code",
      "source": [
        "sorted(new_list, reverse=True)"
      ],
      "metadata": {
        "colab": {
          "base_uri": "https://localhost:8080/"
        },
        "id": "Dkpd4OMOGYHq",
        "outputId": "c7162710-040e-481e-f474-32873681adbf"
      },
      "execution_count": null,
      "outputs": [
        {
          "output_type": "execute_result",
          "data": {
            "text/plain": [
              "['shape', 'Parent', 'Linear', 'Burglar', 'Argue']"
            ]
          },
          "metadata": {},
          "execution_count": 52
        }
      ]
    },
    {
      "cell_type": "code",
      "source": [
        "sorted(new_list)"
      ],
      "metadata": {
        "colab": {
          "base_uri": "https://localhost:8080/"
        },
        "id": "YhuvWG6RGgCm",
        "outputId": "2d0c0d5c-beab-4048-bcc3-2cb3254a401e"
      },
      "execution_count": null,
      "outputs": [
        {
          "output_type": "execute_result",
          "data": {
            "text/plain": [
              "['Argue', 'Burglar', 'Linear', 'Parent', 'shape']"
            ]
          },
          "metadata": {},
          "execution_count": 53
        }
      ]
    },
    {
      "cell_type": "code",
      "source": [
        "new_list"
      ],
      "metadata": {
        "colab": {
          "base_uri": "https://localhost:8080/"
        },
        "id": "H1kFQlqEGiQS",
        "outputId": "da812d86-0ccf-422f-b836-0edf9c26b2d8"
      },
      "execution_count": null,
      "outputs": [
        {
          "output_type": "execute_result",
          "data": {
            "text/plain": [
              "['Argue', 'Burglar', 'Parent', 'Linear', 'shape']"
            ]
          },
          "metadata": {},
          "execution_count": 54
        }
      ]
    },
    {
      "cell_type": "code",
      "source": [
        "#Print the list\n",
        "\n",
        "my_list"
      ],
      "metadata": {
        "colab": {
          "base_uri": "https://localhost:8080/"
        },
        "id": "9Rav5dlIHbTY",
        "outputId": "90a98a18-0c02-4172-b48c-4a52356ca2c1"
      },
      "execution_count": null,
      "outputs": [
        {
          "output_type": "execute_result",
          "data": {
            "text/plain": [
              "[1, 2, 3, 1, 1, 1, 3, 10, 5, 8]"
            ]
          },
          "metadata": {},
          "execution_count": 64
        }
      ]
    },
    {
      "cell_type": "code",
      "source": [
        "len(my_list)"
      ],
      "metadata": {
        "colab": {
          "base_uri": "https://localhost:8080/"
        },
        "id": "AsEwB6QWHfVZ",
        "outputId": "f7aaf520-b02e-4c9f-edd6-077a183d3564"
      },
      "execution_count": null,
      "outputs": [
        {
          "output_type": "execute_result",
          "data": {
            "text/plain": [
              "10"
            ]
          },
          "metadata": {},
          "execution_count": 65
        }
      ]
    },
    {
      "cell_type": "code",
      "source": [
        "print(my_list)"
      ],
      "metadata": {
        "colab": {
          "base_uri": "https://localhost:8080/"
        },
        "id": "s3uVORTEHkwW",
        "outputId": "5e645022-44db-4623-dca6-f5af4fa027dc"
      },
      "execution_count": null,
      "outputs": [
        {
          "output_type": "stream",
          "name": "stdout",
          "text": [
            "[1, 2, 3, 1, 1, 1, 3, 10, 5, 8]\n"
          ]
        }
      ]
    },
    {
      "cell_type": "code",
      "source": [
        "#Show\n",
        "\n",
        "my_list.append(2.73)\n",
        "\n",
        "print(my_list)\n",
        "\n",
        "len(my_list)"
      ],
      "metadata": {
        "colab": {
          "base_uri": "https://localhost:8080/"
        },
        "id": "U-OoopQIHor1",
        "outputId": "cf4bfaab-5dc6-44d4-fc38-5135666a69f1"
      },
      "execution_count": null,
      "outputs": [
        {
          "output_type": "stream",
          "name": "stdout",
          "text": [
            "[1, 2, 3, 1, 1, 1, 3, 10, 5, 8, 'Append me!', 'Append me!', 'Append me!', 'Append me!', 'Append me!', 'Append me!', 'Append me!', 2.73]\n"
          ]
        },
        {
          "output_type": "execute_result",
          "data": {
            "text/plain": [
              "18"
            ]
          },
          "metadata": {},
          "execution_count": 77
        }
      ]
    },
    {
      "cell_type": "code",
      "source": [
        "my_list.append([1,2,3])\n",
        "\n",
        "len(my_list)"
      ],
      "metadata": {
        "colab": {
          "base_uri": "https://localhost:8080/"
        },
        "id": "dWeLtvdTINRA",
        "outputId": "07b3a4b2-9e11-4290-fea7-d1c43dc26090"
      },
      "execution_count": null,
      "outputs": [
        {
          "output_type": "execute_result",
          "data": {
            "text/plain": [
              "19"
            ]
          },
          "metadata": {},
          "execution_count": 79
        }
      ]
    },
    {
      "cell_type": "code",
      "source": [
        "my_list.append([10, [19,20],30])\n",
        "\n",
        "my_list"
      ],
      "metadata": {
        "colab": {
          "base_uri": "https://localhost:8080/"
        },
        "id": "6rxOh4gyIUBS",
        "outputId": "743d8208-9580-4410-ec9b-69549759e018"
      },
      "execution_count": null,
      "outputs": [
        {
          "output_type": "execute_result",
          "data": {
            "text/plain": [
              "[1,\n",
              " 2,\n",
              " 3,\n",
              " 1,\n",
              " 1,\n",
              " 1,\n",
              " 3,\n",
              " 10,\n",
              " 5,\n",
              " 8,\n",
              " 'Append me!',\n",
              " 'Append me!',\n",
              " 'Append me!',\n",
              " 'Append me!',\n",
              " 'Append me!',\n",
              " 'Append me!',\n",
              " 'Append me!',\n",
              " 2.73,\n",
              " [1, 2, 3],\n",
              " [10, [19, 20], 30]]"
            ]
          },
          "metadata": {},
          "execution_count": 80
        }
      ]
    },
    {
      "cell_type": "code",
      "source": [
        "#Print the list\n",
        "\n",
        "print(my_list)"
      ],
      "metadata": {
        "colab": {
          "base_uri": "https://localhost:8080/"
        },
        "id": "4Ts0O4oiIYD6",
        "outputId": "26fd481e-ad22-4c10-8e31-edf844d7a1c1"
      },
      "execution_count": null,
      "outputs": [
        {
          "output_type": "stream",
          "name": "stdout",
          "text": [
            "[1, 2, 3, 1, 1, 1, 3, 10, 5, 8, 'Append me!', 'Append me!', 'Append me!', 'Append me!', 'Append me!', 'Append me!', 'Append me!', 2.73, [1, 2, 3], [10, [19, 20], 30]]\n"
          ]
        }
      ]
    },
    {
      "cell_type": "code",
      "source": [
        "my_list.extend(['Wubba\", \"Lubba', 'Dub Dub'])\n",
        "\n",
        "print(my_list)"
      ],
      "metadata": {
        "colab": {
          "base_uri": "https://localhost:8080/"
        },
        "id": "rg6XrBwSJZ-o",
        "outputId": "5845cc2a-60c0-4885-c5d0-1214b147f43b"
      },
      "execution_count": null,
      "outputs": [
        {
          "output_type": "stream",
          "name": "stdout",
          "text": [
            "[1, 3, 1, 1, 1, 3, 10, 5, 8, 'Append me!', 'Append me!', 'Append me!', 'Append me!', 'Append me!', 'Append me!', 'Append me!', 2.73, [1, 2, 3], [10, [19, 20], 30], 'Wubba\", \"Lubba', 'Wubba\", \"Lubba', 'Dub Dub']\n"
          ]
        }
      ]
    },
    {
      "cell_type": "code",
      "source": [
        "len(my_list)"
      ],
      "metadata": {
        "colab": {
          "base_uri": "https://localhost:8080/"
        },
        "id": "m6S6_uKHJcZr",
        "outputId": "2ce06ddb-8f61-4231-a3a8-8363a559d7d4"
      },
      "execution_count": null,
      "outputs": [
        {
          "output_type": "execute_result",
          "data": {
            "text/plain": [
              "22"
            ]
          },
          "metadata": {},
          "execution_count": 85
        }
      ]
    },
    {
      "cell_type": "code",
      "source": [
        "#Print the list\n",
        "\n",
        "print(my_list)"
      ],
      "metadata": {
        "colab": {
          "base_uri": "https://localhost:8080/"
        },
        "id": "y6JYP3IgJiY3",
        "outputId": "5a6d0c35-bc11-44ad-835c-d793e86f4a03"
      },
      "execution_count": null,
      "outputs": [
        {
          "output_type": "stream",
          "name": "stdout",
          "text": [
            "[1, 2, 3, 1, 1, 1, 3, 10, 5, 8, 'Append me!', 'Append me!', 'Append me!', 'Append me!', 'Append me!', 'Append me!', 'Append me!', 2.73, [1, 2, 3], [10, [19, 20], 30], 'Wubba\", \"Lubba', 'Dub Dub']\n"
          ]
        }
      ]
    },
    {
      "cell_type": "code",
      "source": [
        "#Pop off the indexed iten\n",
        "\n",
        "my_list.pop()"
      ],
      "metadata": {
        "colab": {
          "base_uri": "https://localhost:8080/",
          "height": 35
        },
        "id": "tygqes3NJkn4",
        "outputId": "451aee20-c1d1-4d3f-f78f-538391be9c1a"
      },
      "execution_count": null,
      "outputs": [
        {
          "output_type": "execute_result",
          "data": {
            "text/plain": [
              "'Dub Dub'"
            ],
            "application/vnd.google.colaboratory.intrinsic+json": {
              "type": "string"
            }
          },
          "metadata": {},
          "execution_count": 87
        }
      ]
    },
    {
      "cell_type": "code",
      "source": [
        "#Assign the popped element, remember default popped index is -1\n",
        "\n",
        "my_list.pop(1)"
      ],
      "metadata": {
        "colab": {
          "base_uri": "https://localhost:8080/"
        },
        "id": "ByOnbhI8Jmnv",
        "outputId": "622dda8c-99e6-4510-c8b5-35a575c04359"
      },
      "execution_count": null,
      "outputs": [
        {
          "output_type": "execute_result",
          "data": {
            "text/plain": [
              "2"
            ]
          },
          "metadata": {},
          "execution_count": 88
        }
      ]
    },
    {
      "cell_type": "code",
      "source": [
        "len(my_list)"
      ],
      "metadata": {
        "colab": {
          "base_uri": "https://localhost:8080/"
        },
        "id": "F0xOGIEQJsFq",
        "outputId": "5857181d-3a4e-4498-e203-df3eb9fc11c3"
      },
      "execution_count": null,
      "outputs": [
        {
          "output_type": "execute_result",
          "data": {
            "text/plain": [
              "22"
            ]
          },
          "metadata": {},
          "execution_count": 90
        }
      ]
    },
    {
      "cell_type": "code",
      "source": [
        "print(my_list)"
      ],
      "metadata": {
        "colab": {
          "base_uri": "https://localhost:8080/"
        },
        "id": "_8M3Z26WJuSw",
        "outputId": "cae66e92-e484-4aaa-9b2c-316b5988c9a7"
      },
      "execution_count": null,
      "outputs": [
        {
          "output_type": "stream",
          "name": "stdout",
          "text": [
            "[1, 3, 1, 1, 1, 3, 10, 5, 8, 'Append me!', 'Append me!', 'Append me!', 'Append me!', 'Append me!', 'Append me!', 'Append me!', 2.73, [1, 2, 3], [10, [19, 20], 30], 'Wubba\", \"Lubba', 'Wubba\", \"Lubba', 'Dub Dub']\n"
          ]
        }
      ]
    },
    {
      "cell_type": "code",
      "source": [
        "#Print the list\n",
        "\n",
        "print(my_list)"
      ],
      "metadata": {
        "colab": {
          "base_uri": "https://localhost:8080/"
        },
        "id": "-d7pFZ7DJwfw",
        "outputId": "27150d3d-c0b2-4896-835d-3bacba3c3f31"
      },
      "execution_count": null,
      "outputs": [
        {
          "output_type": "stream",
          "name": "stdout",
          "text": [
            "[1, 3, 1, 1, 1, 3, 10, 5, 8, 'Append me!', 'Append me!', 'Append me!', 'Append me!', 'Append me!', 'Append me!', 'Append me!', 2.73, [1, 2, 3], [10, [19, 20], 30], 'Wubba\", \"Lubba', 'Wubba\", \"Lubba', 'Dub Dub']\n"
          ]
        }
      ]
    },
    {
      "cell_type": "code",
      "source": [
        "my_list.extend(['Wubba\", \"Lubba', 'Dub Dub'])\n",
        "\n",
        "print(my_list)"
      ],
      "metadata": {
        "colab": {
          "base_uri": "https://localhost:8080/"
        },
        "id": "HDUCdkGAKLPS",
        "outputId": "96de66bc-d4c4-4117-d13a-2f0e8053fb11"
      },
      "execution_count": null,
      "outputs": [
        {
          "output_type": "stream",
          "name": "stdout",
          "text": [
            "[1, 3, 1, 1, 1, 3, 10, 5, 8, 'Append me!', 'Append me!', 'Append me!', 'Append me!', 'Append me!', 'Append me!', 'Append me!', 2.73, [1, 2, 3], [10, [19, 20], 30], 'Wubba\", \"Lubba', 'Wubba\", \"Lubba', 'Dub Dub', 'Wubba\", \"Lubba', 'Dub Dub']\n"
          ]
        }
      ]
    },
    {
      "cell_type": "code",
      "source": [
        "len(my_list)"
      ],
      "metadata": {
        "colab": {
          "base_uri": "https://localhost:8080/"
        },
        "id": "gwDRsg44KOrH",
        "outputId": "ad563b91-fcf7-49f5-b9fb-f5805563d224"
      },
      "execution_count": null,
      "outputs": [
        {
          "output_type": "execute_result",
          "data": {
            "text/plain": [
              "24"
            ]
          },
          "metadata": {},
          "execution_count": 94
        }
      ]
    },
    {
      "cell_type": "code",
      "source": [
        "#Print the list\n",
        "\n",
        "print(my_list)"
      ],
      "metadata": {
        "colab": {
          "base_uri": "https://localhost:8080/"
        },
        "id": "3YHA5eS2KReh",
        "outputId": "cb58e67f-dae2-41a6-8ace-34e5fa0fd2f5"
      },
      "execution_count": null,
      "outputs": [
        {
          "output_type": "stream",
          "name": "stdout",
          "text": [
            "[1, 3, 1, 1, 1, 3, 10, 5, 8, 'Append me!', 'Append me!', 'Append me!', 'Append me!', 'Append me!', 'Append me!', 'Append me!', 2.73, [1, 2, 3], [10, [19, 20], 30], 'Wubba\", \"Lubba', 'Wubba\", \"Lubba', 'Dub Dub', 'Wubba\", \"Lubba', 'Dub Dub']\n"
          ]
        }
      ]
    },
    {
      "cell_type": "code",
      "source": [
        "#Pop off the indexed iten\n",
        "\n",
        "my_list.pop()"
      ],
      "metadata": {
        "colab": {
          "base_uri": "https://localhost:8080/",
          "height": 35
        },
        "id": "g_8wke-bKS2E",
        "outputId": "252b6e12-a4d5-44b2-8d2f-44f04171ee3b"
      },
      "execution_count": null,
      "outputs": [
        {
          "output_type": "execute_result",
          "data": {
            "text/plain": [
              "'Dub Dub'"
            ],
            "application/vnd.google.colaboratory.intrinsic+json": {
              "type": "string"
            }
          },
          "metadata": {},
          "execution_count": 96
        }
      ]
    },
    {
      "cell_type": "code",
      "source": [
        "#Assign the popped element, remember default popped index is -1\n",
        "\n",
        "my_list.pop(1)"
      ],
      "metadata": {
        "colab": {
          "base_uri": "https://localhost:8080/"
        },
        "id": "lb0kbZx7KVce",
        "outputId": "467dea40-283f-4640-8ae2-16ef6a50b928"
      },
      "execution_count": null,
      "outputs": [
        {
          "output_type": "execute_result",
          "data": {
            "text/plain": [
              "3"
            ]
          },
          "metadata": {},
          "execution_count": 97
        }
      ]
    },
    {
      "cell_type": "code",
      "source": [
        "len(my_list)"
      ],
      "metadata": {
        "colab": {
          "base_uri": "https://localhost:8080/"
        },
        "id": "WFeijcMZKXTq",
        "outputId": "9b9ff3a3-bb1c-413d-a5e4-c58c0895310c"
      },
      "execution_count": null,
      "outputs": [
        {
          "output_type": "execute_result",
          "data": {
            "text/plain": [
              "22"
            ]
          },
          "metadata": {},
          "execution_count": 98
        }
      ]
    },
    {
      "cell_type": "code",
      "source": [
        "print(my_list)"
      ],
      "metadata": {
        "colab": {
          "base_uri": "https://localhost:8080/"
        },
        "id": "w2KaC5ZjKYqj",
        "outputId": "2a06f2e1-3719-4cfc-8db3-e76d2c3e559b"
      },
      "execution_count": null,
      "outputs": [
        {
          "output_type": "stream",
          "name": "stdout",
          "text": [
            "[1, 1, 1, 1, 3, 10, 5, 8, 'Append me!', 'Append me!', 'Append me!', 'Append me!', 'Append me!', 'Append me!', 'Append me!', 2.73, [1, 2, 3], [10, [19, 20], 30], 'Wubba\", \"Lubba', 'Wubba\", \"Lubba', 'Dub Dub', 'Wubba\", \"Lubba']\n"
          ]
        }
      ]
    },
    {
      "cell_type": "code",
      "source": [
        "#Use sort to sort the list (this is permanent!)\n",
        "\n",
        "new_list.sort()\n",
        "\n",
        "print(new_list)"
      ],
      "metadata": {
        "colab": {
          "base_uri": "https://localhost:8080/"
        },
        "id": "kt5s-kOnKaOr",
        "outputId": "198e5994-3f8d-4889-cb2d-d708d5bd1a21"
      },
      "execution_count": null,
      "outputs": [
        {
          "output_type": "stream",
          "name": "stdout",
          "text": [
            "['Argue', 'Burglar', 'Linear', 'Parent', 'shape']\n"
          ]
        }
      ]
    },
    {
      "cell_type": "code",
      "source": [
        "#Use the reverse boolean to set the ascending or descending order\n",
        "\n",
        "new_list.sort(reverse=True)\n",
        "\n",
        "print(new_list)"
      ],
      "metadata": {
        "colab": {
          "base_uri": "https://localhost:8080/"
        },
        "id": "zM5ceV6EK9IC",
        "outputId": "1141c560-e889-45ee-d515-3d98a55cd64c"
      },
      "execution_count": null,
      "outputs": [
        {
          "output_type": "stream",
          "name": "stdout",
          "text": [
            "['shape', 'Parent', 'Linear', 'Burglar', 'Argue']\n"
          ]
        }
      ]
    },
    {
      "cell_type": "code",
      "source": [
        "boolean_list=[True, False]\n",
        "\n",
        "boolean_list.sort(reverse=True)\n",
        "\n",
        "print(boolean_list)"
      ],
      "metadata": {
        "colab": {
          "base_uri": "https://localhost:8080/"
        },
        "id": "0PhYdDlsLCtU",
        "outputId": "f454911f-fa68-42c8-80ca-3fe2f521a9df"
      },
      "execution_count": null,
      "outputs": [
        {
          "output_type": "stream",
          "name": "stdout",
          "text": [
            "[True, False]\n"
          ]
        }
      ]
    },
    {
      "cell_type": "code",
      "source": [
        "my_list = [1, 1, 1, 1, 1.43, 2, 3, 3, 5, 8, 18, 'Lubba', 'Dub Dub']\n",
        "\n",
        "print(my_list)"
      ],
      "metadata": {
        "colab": {
          "base_uri": "https://localhost:8080/"
        },
        "id": "8hGMpLCvLTs8",
        "outputId": "ffcc5ec7-8b05-4c10-9191-27fdde7f5d78"
      },
      "execution_count": null,
      "outputs": [
        {
          "output_type": "stream",
          "name": "stdout",
          "text": [
            "[1, 1, 1, 1, 1.43, 2, 3, 3, 5, 8, 18, 'Lubba', 'Dub Dub']\n"
          ]
        }
      ]
    },
    {
      "cell_type": "code",
      "source": [
        "my_list.reverse()\n",
        "\n",
        "print(my_list)"
      ],
      "metadata": {
        "colab": {
          "base_uri": "https://localhost:8080/"
        },
        "id": "9lhdzkwBLh1G",
        "outputId": "12de1c2e-00eb-47d0-8849-f7b2197e59c3"
      },
      "execution_count": null,
      "outputs": [
        {
          "output_type": "stream",
          "name": "stdout",
          "text": [
            "['Dub Dub', 'Lubba', 18, 8, 5, 3, 3, 2, 1.43, 1, 1, 1, 1]\n"
          ]
        }
      ]
    },
    {
      "cell_type": "code",
      "source": [
        " #Let's make three lists\n",
        "\n",
        " lst_1 = [1,2,3]\n",
        " lst_2 = ['b','a','d']\n",
        " lst_3 = [7,8,9]\n",
        "\n",
        " #Make a list of lists to form a matrix\n",
        " list_of_lists = [lst_1,lst_2,lst_3]\n",
        "\n",
        " print(list_of_lists)"
      ],
      "metadata": {
        "colab": {
          "base_uri": "https://localhost:8080/"
        },
        "id": "zZhRj-1QLkfn",
        "outputId": "b0aace7b-2b6f-47de-9a03-a0307ccac845"
      },
      "execution_count": null,
      "outputs": [
        {
          "output_type": "stream",
          "name": "stdout",
          "text": [
            "[[1, 2, 3], ['b', 'a', 'd'], [7, 8, 9]]\n"
          ]
        }
      ]
    },
    {
      "cell_type": "code",
      "source": [
        "my_list.reverse()\n",
        "\n",
        "print(my_list)"
      ],
      "metadata": {
        "colab": {
          "base_uri": "https://localhost:8080/"
        },
        "id": "QMmXbIJxNL9w",
        "outputId": "e766536d-4e17-4860-9cc3-83fa89e64b26"
      },
      "execution_count": null,
      "outputs": [
        {
          "output_type": "stream",
          "name": "stdout",
          "text": [
            "[1, 1, 1, 1, 1.43, 2, 3, 3, 5, 8, 18, 'Lubba', 'Dub Dub']\n"
          ]
        }
      ]
    },
    {
      "cell_type": "code",
      "source": [
        "#Show\n",
        "\n",
        "type(list_of_lists)"
      ],
      "metadata": {
        "colab": {
          "base_uri": "https://localhost:8080/"
        },
        "id": "bruqK4a3NORF",
        "outputId": "60ae9651-1d2f-4c73-8bd8-9dbe1cc7a43e"
      },
      "execution_count": null,
      "outputs": [
        {
          "output_type": "execute_result",
          "data": {
            "text/plain": [
              "list"
            ]
          },
          "metadata": {},
          "execution_count": 135
        }
      ]
    },
    {
      "cell_type": "code",
      "source": [
        "#Grab first item in matrix object\n",
        "\n",
        "list_of_lists[1]"
      ],
      "metadata": {
        "colab": {
          "base_uri": "https://localhost:8080/"
        },
        "id": "u38vPY5WNS80",
        "outputId": "93c5b598-4fd7-473b-c363-e7caa12836df"
      },
      "execution_count": null,
      "outputs": [
        {
          "output_type": "execute_result",
          "data": {
            "text/plain": [
              "['b', 'a', 'd']"
            ]
          },
          "metadata": {},
          "execution_count": 136
        }
      ]
    },
    {
      "cell_type": "code",
      "source": [
        "#Grab first item of the first item in the matrix object\n",
        "\n",
        "list_of_lists[1]"
      ],
      "metadata": {
        "id": "JnlbQESjNU2N",
        "outputId": "48696533-2b15-41db-db09-454d7881e808",
        "colab": {
          "base_uri": "https://localhost:8080/"
        }
      },
      "execution_count": null,
      "outputs": [
        {
          "output_type": "execute_result",
          "data": {
            "text/plain": [
              "['b', 'a', 'd']"
            ]
          },
          "metadata": {},
          "execution_count": 137
        }
      ]
    }
  ]
}