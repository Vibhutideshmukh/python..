{
  "nbformat": 4,
  "nbformat_minor": 0,
  "metadata": {
    "colab": {
      "provenance": [],
      "authorship_tag": "ABX9TyNrHmSKdVi/NUxmZMlaG4Ff",
      "include_colab_link": true
    },
    "kernelspec": {
      "name": "python3",
      "display_name": "Python 3"
    },
    "language_info": {
      "name": "python"
    }
  },
  "cells": [
    {
      "cell_type": "markdown",
      "metadata": {
        "id": "view-in-github",
        "colab_type": "text"
      },
      "source": [
        "<a href=\"https://colab.research.google.com/github/Vibhutideshmukh/python../blob/main/Functions_ipynb.ipynb\" target=\"_parent\"><img src=\"https://colab.research.google.com/assets/colab-badge.svg\" alt=\"Open In Colab\"/></a>"
      ]
    },
    {
      "cell_type": "code",
      "source": [
        "heisenberg_quote = \"It creates to exist without me. No, you clearly don't know who you're talking to, so let me clue you in. I am not in danger.\"\n",
        "words_by_walter = heisenberg_quote.split(' ')\n",
        "first_letters = [word[0] for word in words_by_walter]\n",
        "print(first_letters)"
      ],
      "metadata": {
        "colab": {
          "base_uri": "https://localhost:8080/"
        },
        "id": "LMQ0miHHmqPv",
        "outputId": "c84cd600-c0c3-4d6c-9225-fd9237b9af9f"
      },
      "execution_count": null,
      "outputs": [
        {
          "output_type": "stream",
          "name": "stdout",
          "text": [
            "['I', 'c', 't', 'e', 'w', 'm', 'N', 'y', 'c', 'd', 'k', 'w', 'y', 't', 't', 's', 'l', 'm', 'c', 'y', 'i', 'I', 'a', 'n', 'i', 'd']\n"
          ]
        }
      ]
    },
    {
      "cell_type": "code",
      "source": [
        "import math\n",
        "\n",
        "list_of_numbers = [3,5,8,12,4,6]\n",
        "factorial_list = [math.factorial(number) for number in list_of_numbers if number%2!=0]\n",
        "print(factorial_list)"
      ],
      "metadata": {
        "colab": {
          "base_uri": "https://localhost:8080/"
        },
        "id": "eY8XD6hSm65G",
        "outputId": "73201f8a-14cd-44f9-8f93-6a489a86a05c"
      },
      "execution_count": null,
      "outputs": [
        {
          "output_type": "stream",
          "name": "stdout",
          "text": [
            "[6, 120]\n"
          ]
        }
      ]
    },
    {
      "cell_type": "code",
      "source": [
        "def assignQuarter(user_date):\n",
        "    '''\n",
        "      This function prints the quarter for a given date string\n",
        "        '''\n",
        "          date_year = user_date[:4]\n",
        "            date_month = user_date[5:7]\n",
        "              if(date_month >= '01') & (date_month <= '03'):\n",
        "                  quarter = date_year + '-Q1'\n",
        "                    elif(date_month >= '04') & (date_month <= '06'):\n",
        "                        quarter = date_year + '-Q2'\n",
        "                          elif (date_month>= '07') & (date_month <= '09'):\n",
        "                              quarter = date_year + '-Q3'\n",
        "                                else:\n",
        "                                    quarter = date_year + '-Q4'\n",
        "                                      return quarter\n",
        "                                      sample_date = '2020-07-01'\n",
        "                                      date_quarter = assignQuarter(sample_date)\n",
        "                                      print(date_quarter)\n"
      ],
      "metadata": {
        "id": "y18olcXJwA-6",
        "collapsed": true
      },
      "execution_count": null,
      "outputs": []
    },
    {
      "cell_type": "code",
      "source": [
        "hieghts= [175,175,170,168,170,200]"
      ],
      "metadata": {
        "id": "mupoqHd5_28d"
      },
      "execution_count": null,
      "outputs": []
    },
    {
      "cell_type": "code",
      "source": [
        "def list_append(my_list,elem):\n",
        "    '''\n",
        "      This function appends an elements to the list\n",
        "        '''\n",
        "          new_ist = my_list + [elem]\n",
        "            return new_list\n",
        "            print(heights)"
      ],
      "metadata": {
        "id": "yRu_ZTHvwsFU",
        "collapsed": true
      },
      "execution_count": null,
      "outputs": []
    },
    {
      "cell_type": "code",
      "source": [
        "my_quatar = assignQuatar(sample_date)"
      ],
      "metadata": {
        "id": "sl6xqhSU-juj"
      },
      "execution_count": null,
      "outputs": []
    },
    {
      "cell_type": "code",
      "source": [
        "def check_even_or_odd(num):\n",
        "    '''This function checks whether a number is odd or even and then returns the corresponding string\n",
        "      '''\n",
        "        print(f'Given number is {num}')\n",
        "          if num%2 ==0:\n",
        "              return 'even'\n",
        "                  return'odd'\n",
        "                  is_even_odd = check_even_or_odd(10)\n",
        "                  print(is_even_odd)"
      ],
      "metadata": {
        "collapsed": true,
        "id": "JPq8OhnHyRsA"
      },
      "execution_count": null,
      "outputs": []
    },
    {
      "cell_type": "code",
      "source": [
        "list_of_numbers = [3,5,8,12,4,6]\n",
        "factorial_list = [factorial(number) for number in list_of_numbers if number%2!=0]\n",
        "print(factorial_list)"
      ],
      "metadata": {
        "id": "YcA27j_HxMBQ",
        "collapsed": true
      },
      "execution_count": null,
      "outputs": []
    },
    {
      "cell_type": "code",
      "source": [
        "def assignQuarter(user_date):\n",
        "    '''\n",
        "      This function prints the quarter for a given date string\n",
        "        '''\n",
        "          date_year = user_date[:4]\n",
        "            date_month = user_date[5:7]\n",
        "              if(date_month >= '01') & (date_month <= '03'):\n",
        "                  quarter = date_year + '-Q1'\n",
        "                    elif(date_month >= '04') & (date_month <= '06'):\n",
        "                        quarter = date_year + '-Q2'\n",
        "                          elif (date_month>= '07') & (date_month <= '09'):\n",
        "                              quarter = date_year + '-Q3'\n",
        "                                else:\n",
        "                                    quarter = date_year + '-Q4'\n",
        "                                      return quarter\n",
        "                                      sample_date = '2020-07-01'\n",
        "                                      date_quarter = assignQuarter(sample_date)\n",
        "                                      print(date_quarter)\n"
      ],
      "metadata": {
        "collapsed": true,
        "id": "oMhLaQMCx3d7"
      },
      "execution_count": null,
      "outputs": []
    },
    {
      "cell_type": "code",
      "source": [
        "def experiments():\n",
        "    global x\n",
        "      x = 50\n",
        "        return x\n",
        "        x = 25\n",
        "        experiments()\n"
      ],
      "metadata": {
        "colab": {
          "base_uri": "https://localhost:8080/",
          "height": 106
        },
        "collapsed": true,
        "id": "TDUdKTn1y2MS",
        "outputId": "4dae78b3-93dc-4650-9d13-99013f7fd498"
      },
      "execution_count": null,
      "outputs": [
        {
          "output_type": "error",
          "ename": "IndentationError",
          "evalue": "unexpected indent (<ipython-input-38-e531ff7383c1>, line 3)",
          "traceback": [
            "\u001b[0;36m  File \u001b[0;32m\"<ipython-input-38-e531ff7383c1>\"\u001b[0;36m, line \u001b[0;32m3\u001b[0m\n\u001b[0;31m    x = 50\u001b[0m\n\u001b[0m    ^\u001b[0m\n\u001b[0;31mIndentationError\u001b[0m\u001b[0;31m:\u001b[0m unexpected indent\n"
          ]
        }
      ]
    },
    {
      "cell_type": "code",
      "source": [
        "def new_experiment():\n",
        "    x = 50\n",
        "      return x\n",
        "      x = 40\n",
        "      x\n"
      ],
      "metadata": {
        "colab": {
          "base_uri": "https://localhost:8080/",
          "height": 106
        },
        "collapsed": true,
        "id": "uSpRbUBCzjPk",
        "outputId": "e13dd1f3-2072-49f4-8ca9-99aa4f5bae20"
      },
      "execution_count": null,
      "outputs": [
        {
          "output_type": "error",
          "ename": "IndentationError",
          "evalue": "unexpected indent (<ipython-input-41-c7593395481f>, line 3)",
          "traceback": [
            "\u001b[0;36m  File \u001b[0;32m\"<ipython-input-41-c7593395481f>\"\u001b[0;36m, line \u001b[0;32m3\u001b[0m\n\u001b[0;31m    return x\u001b[0m\n\u001b[0m    ^\u001b[0m\n\u001b[0;31mIndentationError\u001b[0m\u001b[0;31m:\u001b[0m unexpected indent\n"
          ]
        }
      ]
    }
  ]
}