{
  "nbformat": 4,
  "nbformat_minor": 0,
  "metadata": {
    "colab": {
      "provenance": [],
      "authorship_tag": "ABX9TyNzHw1gN5eVUcbuLytwF6si",
      "include_colab_link": true
    },
    "kernelspec": {
      "name": "python3",
      "display_name": "Python 3"
    },
    "language_info": {
      "name": "python"
    }
  },
  "cells": [
    {
      "cell_type": "markdown",
      "metadata": {
        "id": "view-in-github",
        "colab_type": "text"
      },
      "source": [
        "<a href=\"https://colab.research.google.com/github/Vibhutideshmukh/python../blob/main/Loops.ipynb\" target=\"_parent\"><img src=\"https://colab.research.google.com/assets/colab-badge.svg\" alt=\"Open In Colab\"/></a>"
      ]
    },
    {
      "cell_type": "code",
      "source": [
        "got_houses = ['Stark', 'Arryn', 'Baratheon', 'Tully', 'Greyjoy', 'Lannister', 'Tyrell', 'Martell', 'Targaryen']\n",
        "for house in got_houses:\n",
        "  print(f\"House {house}\")"
      ],
      "metadata": {
        "colab": {
          "base_uri": "https://localhost:8080/"
        },
        "id": "bq80IJtxl_WG",
        "outputId": "f00f7c2c-7c50-4447-c101-e5e4050df50c"
      },
      "execution_count": null,
      "outputs": [
        {
          "output_type": "stream",
          "name": "stdout",
          "text": [
            "House Stark\n",
            "House Arryn\n",
            "House Baratheon\n",
            "House Tully\n",
            "House Greyjoy\n",
            "House Lannister\n",
            "House Tyrell\n",
            "House Martell\n",
            "House Targaryen\n"
          ]
        }
      ]
    },
    {
      "cell_type": "code",
      "source": [
        "got_houses"
      ],
      "metadata": {
        "colab": {
          "base_uri": "https://localhost:8080/"
        },
        "id": "nPldsGhQmD0V",
        "outputId": "2ee4eadf-baa0-40dd-82ab-8ea2825715d3"
      },
      "execution_count": null,
      "outputs": [
        {
          "output_type": "execute_result",
          "data": {
            "text/plain": [
              "['Stark',\n",
              " 'Arryn',\n",
              " 'Baratheon',\n",
              " 'Tully',\n",
              " 'Greyjoy',\n",
              " 'Lannister',\n",
              " 'Tyrell',\n",
              " 'Martell',\n",
              " 'Targaryen']"
            ]
          },
          "metadata": {},
          "execution_count": 3
        }
      ]
    },
    {
      "cell_type": "code",
      "source": [
        "x = 1,2\n",
        "x"
      ],
      "metadata": {
        "colab": {
          "base_uri": "https://localhost:8080/"
        },
        "id": "gwUwn-GDmHpS",
        "outputId": "4226b295-b0ae-45d1-df46-f0797eef5b1f"
      },
      "execution_count": null,
      "outputs": [
        {
          "output_type": "execute_result",
          "data": {
            "text/plain": [
              "(1, 2)"
            ]
          },
          "metadata": {},
          "execution_count": 4
        }
      ]
    },
    {
      "cell_type": "code",
      "source": [
        "list_of_numbers = [1,2,4,6,11,14,17,20]\n",
        "for number in list_of_numbers:\n",
        "  squared_number = number**2\n",
        "    print(f\"The square of {number} is {squared_number}\")\n"
      ],
      "metadata": {
        "colab": {
          "base_uri": "https://localhost:8080/",
          "height": 106
        },
        "id": "demdjBXOmMRE",
        "outputId": "81da6bd9-3919-4815-a3e1-4e5d9d884c3d"
      },
      "execution_count": null,
      "outputs": [
        {
          "output_type": "error",
          "ename": "IndentationError",
          "evalue": "unexpected indent (<ipython-input-7-adb6d4c49b00>, line 4)",
          "traceback": [
            "\u001b[0;36m  File \u001b[0;32m\"<ipython-input-7-adb6d4c49b00>\"\u001b[0;36m, line \u001b[0;32m4\u001b[0m\n\u001b[0;31m    print(f\"The square of {number} is {squared_number}\")\u001b[0m\n\u001b[0m    ^\u001b[0m\n\u001b[0;31mIndentationError\u001b[0m\u001b[0;31m:\u001b[0m unexpected indent\n"
          ]
        }
      ]
    },
    {
      "cell_type": "code",
      "source": [
        "list(enumerate(got_houses))"
      ],
      "metadata": {
        "colab": {
          "base_uri": "https://localhost:8080/"
        },
        "id": "pqgc3ouTmcUB",
        "outputId": "8b20a36b-e72a-48f6-b6d4-0618c8f2cada"
      },
      "execution_count": null,
      "outputs": [
        {
          "output_type": "execute_result",
          "data": {
            "text/plain": [
              "[(0, 'Stark'),\n",
              " (1, 'Arryn'),\n",
              " (2, 'Baratheon'),\n",
              " (3, 'Tully'),\n",
              " (4, 'Greyjoy'),\n",
              " (5, 'Lannister'),\n",
              " (6, 'Tyrell'),\n",
              " (7, 'Martell'),\n",
              " (8, 'Targaryen')]"
            ]
          },
          "metadata": {},
          "execution_count": 13
        }
      ]
    },
    {
      "cell_type": "code",
      "source": [
        "for number in range(0,10,3):\n",
        "    squared_number = number**2\n",
        "      print(f\"The square of {number} is {squared_number}\")\n"
      ],
      "metadata": {
        "colab": {
          "base_uri": "https://localhost:8080/",
          "height": 106
        },
        "id": "pKv0QLE8oMpR",
        "outputId": "fa663395-4499-421d-d792-99da4642549b"
      },
      "execution_count": null,
      "outputs": [
        {
          "output_type": "error",
          "ename": "IndentationError",
          "evalue": "unexpected indent (<ipython-input-21-115043a887d1>, line 3)",
          "traceback": [
            "\u001b[0;36m  File \u001b[0;32m\"<ipython-input-21-115043a887d1>\"\u001b[0;36m, line \u001b[0;32m3\u001b[0m\n\u001b[0;31m    print(f\"The square of {number} is {squared_number}\")\u001b[0m\n\u001b[0m    ^\u001b[0m\n\u001b[0;31mIndentationError\u001b[0m\u001b[0;31m:\u001b[0m unexpected indent\n"
          ]
        }
      ]
    },
    {
      "cell_type": "code",
      "source": [
        "list(range(10))"
      ],
      "metadata": {
        "colab": {
          "base_uri": "https://localhost:8080/"
        },
        "id": "W6rxGmf7oXuv",
        "outputId": "c1e09383-bff8-4772-cd8a-2b2ca5ca4aa7"
      },
      "execution_count": null,
      "outputs": [
        {
          "output_type": "execute_result",
          "data": {
            "text/plain": [
              "[0, 1, 2, 3, 4, 5, 6, 7, 8, 9]"
            ]
          },
          "metadata": {},
          "execution_count": 22
        }
      ]
    },
    {
      "cell_type": "code",
      "source": [
        "for i in range(2,21,2):\n",
        "      print(i)"
      ],
      "metadata": {
        "id": "8cw9kdGCooZ2",
        "outputId": "e5000465-82ad-4305-cafa-7292dd6a6662",
        "colab": {
          "base_uri": "https://localhost:8080/"
        }
      },
      "execution_count": null,
      "outputs": [
        {
          "output_type": "stream",
          "name": "stdout",
          "text": [
            "2\n",
            "4\n",
            "6\n",
            "8\n",
            "10\n",
            "12\n",
            "14\n",
            "16\n",
            "18\n",
            "20\n"
          ]
        }
      ]
    },
    {
      "cell_type": "code",
      "source": [
        "heisenberg_quote = \"It ceases to exist without me. No, you clearly don't know who you're talking to, so let me clue you in. I am not in danger\"\n",
        "words_by_walter = heisenberg_quote.split()\n",
        "print(words_by_walter)"
      ],
      "metadata": {
        "id": "1RTrHbTBosjs",
        "colab": {
          "base_uri": "https://localhost:8080/"
        },
        "outputId": "189aac97-e7a9-40e8-d53d-d36cb76e5ab9"
      },
      "execution_count": null,
      "outputs": [
        {
          "output_type": "stream",
          "name": "stdout",
          "text": [
            "['It', 'ceases', 'to', 'exist', 'without', 'me.', 'No,', 'you', 'clearly', \"don't\", 'know', 'who', \"you're\", 'talking', 'to,', 'so', 'let', 'me', 'clue', 'you', 'in.', 'I', 'am', 'not', 'in', 'danger']\n"
          ]
        }
      ]
    },
    {
      "cell_type": "code",
      "source": [
        "for index,char in enumerate(heisenberg_quote):\n",
        "    print(f\"The index is {index} and the character is {char}\")\n"
      ],
      "metadata": {
        "colab": {
          "base_uri": "https://localhost:8080/"
        },
        "id": "AiX4ZGVxpIWc",
        "outputId": "0db189c3-703d-4a9d-c870-829f8242fccd"
      },
      "execution_count": null,
      "outputs": [
        {
          "output_type": "stream",
          "name": "stdout",
          "text": [
            "The index is 0 and the character is I\n",
            "The index is 1 and the character is t\n",
            "The index is 2 and the character is  \n",
            "The index is 3 and the character is c\n",
            "The index is 4 and the character is e\n",
            "The index is 5 and the character is a\n",
            "The index is 6 and the character is s\n",
            "The index is 7 and the character is e\n",
            "The index is 8 and the character is s\n",
            "The index is 9 and the character is  \n",
            "The index is 10 and the character is t\n",
            "The index is 11 and the character is o\n",
            "The index is 12 and the character is  \n",
            "The index is 13 and the character is e\n",
            "The index is 14 and the character is x\n",
            "The index is 15 and the character is i\n",
            "The index is 16 and the character is s\n",
            "The index is 17 and the character is t\n",
            "The index is 18 and the character is  \n",
            "The index is 19 and the character is w\n",
            "The index is 20 and the character is i\n",
            "The index is 21 and the character is t\n",
            "The index is 22 and the character is h\n",
            "The index is 23 and the character is o\n",
            "The index is 24 and the character is u\n",
            "The index is 25 and the character is t\n",
            "The index is 26 and the character is  \n",
            "The index is 27 and the character is m\n",
            "The index is 28 and the character is e\n",
            "The index is 29 and the character is .\n",
            "The index is 30 and the character is  \n",
            "The index is 31 and the character is N\n",
            "The index is 32 and the character is o\n",
            "The index is 33 and the character is ,\n",
            "The index is 34 and the character is  \n",
            "The index is 35 and the character is y\n",
            "The index is 36 and the character is o\n",
            "The index is 37 and the character is u\n",
            "The index is 38 and the character is  \n",
            "The index is 39 and the character is c\n",
            "The index is 40 and the character is l\n",
            "The index is 41 and the character is e\n",
            "The index is 42 and the character is a\n",
            "The index is 43 and the character is r\n",
            "The index is 44 and the character is l\n",
            "The index is 45 and the character is y\n",
            "The index is 46 and the character is  \n",
            "The index is 47 and the character is d\n",
            "The index is 48 and the character is o\n",
            "The index is 49 and the character is n\n",
            "The index is 50 and the character is '\n",
            "The index is 51 and the character is t\n",
            "The index is 52 and the character is  \n",
            "The index is 53 and the character is k\n",
            "The index is 54 and the character is n\n",
            "The index is 55 and the character is o\n",
            "The index is 56 and the character is w\n",
            "The index is 57 and the character is  \n",
            "The index is 58 and the character is w\n",
            "The index is 59 and the character is h\n",
            "The index is 60 and the character is o\n",
            "The index is 61 and the character is  \n",
            "The index is 62 and the character is y\n",
            "The index is 63 and the character is o\n",
            "The index is 64 and the character is u\n",
            "The index is 65 and the character is '\n",
            "The index is 66 and the character is r\n",
            "The index is 67 and the character is e\n",
            "The index is 68 and the character is  \n",
            "The index is 69 and the character is t\n",
            "The index is 70 and the character is a\n",
            "The index is 71 and the character is l\n",
            "The index is 72 and the character is k\n",
            "The index is 73 and the character is i\n",
            "The index is 74 and the character is n\n",
            "The index is 75 and the character is g\n",
            "The index is 76 and the character is  \n",
            "The index is 77 and the character is t\n",
            "The index is 78 and the character is o\n",
            "The index is 79 and the character is ,\n",
            "The index is 80 and the character is  \n",
            "The index is 81 and the character is s\n",
            "The index is 82 and the character is o\n",
            "The index is 83 and the character is  \n",
            "The index is 84 and the character is l\n",
            "The index is 85 and the character is e\n",
            "The index is 86 and the character is t\n",
            "The index is 87 and the character is  \n",
            "The index is 88 and the character is m\n",
            "The index is 89 and the character is e\n",
            "The index is 90 and the character is  \n",
            "The index is 91 and the character is c\n",
            "The index is 92 and the character is l\n",
            "The index is 93 and the character is u\n",
            "The index is 94 and the character is e\n",
            "The index is 95 and the character is  \n",
            "The index is 96 and the character is y\n",
            "The index is 97 and the character is o\n",
            "The index is 98 and the character is u\n",
            "The index is 99 and the character is  \n",
            "The index is 100 and the character is i\n",
            "The index is 101 and the character is n\n",
            "The index is 102 and the character is .\n",
            "The index is 103 and the character is  \n",
            "The index is 104 and the character is I\n",
            "The index is 105 and the character is  \n",
            "The index is 106 and the character is a\n",
            "The index is 107 and the character is m\n",
            "The index is 108 and the character is  \n",
            "The index is 109 and the character is n\n",
            "The index is 110 and the character is o\n",
            "The index is 111 and the character is t\n",
            "The index is 112 and the character is  \n",
            "The index is 113 and the character is i\n",
            "The index is 114 and the character is n\n",
            "The index is 115 and the character is  \n",
            "The index is 116 and the character is d\n",
            "The index is 117 and the character is a\n",
            "The index is 118 and the character is n\n",
            "The index is 119 and the character is g\n",
            "The index is 120 and the character is e\n",
            "The index is 121 and the character is r\n"
          ]
        }
      ]
    },
    {
      "cell_type": "code",
      "source": [
        "for index,char in enumerate(heisenberg_quote):\n",
        "    print(f\"The index is {index} and the character is {char}\")\n"
      ],
      "metadata": {
        "id": "F9oxRQc5pOvy",
        "outputId": "b1c9eeaf-44b7-4f87-987c-ed30254a217d",
        "colab": {
          "base_uri": "https://localhost:8080/"
        }
      },
      "execution_count": null,
      "outputs": [
        {
          "output_type": "stream",
          "name": "stdout",
          "text": [
            "The index is 0 and the character is I\n",
            "The index is 1 and the character is t\n",
            "The index is 2 and the character is  \n",
            "The index is 3 and the character is c\n",
            "The index is 4 and the character is e\n",
            "The index is 5 and the character is a\n",
            "The index is 6 and the character is s\n",
            "The index is 7 and the character is e\n",
            "The index is 8 and the character is s\n",
            "The index is 9 and the character is  \n",
            "The index is 10 and the character is t\n",
            "The index is 11 and the character is o\n",
            "The index is 12 and the character is  \n",
            "The index is 13 and the character is e\n",
            "The index is 14 and the character is x\n",
            "The index is 15 and the character is i\n",
            "The index is 16 and the character is s\n",
            "The index is 17 and the character is t\n",
            "The index is 18 and the character is  \n",
            "The index is 19 and the character is w\n",
            "The index is 20 and the character is i\n",
            "The index is 21 and the character is t\n",
            "The index is 22 and the character is h\n",
            "The index is 23 and the character is o\n",
            "The index is 24 and the character is u\n",
            "The index is 25 and the character is t\n",
            "The index is 26 and the character is  \n",
            "The index is 27 and the character is m\n",
            "The index is 28 and the character is e\n",
            "The index is 29 and the character is .\n",
            "The index is 30 and the character is  \n",
            "The index is 31 and the character is N\n",
            "The index is 32 and the character is o\n",
            "The index is 33 and the character is ,\n",
            "The index is 34 and the character is  \n",
            "The index is 35 and the character is y\n",
            "The index is 36 and the character is o\n",
            "The index is 37 and the character is u\n",
            "The index is 38 and the character is  \n",
            "The index is 39 and the character is c\n",
            "The index is 40 and the character is l\n",
            "The index is 41 and the character is e\n",
            "The index is 42 and the character is a\n",
            "The index is 43 and the character is r\n",
            "The index is 44 and the character is l\n",
            "The index is 45 and the character is y\n",
            "The index is 46 and the character is  \n",
            "The index is 47 and the character is d\n",
            "The index is 48 and the character is o\n",
            "The index is 49 and the character is n\n",
            "The index is 50 and the character is '\n",
            "The index is 51 and the character is t\n",
            "The index is 52 and the character is  \n",
            "The index is 53 and the character is k\n",
            "The index is 54 and the character is n\n",
            "The index is 55 and the character is o\n",
            "The index is 56 and the character is w\n",
            "The index is 57 and the character is  \n",
            "The index is 58 and the character is w\n",
            "The index is 59 and the character is h\n",
            "The index is 60 and the character is o\n",
            "The index is 61 and the character is  \n",
            "The index is 62 and the character is y\n",
            "The index is 63 and the character is o\n",
            "The index is 64 and the character is u\n",
            "The index is 65 and the character is '\n",
            "The index is 66 and the character is r\n",
            "The index is 67 and the character is e\n",
            "The index is 68 and the character is  \n",
            "The index is 69 and the character is t\n",
            "The index is 70 and the character is a\n",
            "The index is 71 and the character is l\n",
            "The index is 72 and the character is k\n",
            "The index is 73 and the character is i\n",
            "The index is 74 and the character is n\n",
            "The index is 75 and the character is g\n",
            "The index is 76 and the character is  \n",
            "The index is 77 and the character is t\n",
            "The index is 78 and the character is o\n",
            "The index is 79 and the character is ,\n",
            "The index is 80 and the character is  \n",
            "The index is 81 and the character is s\n",
            "The index is 82 and the character is o\n",
            "The index is 83 and the character is  \n",
            "The index is 84 and the character is l\n",
            "The index is 85 and the character is e\n",
            "The index is 86 and the character is t\n",
            "The index is 87 and the character is  \n",
            "The index is 88 and the character is m\n",
            "The index is 89 and the character is e\n",
            "The index is 90 and the character is  \n",
            "The index is 91 and the character is c\n",
            "The index is 92 and the character is l\n",
            "The index is 93 and the character is u\n",
            "The index is 94 and the character is e\n",
            "The index is 95 and the character is  \n",
            "The index is 96 and the character is y\n",
            "The index is 97 and the character is o\n",
            "The index is 98 and the character is u\n",
            "The index is 99 and the character is  \n",
            "The index is 100 and the character is i\n",
            "The index is 101 and the character is n\n",
            "The index is 102 and the character is .\n",
            "The index is 103 and the character is  \n",
            "The index is 104 and the character is I\n",
            "The index is 105 and the character is  \n",
            "The index is 106 and the character is a\n",
            "The index is 107 and the character is m\n",
            "The index is 108 and the character is  \n",
            "The index is 109 and the character is n\n",
            "The index is 110 and the character is o\n",
            "The index is 111 and the character is t\n",
            "The index is 112 and the character is  \n",
            "The index is 113 and the character is i\n",
            "The index is 114 and the character is n\n",
            "The index is 115 and the character is  \n",
            "The index is 116 and the character is d\n",
            "The index is 117 and the character is a\n",
            "The index is 118 and the character is n\n",
            "The index is 119 and the character is g\n",
            "The index is 120 and the character is e\n",
            "The index is 121 and the character is r\n"
          ]
        }
      ]
    },
    {
      "cell_type": "code",
      "source": [
        "country_city_river_list = [('India','New Delhi','Ganga',),('Australia','Canberra','Rovers'),('United States','Wahington DC','Missouri'),('England','London','Thames')]\n",
        "for country,city,river in country_city_river_list:\n",
        "  print(f\"The capital of {country} is {city} and it also has the river {river}.\")\n"
      ],
      "metadata": {
        "colab": {
          "base_uri": "https://localhost:8080/"
        },
        "id": "byUijzYApgCJ",
        "outputId": "60462c81-fa91-4b43-ad1f-2bb5a64c283f"
      },
      "execution_count": null,
      "outputs": [
        {
          "output_type": "stream",
          "name": "stdout",
          "text": [
            "The capital of India is New Delhi and it also has the river Ganga.\n",
            "The capital of Australia is Canberra and it also has the river Rovers.\n",
            "The capital of United States is Wahington DC and it also has the river Missouri.\n",
            "The capital of England is London and it also has the river Thames.\n"
          ]
        }
      ]
    },
    {
      "cell_type": "code",
      "source": [
        "for word in words_by_walter:\n",
        "    if word in ['I','me.']:\n",
        "         print(f\"The word is {word}\")"
      ],
      "metadata": {
        "colab": {
          "base_uri": "https://localhost:8080/"
        },
        "id": "iqLTWDnipltK",
        "outputId": "7cffd65c-4ddf-4a4b-f85e-82b2ebc1a141"
      },
      "execution_count": null,
      "outputs": [
        {
          "output_type": "stream",
          "name": "stdout",
          "text": [
            "The word is me.\n",
            "The word is I\n"
          ]
        }
      ]
    },
    {
      "cell_type": "code",
      "source": [
        "days = ('Monday', 'Tuesday', 'Wednesday', 'Thursday', 'Friday', 'Saturday', 'Sunday')\n",
        "for day in days:\n",
        "  print(f\"Today is {day}\")"
      ],
      "metadata": {
        "id": "o-X5DAixpsV0",
        "colab": {
          "base_uri": "https://localhost:8080/"
        },
        "outputId": "d73b616b-eca8-4883-fe4d-88f55bc1161e"
      },
      "execution_count": null,
      "outputs": [
        {
          "output_type": "stream",
          "name": "stdout",
          "text": [
            "Today is Monday\n",
            "Today is Tuesday\n",
            "Today is Wednesday\n",
            "Today is Thursday\n",
            "Today is Friday\n",
            "Today is Saturday\n",
            "Today is Sunday\n"
          ]
        }
      ]
    },
    {
      "cell_type": "code",
      "source": [
        "for elem in {1,2,3}:\n",
        "    print(elem)"
      ],
      "metadata": {
        "colab": {
          "base_uri": "https://localhost:8080/"
        },
        "id": "l8aOEohGp53I",
        "outputId": "7ea7c7b3-1c2e-4c1b-82c8-22d1b02e4173"
      },
      "execution_count": null,
      "outputs": [
        {
          "output_type": "stream",
          "name": "stdout",
          "text": [
            "1\n",
            "2\n",
            "3\n"
          ]
        }
      ]
    },
    {
      "cell_type": "code",
      "source": [
        "country_city_dict = {1:\"India\",2:\"USA\"}\n",
        "for item in country_city_dict:\n",
        "  print(item,country_city_dict[item])\n"
      ],
      "metadata": {
        "colab": {
          "base_uri": "https://localhost:8080/"
        },
        "id": "3nWmWVgZp_Ux",
        "outputId": "e725da23-1805-4146-ec73-955c3fe33e98"
      },
      "execution_count": null,
      "outputs": [
        {
          "output_type": "stream",
          "name": "stdout",
          "text": [
            "1 India\n",
            "2 USA\n"
          ]
        }
      ]
    },
    {
      "cell_type": "code",
      "source": [
        "for country, city in country_city_dict.items():\n",
        "    print(f\"The capital of {country} is {city}\")\n"
      ],
      "metadata": {
        "id": "jvFVf5CNqFKv",
        "colab": {
          "base_uri": "https://localhost:8080/"
        },
        "outputId": "06878371-f61e-4f4c-ef3f-fed7139536cf"
      },
      "execution_count": null,
      "outputs": [
        {
          "output_type": "stream",
          "name": "stdout",
          "text": [
            "The capital of 1 is India\n",
            "The capital of 2 is USA\n"
          ]
        }
      ]
    },
    {
      "cell_type": "code",
      "source": [
        "\n",
        "x= 0\n",
        "while x < 10:\n",
        "  print('x is currently: ',x)\n",
        "    print('x is still less than 10, adding 1 to x')\n",
        "      x= x+1"
      ],
      "metadata": {
        "colab": {
          "base_uri": "https://localhost:8080/",
          "height": 106
        },
        "id": "NkP77PYNqT9J",
        "outputId": "967dc17d-d933-4585-ee88-953284eb6629"
      },
      "execution_count": null,
      "outputs": [
        {
          "output_type": "error",
          "ename": "IndentationError",
          "evalue": "unexpected indent (<ipython-input-40-558cfa99f859>, line 4)",
          "traceback": [
            "\u001b[0;36m  File \u001b[0;32m\"<ipython-input-40-558cfa99f859>\"\u001b[0;36m, line \u001b[0;32m4\u001b[0m\n\u001b[0;31m    print('x is still less than 10, adding 1 to x')\u001b[0m\n\u001b[0m    ^\u001b[0m\n\u001b[0;31mIndentationError\u001b[0m\u001b[0;31m:\u001b[0m unexpected indent\n"
          ]
        }
      ]
    },
    {
      "cell_type": "code",
      "source": [
        "\n",
        "x= 0\n",
        "while x<5:\n",
        "  print('x is currently: ',x)\n",
        "    print('x is still less than 10, adding 1 to x')\n",
        "      x+=1\n",
        "      print(\"All done\")\n",
        "      print(\"I am done with the iterations\")\n"
      ],
      "metadata": {
        "id": "tX6KQQmWqc_1",
        "outputId": "3616aa6b-3266-4a07-d784-11a19760b2b4",
        "colab": {
          "base_uri": "https://localhost:8080/",
          "height": 106
        }
      },
      "execution_count": null,
      "outputs": [
        {
          "output_type": "error",
          "ename": "IndentationError",
          "evalue": "unexpected indent (<ipython-input-44-393d79a7241a>, line 4)",
          "traceback": [
            "\u001b[0;36m  File \u001b[0;32m\"<ipython-input-44-393d79a7241a>\"\u001b[0;36m, line \u001b[0;32m4\u001b[0m\n\u001b[0;31m    print('x is still less than 10, adding 1 to x')\u001b[0m\n\u001b[0m    ^\u001b[0m\n\u001b[0;31mIndentationError\u001b[0m\u001b[0;31m:\u001b[0m unexpected indent\n"
          ]
        }
      ]
    }
  ]
}